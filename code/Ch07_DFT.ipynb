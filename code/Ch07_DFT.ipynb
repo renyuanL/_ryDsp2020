{
 "cells": [
  {
   "cell_type": "markdown",
   "metadata": {},
   "source": [
    "# DFT 補充 ....\n",
    "\n",
    "## Chapter 7  Discrete Fourier Transform\n",
    "\n",
    "https://en.wikipedia.org/wiki/Discrete_Fourier_transform\n",
    "\n",
    "- 正轉換 (DFT)\n",
    "\n",
    "for $k \\in [0,...., N-1]$\n",
    "![](https://wikimedia.org/api/rest_v1/media/math/render/svg/18b0e4c82f095e3789e51ad8c2c6685306b5662b)\n",
    "\n",
    "----\n",
    "\n",
    "- 逆轉換 (inverse DFT)\n",
    "\n",
    "for $n \\in [0,...., N-1]$\n",
    "![](https://wikimedia.org/api/rest_v1/media/math/render/svg/230e50dc8318b8806b7fa8e33d2662aca6816347)\n",
    "\n",
    "----\n",
    "\n",
    "where,\n",
    "$ i = j = \\sqrt{-1} $\n",
    "\n",
    "and,\n",
    "\n",
    "$\n",
    "e^{iφ} = cos(φ) + i \\cdot sin(φ) \n",
    "$\n",
    "\n",
    "You can see the derivation at http://en.wikipedia.org/wiki/Euler's_formula.\n",
    "\n",
    "![](https://upload.wikimedia.org/wikipedia/commons/thumb/7/71/Euler%27s_formula.svg/1280px-Euler%27s_formula.svg.png)"
   ]
  },
  {
   "cell_type": "code",
   "execution_count": 67,
   "metadata": {},
   "outputs": [
    {
     "data": {
      "text/plain": [
       "3.141592653589793"
      ]
     },
     "execution_count": 67,
     "metadata": {},
     "output_type": "execute_result"
    }
   ],
   "source": [
    "import numpy as np\n",
    "import scipy.fftpack as fp\n",
    "\n",
    "import scipy.linalg  as lg\n",
    "\n",
    "np.set_printoptions(precision=3, suppress=True)\n",
    "π= np.pi\n",
    "π"
   ]
  },
  {
   "cell_type": "code",
   "execution_count": 68,
   "metadata": {},
   "outputs": [
    {
     "data": {
      "text/plain": [
       "(array([1, 0, 0, 0]),\n",
       " array([1.-0.j, 1.+0.j, 1.-0.j, 1.-0.j]),\n",
       " array([1.+0.j, 0.+0.j, 0.-0.j, 0.+0.j]))"
      ]
     },
     "execution_count": 68,
     "metadata": {},
     "output_type": "execute_result"
    }
   ],
   "source": [
    "x= np.array([1,0,0,0])\n",
    "X= fp.fft(x)\n",
    "xx= fp.ifft(X)\n",
    "x, X, xx"
   ]
  },
  {
   "cell_type": "code",
   "execution_count": 69,
   "metadata": {},
   "outputs": [
    {
     "data": {
      "text/plain": [
       "array([[ 1.+0.j,  1.+0.j,  1.+0.j,  1.+0.j],\n",
       "       [ 1.+0.j,  0.-1.j, -1.-0.j, -0.+1.j],\n",
       "       [ 1.+0.j, -1.-0.j,  1.+0.j, -1.-0.j],\n",
       "       [ 1.+0.j, -0.+1.j, -1.-0.j,  0.-1.j]])"
      ]
     },
     "execution_count": 69,
     "metadata": {},
     "output_type": "execute_result"
    }
   ],
   "source": [
    "N= x.size\n",
    "n= np.arange(N).reshape(-1,1)# rows= N, cols=1\n",
    "k= np.arange(N).reshape(1,-1)# 1 x N\n",
    "dftMat= np.exp(-1j*2*π/N*n@k)\n",
    "dftMat"
   ]
  },
  {
   "cell_type": "code",
   "execution_count": 70,
   "metadata": {},
   "outputs": [
    {
     "data": {
      "text/plain": [
       "array([1.+0.j, 1.+0.j, 1.+0.j, 1.+0.j])"
      ]
     },
     "execution_count": 70,
     "metadata": {},
     "output_type": "execute_result"
    }
   ],
   "source": [
    "X= x@dftMat  # x.shape= (1,N); dftMat.shape==(N,N)\n",
    "X # X.shape= (N,N)"
   ]
  },
  {
   "cell_type": "code",
   "execution_count": 71,
   "metadata": {},
   "outputs": [
    {
     "data": {
      "text/plain": [
       "array([[ 1.+0.j,  1.+0.j,  1.+0.j,  1.+0.j],\n",
       "       [ 1.+0.j,  0.-1.j, -1.-0.j, -0.+1.j],\n",
       "       [ 1.+0.j, -1.-0.j,  1.+0.j, -1.-0.j],\n",
       "       [ 1.+0.j, -0.+1.j, -1.-0.j,  0.-1.j]])"
      ]
     },
     "execution_count": 71,
     "metadata": {},
     "output_type": "execute_result"
    }
   ],
   "source": [
    "dftMat"
   ]
  },
  {
   "cell_type": "code",
   "execution_count": 72,
   "metadata": {},
   "outputs": [
    {
     "data": {
      "text/plain": [
       "array([[ 0.25+0.j  ,  0.25+0.j  ,  0.25-0.j  ,  0.25-0.j  ],\n",
       "       [ 0.25-0.j  ,  0.  +0.25j, -0.25+0.j  , -0.  -0.25j],\n",
       "       [ 0.25-0.j  , -0.25+0.j  ,  0.25-0.j  , -0.25+0.j  ],\n",
       "       [ 0.25-0.j  , -0.  -0.25j, -0.25+0.j  ,  0.  +0.25j]])"
      ]
     },
     "execution_count": 72,
     "metadata": {},
     "output_type": "execute_result"
    }
   ],
   "source": [
    "idftMat= lg.inv(dftMat) #np.linalg.inv(dftMat)\n",
    "idftMat"
   ]
  },
  {
   "cell_type": "code",
   "execution_count": 73,
   "metadata": {},
   "outputs": [
    {
     "name": "stdout",
     "output_type": "stream",
     "text": [
      "11 µs ± 122 ns per loop (mean ± std. dev. of 7 runs, 100000 loops each)\n"
     ]
    }
   ],
   "source": [
    "%timeit idftMat= lg.inv(dftMat)\n",
    "# slow"
   ]
  },
  {
   "cell_type": "code",
   "execution_count": 74,
   "metadata": {},
   "outputs": [
    {
     "name": "stdout",
     "output_type": "stream",
     "text": [
      "609 ns ± 3.36 ns per loop (mean ± std. dev. of 7 runs, 1000000 loops each)\n"
     ]
    }
   ],
   "source": [
    "%timeit idftMat= dftMat.conjugate()\n",
    "# fast"
   ]
  },
  {
   "cell_type": "code",
   "execution_count": 75,
   "metadata": {},
   "outputs": [
    {
     "data": {
      "text/plain": [
       "17.713365539452496"
      ]
     },
     "execution_count": 75,
     "metadata": {},
     "output_type": "execute_result"
    }
   ],
   "source": [
    "11e-6/621e-9"
   ]
  },
  {
   "cell_type": "code",
   "execution_count": 76,
   "metadata": {},
   "outputs": [
    {
     "data": {
      "text/plain": [
       "array([[ True,  True,  True,  True],\n",
       "       [ True,  True,  True,  True],\n",
       "       [ True,  True,  True,  True],\n",
       "       [ True,  True,  True,  True]])"
      ]
     },
     "execution_count": 76,
     "metadata": {},
     "output_type": "execute_result"
    }
   ],
   "source": [
    "np.isclose(lg.inv(dftMat), dftMat.conjugate()/N)"
   ]
  },
  {
   "cell_type": "code",
   "execution_count": 77,
   "metadata": {},
   "outputs": [
    {
     "data": {
      "text/plain": [
       "array([[ 1.-0.j, -0.+0.j,  0.-0.j,  0.+0.j],\n",
       "       [-0.+0.j,  1.-0.j,  0.-0.j,  0.+0.j],\n",
       "       [ 0.+0.j,  0.+0.j,  1.-0.j, -0.-0.j],\n",
       "       [ 0.+0.j,  0.-0.j,  0.+0.j,  1.-0.j]])"
      ]
     },
     "execution_count": 77,
     "metadata": {},
     "output_type": "execute_result"
    }
   ],
   "source": [
    "dftMat@lg.inv(dftMat)"
   ]
  },
  {
   "cell_type": "code",
   "execution_count": 78,
   "metadata": {},
   "outputs": [
    {
     "data": {
      "text/plain": [
       "array([[ 1.+0.j, -0.+0.j,  0.+0.j,  0.+0.j],\n",
       "       [-0.-0.j,  1.+0.j, -0.+0.j,  0.+0.j],\n",
       "       [ 0.-0.j, -0.-0.j,  1.+0.j, -0.+0.j],\n",
       "       [ 0.-0.j,  0.-0.j, -0.-0.j,  1.+0.j]])"
      ]
     },
     "execution_count": 78,
     "metadata": {},
     "output_type": "execute_result"
    }
   ],
   "source": [
    "dftMat@dftMat.conjugate()/N"
   ]
  },
  {
   "cell_type": "code",
   "execution_count": null,
   "metadata": {},
   "outputs": [],
   "source": []
  },
  {
   "cell_type": "code",
   "execution_count": 79,
   "metadata": {},
   "outputs": [
    {
     "data": {
      "text/plain": [
       "array([[ 0.25-0.j  ,  0.25-0.j  ,  0.25-0.j  ,  0.25-0.j  ],\n",
       "       [ 0.25-0.j  ,  0.  +0.25j, -0.25+0.j  , -0.  -0.25j],\n",
       "       [ 0.25-0.j  , -0.25+0.j  ,  0.25-0.j  , -0.25+0.j  ],\n",
       "       [ 0.25-0.j  , -0.  -0.25j, -0.25+0.j  ,  0.  +0.25j]])"
      ]
     },
     "execution_count": 79,
     "metadata": {},
     "output_type": "execute_result"
    }
   ],
   "source": [
    "idftMat2= dftMat.T.conj() /N\n",
    "idftMat2"
   ]
  },
  {
   "cell_type": "code",
   "execution_count": 80,
   "metadata": {},
   "outputs": [
    {
     "data": {
      "text/plain": [
       "array([ 1.+0.j, -0.+0.j,  0.+0.j,  0.+0.j])"
      ]
     },
     "execution_count": 80,
     "metadata": {},
     "output_type": "execute_result"
    }
   ],
   "source": [
    "xx2= X@idftMat2\n",
    "xx2"
   ]
  },
  {
   "cell_type": "code",
   "execution_count": 81,
   "metadata": {},
   "outputs": [
    {
     "data": {
      "text/plain": [
       "array([[ True,  True,  True,  True],\n",
       "       [ True,  True,  True,  True],\n",
       "       [ True,  True,  True,  True],\n",
       "       [ True,  True,  True,  True]])"
      ]
     },
     "execution_count": 81,
     "metadata": {},
     "output_type": "execute_result"
    }
   ],
   "source": [
    "np.isclose(idftMat, idftMat2)"
   ]
  },
  {
   "cell_type": "code",
   "execution_count": 82,
   "metadata": {},
   "outputs": [
    {
     "data": {
      "text/plain": [
       "array([[ 1.+0.j, -0.-0.j,  0.-0.j,  0.-0.j],\n",
       "       [-0.+0.j,  1.+0.j, -0.-0.j,  0.-0.j],\n",
       "       [ 0.+0.j, -0.+0.j,  1.+0.j, -0.-0.j],\n",
       "       [ 0.+0.j,  0.+0.j, -0.+0.j,  1.+0.j]])"
      ]
     },
     "execution_count": 82,
     "metadata": {},
     "output_type": "execute_result"
    }
   ],
   "source": [
    "dftMat.conj().transpose()/N \\\n",
    "@ dftMat"
   ]
  },
  {
   "cell_type": "code",
   "execution_count": 83,
   "metadata": {},
   "outputs": [
    {
     "data": {
      "text/plain": [
       "array([[1., 0., 0., 0.],\n",
       "       [0., 1., 0., 0.],\n",
       "       [0., 0., 1., 0.],\n",
       "       [0., 0., 0., 1.]])"
      ]
     },
     "execution_count": 83,
     "metadata": {},
     "output_type": "execute_result"
    }
   ],
   "source": [
    "np.eye(4)"
   ]
  },
  {
   "cell_type": "code",
   "execution_count": null,
   "metadata": {},
   "outputs": [],
   "source": []
  },
  {
   "cell_type": "code",
   "execution_count": 84,
   "metadata": {},
   "outputs": [
    {
     "data": {
      "text/plain": [
       "-2.449293598294707e-16j"
      ]
     },
     "execution_count": 84,
     "metadata": {},
     "output_type": "execute_result"
    }
   ],
   "source": [
    "dftMat[1,:].conj() @ dftMat[:,3].T"
   ]
  },
  {
   "cell_type": "code",
   "execution_count": 85,
   "metadata": {},
   "outputs": [
    {
     "data": {
      "text/plain": [
       "array([[0.114+0.794j, 0.949+0.588j, 0.527+0.282j, 0.889+0.864j],\n",
       "       [0.772+0.577j, 0.421+0.356j, 0.873+0.844j, 0.292+0.259j],\n",
       "       [0.607+0.283j, 0.455+0.529j, 0.031+0.684j, 0.029+0.911j],\n",
       "       [0.646+0.454j, 0.446+0.522j, 0.579+0.761j, 0.053+0.537j]])"
      ]
     },
     "execution_count": 85,
     "metadata": {},
     "output_type": "execute_result"
    }
   ],
   "source": [
    "N=4\n",
    "W= np.random.random([N,N]) + 1j* np.random.random([N,N]) \n",
    "W"
   ]
  },
  {
   "cell_type": "code",
   "execution_count": 86,
   "metadata": {},
   "outputs": [
    {
     "data": {
      "text/plain": [
       "array([[-0.035-0.17j ,  2.011-2.023j,  2.123-0.074j, -3.351+2.193j],\n",
       "       [-0.099-1.121j, -6.211+1.845j, -3.185-0.219j,  9.575-1.474j],\n",
       "       [-0.144+0.576j,  1.184+1.186j, -0.834+0.856j, -0.309-2.623j],\n",
       "       [ 0.822+0.22j ,  2.574-2.974j,  2.001-1.731j, -5.065+4.521j]])"
      ]
     },
     "execution_count": 86,
     "metadata": {},
     "output_type": "execute_result"
    }
   ],
   "source": [
    "iW= lg.inv(W)\n",
    "iW"
   ]
  },
  {
   "cell_type": "code",
   "execution_count": 87,
   "metadata": {},
   "outputs": [
    {
     "data": {
      "text/plain": [
       "array([[ 1.-0.j,  0.+0.j, -0.-0.j,  0.+0.j],\n",
       "       [ 0.+0.j,  1.+0.j, -0.-0.j, -0.+0.j],\n",
       "       [-0.+0.j,  0.+0.j,  1.-0.j,  0.+0.j],\n",
       "       [-0.+0.j,  0.+0.j,  0.-0.j,  1.+0.j]])"
      ]
     },
     "execution_count": 87,
     "metadata": {},
     "output_type": "execute_result"
    }
   ],
   "source": [
    "W@iW"
   ]
  },
  {
   "cell_type": "code",
   "execution_count": 88,
   "metadata": {},
   "outputs": [
    {
     "name": "stdout",
     "output_type": "stream",
     "text": [
      "88.6 ms ± 420 µs per loop (mean ± std. dev. of 7 runs, 10 loops each)\n"
     ]
    }
   ],
   "source": [
    "\n",
    "N=1024\n",
    "W= np.random.random([N,N]) + 1j* np.random.random([N,N]) \n",
    "%timeit iW= lg.inv(W)\n",
    "#W, iW, W@iW #, np.allclose(W@iW, np.eye(N))"
   ]
  },
  {
   "cell_type": "code",
   "execution_count": 89,
   "metadata": {},
   "outputs": [
    {
     "name": "stdout",
     "output_type": "stream",
     "text": [
      "5.84 ms ± 54.3 µs per loop (mean ± std. dev. of 7 runs, 100 loops each)\n"
     ]
    }
   ],
   "source": [
    "\n",
    "N=1024\n",
    "W= np.random.random([N,N]) + 1j* np.random.random([N,N]) \n",
    "%timeit tW= W.conj()"
   ]
  },
  {
   "cell_type": "code",
   "execution_count": null,
   "metadata": {},
   "outputs": [],
   "source": []
  },
  {
   "cell_type": "code",
   "execution_count": null,
   "metadata": {},
   "outputs": [],
   "source": []
  },
  {
   "cell_type": "code",
   "execution_count": 90,
   "metadata": {},
   "outputs": [],
   "source": [
    "N= 1024\n",
    "x= np.random.random(N)\n",
    "\n",
    "def ryDft(x):\n",
    "    n= np.arange(N).reshape(-1,1)\n",
    "    k= np.arange(N).reshape(1,-1)\n",
    "    \n",
    "    dftMat= np.exp(-1j*2*π/N*n@k)\n",
    "    \n",
    "    X= x @ dftMat\n",
    "    \n",
    "    return X\n",
    "\n"
   ]
  },
  {
   "cell_type": "code",
   "execution_count": 91,
   "metadata": {},
   "outputs": [
    {
     "name": "stdout",
     "output_type": "stream",
     "text": [
      "330 µs ± 4.56 µs per loop (mean ± std. dev. of 7 runs, 1000 loops each)\n"
     ]
    }
   ],
   "source": [
    "## %timeit X= ryDft(x)\n",
    "\n",
    "n= np.arange(N).reshape(-1,1)\n",
    "k= np.arange(N).reshape(1,-1)\n",
    "\n",
    "dftMat= np.exp(-1j*2*π/N*n@k)\n",
    "\n",
    "%timeit X= x @ dftMat\n",
    "# 880 µs "
   ]
  },
  {
   "cell_type": "code",
   "execution_count": 92,
   "metadata": {},
   "outputs": [
    {
     "name": "stdout",
     "output_type": "stream",
     "text": [
      "11.3 µs ± 72.8 ns per loop (mean ± std. dev. of 7 runs, 100000 loops each)\n"
     ]
    }
   ],
   "source": [
    "%timeit X1= fp.fft(x)"
   ]
  },
  {
   "cell_type": "code",
   "execution_count": 93,
   "metadata": {},
   "outputs": [
    {
     "data": {
      "text/plain": [
       "(37.9646017699115, 147.73197218702984)"
      ]
     },
     "execution_count": 93,
     "metadata": {},
     "output_type": "execute_result"
    }
   ],
   "source": [
    "858 /22.6, (N*N) / (N*np.log(N))"
   ]
  },
  {
   "cell_type": "code",
   "execution_count": 94,
   "metadata": {},
   "outputs": [],
   "source": [
    "idftMat = dftMat.T.conj()/N"
   ]
  },
  {
   "cell_type": "code",
   "execution_count": 95,
   "metadata": {},
   "outputs": [
    {
     "name": "stdout",
     "output_type": "stream",
     "text": [
      "96.4 ms ± 4.96 ms per loop (mean ± std. dev. of 7 runs, 10 loops each)\n"
     ]
    }
   ],
   "source": [
    "%timeit dftMat_inv= lg.inv(dftMat)\n",
    "# 91.4 ms ± 4.55 ms per loop (mean ± std. dev. of 7 runs, 10 loops each)"
   ]
  },
  {
   "cell_type": "code",
   "execution_count": 96,
   "metadata": {},
   "outputs": [
    {
     "name": "stdout",
     "output_type": "stream",
     "text": [
      "5.8 ms ± 82.5 µs per loop (mean ± std. dev. of 7 runs, 100 loops each)\n"
     ]
    }
   ],
   "source": [
    "%timeit dftMat_transconj= dftMat.T.conj()\n",
    "# 5.93 ms ± 31.5 µs per loop (mean ± std. dev. of 7 runs, 100 loops each)\n"
   ]
  },
  {
   "cell_type": "code",
   "execution_count": 97,
   "metadata": {},
   "outputs": [
    {
     "data": {
      "text/plain": [
       "15.413153456998316"
      ]
     },
     "execution_count": 97,
     "metadata": {},
     "output_type": "execute_result"
    }
   ],
   "source": [
    "91.4/5.93 # == 15.41\n",
    "# when N=1024, .inv() / .T.conj() = 15 times slower"
   ]
  },
  {
   "cell_type": "code",
   "execution_count": 98,
   "metadata": {},
   "outputs": [
    {
     "data": {
      "text/plain": [
       "(array([24.   -0.j, -6.828+0.j,  0.   -0.j, -1.172+0.j,  0.   -0.j,\n",
       "        -1.172-0.j,  0.   +0.j, -6.828-0.j]),\n",
       " array([24.   , -6.828,  0.   , -1.172,  0.   ]))"
      ]
     },
     "execution_count": 98,
     "metadata": {},
     "output_type": "execute_result"
    }
   ],
   "source": [
    "# DFT (N-point)\n",
    "# DCT- type1 (M+1) point\n",
    "# where M= N/2\n",
    "# and input to DFT is appended to be even-symmetric\n",
    "# x8points= [1,2,3,4,5,4,3,2]\n",
    "# x5points= [1,2,3,4,5]\n",
    "# DCT(x5points)[k] == DFT(x8points)[k], for k in [0,1,2,3,4]\n",
    "\n",
    "x8points= np.array([1,2,3,4,5,4,3,2])\n",
    "x5points= np.array([1,2,3,4,5])\n",
    "\n",
    "fp.fft(x8points), fp.dct(x5points, type=1)"
   ]
  },
  {
   "cell_type": "code",
   "execution_count": 99,
   "metadata": {},
   "outputs": [
    {
     "data": {
      "text/plain": [
       "array([[ 1.   +0.j   ,  1.   +0.j   ,  1.   +0.j   ,  1.   +0.j   ,\n",
       "         1.   +0.j   ,  1.   +0.j   ,  1.   +0.j   ,  1.   +0.j   ],\n",
       "       [ 1.   +0.j   ,  0.707-0.707j,  0.   -1.j   , -0.707-0.707j,\n",
       "        -1.   -0.j   , -0.707+0.707j, -0.   +1.j   ,  0.707+0.707j],\n",
       "       [ 1.   +0.j   ,  0.   -1.j   , -1.   -0.j   , -0.   +1.j   ,\n",
       "         1.   +0.j   ,  0.   -1.j   , -1.   -0.j   , -0.   +1.j   ],\n",
       "       [ 1.   +0.j   , -0.707-0.707j, -0.   +1.j   ,  0.707-0.707j,\n",
       "        -1.   -0.j   ,  0.707+0.707j,  0.   -1.j   , -0.707+0.707j],\n",
       "       [ 1.   +0.j   , -1.   -0.j   ,  1.   +0.j   , -1.   -0.j   ,\n",
       "         1.   +0.j   , -1.   -0.j   ,  1.   +0.j   , -1.   -0.j   ],\n",
       "       [ 1.   +0.j   , -0.707+0.707j,  0.   -1.j   ,  0.707+0.707j,\n",
       "        -1.   -0.j   ,  0.707-0.707j, -0.   +1.j   , -0.707-0.707j],\n",
       "       [ 1.   +0.j   , -0.   +1.j   , -1.   -0.j   ,  0.   -1.j   ,\n",
       "         1.   +0.j   , -0.   +1.j   , -1.   -0.j   , -0.   -1.j   ],\n",
       "       [ 1.   +0.j   ,  0.707+0.707j, -0.   +1.j   , -0.707+0.707j,\n",
       "        -1.   -0.j   , -0.707-0.707j, -0.   -1.j   ,  0.707-0.707j]])"
      ]
     },
     "execution_count": 99,
     "metadata": {},
     "output_type": "execute_result"
    }
   ],
   "source": [
    "# cosMat vs dftMat\n",
    "N=8\n",
    "n= np.arange(N).reshape(-1,1)\n",
    "k= np.arange(N).reshape(1,-1)\n",
    "dftMat= np.exp(-1j*2*π/N*n@k)\n",
    "dftMat"
   ]
  },
  {
   "cell_type": "code",
   "execution_count": 100,
   "metadata": {},
   "outputs": [
    {
     "data": {
      "text/plain": [
       "array([[ 5.,  0.,  1.,  0.,  1.],\n",
       "       [ 0.,  3.,  0.,  1., -0.],\n",
       "       [ 1.,  0.,  3.,  0.,  1.],\n",
       "       [ 0.,  1.,  0.,  3., -0.],\n",
       "       [ 1., -0.,  1., -0.,  5.]])"
      ]
     },
     "execution_count": 100,
     "metadata": {},
     "output_type": "execute_result"
    }
   ],
   "source": [
    "M=N//2\n",
    "\n",
    "n= np.arange(M+1).reshape(-1,1)\n",
    "k= np.arange(M+1).reshape(1,-1)\n",
    "\n",
    "cosMat1= np.cos(π/M*n@k)\n",
    "cosMat1.T @ cosMat1"
   ]
  },
  {
   "cell_type": "code",
   "execution_count": 101,
   "metadata": {},
   "outputs": [
    {
     "data": {
      "text/plain": [
       "array([[ 2.5,  0. ,  0. , -0. , -0. ],\n",
       "       [ 0. ,  2.5, -0. ,  0. ,  0. ],\n",
       "       [ 0. , -0. ,  2.5, -0. , -0. ],\n",
       "       [-0. ,  0. , -0. ,  2.5, -0. ],\n",
       "       [-0. ,  0. , -0. , -0. ,  2.5]])"
      ]
     },
     "execution_count": 101,
     "metadata": {},
     "output_type": "execute_result"
    }
   ],
   "source": [
    "cosMat4= np.cos(π/(M+1)*(n+1/2)@(k+1/2))\n",
    "cosMat4.T @ cosMat4"
   ]
  },
  {
   "cell_type": "code",
   "execution_count": 102,
   "metadata": {},
   "outputs": [
    {
     "data": {
      "text/plain": [
       "array([[ 5. ,  0. , -0. ,  0. , -0. ],\n",
       "       [ 0. ,  2.5,  0. , -0. ,  0. ],\n",
       "       [-0. ,  0. ,  2.5,  0. , -0. ],\n",
       "       [ 0. , -0. ,  0. ,  2.5,  0. ],\n",
       "       [-0. ,  0. , -0. ,  0. ,  2.5]])"
      ]
     },
     "execution_count": 102,
     "metadata": {},
     "output_type": "execute_result"
    }
   ],
   "source": [
    "cosMat2= np.cos(π/(M+1)*(n+1/2)@(k))\n",
    "cosMat2.T @ cosMat2"
   ]
  },
  {
   "cell_type": "code",
   "execution_count": 103,
   "metadata": {},
   "outputs": [
    {
     "data": {
      "text/plain": [
       "array([[3. , 0.5, 0.5, 0.5, 0.5],\n",
       "       [0.5, 3. , 0.5, 0.5, 0.5],\n",
       "       [0.5, 0.5, 3. , 0.5, 0.5],\n",
       "       [0.5, 0.5, 0.5, 3. , 0.5],\n",
       "       [0.5, 0.5, 0.5, 0.5, 3. ]])"
      ]
     },
     "execution_count": 103,
     "metadata": {},
     "output_type": "execute_result"
    }
   ],
   "source": [
    "cosMat3= np.cos(π/(M+1)*(n)@(k+1/2))\n",
    "cosMat3.T @ cosMat3"
   ]
  },
  {
   "cell_type": "code",
   "execution_count": 104,
   "metadata": {},
   "outputs": [],
   "source": [
    "fp.rfft?"
   ]
  },
  {
   "cell_type": "code",
   "execution_count": 105,
   "metadata": {},
   "outputs": [
    {
     "data": {
      "text/plain": [
       "(array([24.   -0.j, -6.828+0.j,  0.   -0.j, -1.172+0.j,  0.   -0.j,\n",
       "        -1.172-0.j,  0.   +0.j, -6.828-0.j]),\n",
       " array([24.   , -6.828,  0.   ,  0.   , -0.   , -1.172,  0.   ,  0.   ]),\n",
       " array([24.   , -6.828,  0.   , -1.172,  0.   ]))"
      ]
     },
     "execution_count": 105,
     "metadata": {},
     "output_type": "execute_result"
    }
   ],
   "source": [
    "x= np.array([1,2,3,4,5,4,3,2])\n",
    "fp.fft(x), \\\n",
    "fp.rfft(x),\\\n",
    "fp.dct(x[0:4+1], type=1)"
   ]
  },
  {
   "cell_type": "code",
   "execution_count": 106,
   "metadata": {},
   "outputs": [],
   "source": [
    "N=1024\n",
    "x= np.random.random(N)"
   ]
  },
  {
   "cell_type": "code",
   "execution_count": 107,
   "metadata": {},
   "outputs": [
    {
     "name": "stdout",
     "output_type": "stream",
     "text": [
      "11.4 µs ± 59.2 ns per loop (mean ± std. dev. of 7 runs, 100000 loops each)\n"
     ]
    }
   ],
   "source": [
    "%timeit X_fft= fp.fft(x)"
   ]
  },
  {
   "cell_type": "code",
   "execution_count": 108,
   "metadata": {},
   "outputs": [
    {
     "name": "stdout",
     "output_type": "stream",
     "text": [
      "8.52 µs ± 67.7 ns per loop (mean ± std. dev. of 7 runs, 100000 loops each)\n"
     ]
    }
   ],
   "source": [
    "%timeit X_rfft= fp.rfft(x)"
   ]
  },
  {
   "cell_type": "code",
   "execution_count": 109,
   "metadata": {},
   "outputs": [
    {
     "name": "stdout",
     "output_type": "stream",
     "text": [
      "10.2 µs ± 90.3 ns per loop (mean ± std. dev. of 7 runs, 100000 loops each)\n"
     ]
    }
   ],
   "source": [
    "%timeit X_dct1= fp.dct(x[0:N//2+1], type=1)"
   ]
  },
  {
   "cell_type": "code",
   "execution_count": null,
   "metadata": {},
   "outputs": [],
   "source": []
  },
  {
   "cell_type": "code",
   "execution_count": null,
   "metadata": {},
   "outputs": [],
   "source": []
  },
  {
   "cell_type": "code",
   "execution_count": null,
   "metadata": {},
   "outputs": [],
   "source": []
  },
  {
   "cell_type": "code",
   "execution_count": 110,
   "metadata": {},
   "outputs": [],
   "source": [
    "import numpy as np\n",
    "import scipy.fftpack as fp\n",
    "\n",
    "N= 1024\n",
    "x= np.random.random(N) #np.ones(N)"
   ]
  },
  {
   "cell_type": "code",
   "execution_count": 111,
   "metadata": {},
   "outputs": [
    {
     "data": {
      "text/plain": [
       "array([514.471 -0.j   ,   3.899+12.933j,  16.346 -0.63j , ...,\n",
       "        -5.522 +7.603j,  16.346 +0.63j ,   3.899-12.933j])"
      ]
     },
     "execution_count": 111,
     "metadata": {},
     "output_type": "execute_result"
    }
   ],
   "source": [
    "X= fp.fft(x)\n",
    "X"
   ]
  },
  {
   "cell_type": "code",
   "execution_count": 112,
   "metadata": {},
   "outputs": [],
   "source": [
    "π= np.pi\n",
    "\n",
    "n= np.arange(N)\n",
    "k= np.arange(N)\n",
    "\n",
    "W= np.exp(np.outer(n,k) * (-1j*2*π/N))"
   ]
  },
  {
   "cell_type": "code",
   "execution_count": 113,
   "metadata": {},
   "outputs": [
    {
     "data": {
      "text/plain": [
       "array([514.471 +0.j   ,   3.899+12.933j,  16.346 -0.63j , ...,\n",
       "        -5.522 +7.603j,  16.346 +0.63j ,   3.899-12.933j])"
      ]
     },
     "execution_count": 113,
     "metadata": {},
     "output_type": "execute_result"
    }
   ],
   "source": [
    "X= x@W\n",
    "X"
   ]
  },
  {
   "cell_type": "code",
   "execution_count": 114,
   "metadata": {},
   "outputs": [
    {
     "data": {
      "text/plain": [
       "array([514.471 +0.j   ,   3.899+12.933j,  16.346 -0.63j , ...,\n",
       "        -5.522 +7.603j,  16.346 +0.63j ,   3.899-12.933j])"
      ]
     },
     "execution_count": 114,
     "metadata": {},
     "output_type": "execute_result"
    }
   ],
   "source": [
    "import numpy as np\n",
    "\n",
    "π= np.pi\n",
    "\n",
    "def ryFFT(x):\n",
    "    \n",
    "    N= x.size\n",
    "    if N == 1:\n",
    "        X= x\n",
    "        return X\n",
    "    \n",
    "    He = ryFFT(x[0::2])\n",
    "    Ho = ryFFT(x[1::2])\n",
    "    \n",
    "    k= np.arange(N)\n",
    "    w= np.exp(-1j*2*π/N)\n",
    "    \n",
    "    X=   np.tile(He, 2)       \\\n",
    "       + np.tile(Ho, 2) * w**k\n",
    "    \n",
    "    return X\n",
    "\n",
    "ryFFT(x)"
   ]
  },
  {
   "cell_type": "code",
   "execution_count": 115,
   "metadata": {},
   "outputs": [
    {
     "name": "stdout",
     "output_type": "stream",
     "text": [
      "11.4 µs ± 74.4 ns per loop (mean ± std. dev. of 7 runs, 100000 loops each)\n"
     ]
    }
   ],
   "source": [
    "%timeit X= fp.fft(x)\n",
    "# 11.2 µs ± 54.9 ns per loop (mean ± std. dev. of 7 runs, 100000 loops each)"
   ]
  },
  {
   "cell_type": "code",
   "execution_count": 116,
   "metadata": {},
   "outputs": [
    {
     "name": "stdout",
     "output_type": "stream",
     "text": [
      "307 µs ± 13.9 µs per loop (mean ± std. dev. of 7 runs, 1000 loops each)\n"
     ]
    }
   ],
   "source": [
    "%timeit X1= x@W\n",
    "# 329 µs ± 10.2 µs per loop (mean ± std. dev. of 7 runs, 1000 loops each)"
   ]
  },
  {
   "cell_type": "code",
   "execution_count": 117,
   "metadata": {},
   "outputs": [
    {
     "name": "stdout",
     "output_type": "stream",
     "text": [
      "14.4 ms ± 55.2 µs per loop (mean ± std. dev. of 7 runs, 100 loops each)\n"
     ]
    }
   ],
   "source": [
    "%timeit X2= ryFFT(x) \n",
    "# 14 ms ± 47.7 µs per loop (mean ± std. dev. of 7 runs, 100 loops each)\n",
    "\n",
    "# 有關於速度，我們自己的 implementation 基本上還是很難與系統抗衡！！應該與 memory 的存取有關！"
   ]
  },
  {
   "cell_type": "code",
   "execution_count": null,
   "metadata": {},
   "outputs": [],
   "source": []
  },
  {
   "cell_type": "code",
   "execution_count": 118,
   "metadata": {},
   "outputs": [
    {
     "data": {
      "text/plain": [
       "(1, 29.375000000000004, 1250.0)"
      ]
     },
     "execution_count": 118,
     "metadata": {},
     "output_type": "execute_result"
    }
   ],
   "source": [
    "# fp.fft : x@W : ryFFT\n",
    "11.2, 329, 14000\n",
    "1, 329/11.2, 14000/11.2"
   ]
  },
  {
   "cell_type": "code",
   "execution_count": 119,
   "metadata": {},
   "outputs": [
    {
     "data": {
      "text/plain": [
       "array([16.   -0.j, -6.828+0.j,  0.   -0.j, -1.172+0.j,  0.   -0.j,\n",
       "       -1.172-0.j,  0.   +0.j, -6.828-0.j])"
      ]
     },
     "execution_count": 119,
     "metadata": {},
     "output_type": "execute_result"
    }
   ],
   "source": [
    "x= np.array([0,1,2,3,4,3,2,1])\n",
    "X= fp.fft(x)\n",
    "X"
   ]
  },
  {
   "cell_type": "code",
   "execution_count": 120,
   "metadata": {},
   "outputs": [
    {
     "data": {
      "text/plain": [
       "array([16.   , -6.828,  0.   , -1.172,  0.   ])"
      ]
     },
     "execution_count": 120,
     "metadata": {},
     "output_type": "execute_result"
    }
   ],
   "source": [
    "N= x.size\n",
    "M= N//2\n",
    "Xc= fp.dct(x[0:M+1], type=1)\n",
    "Xc"
   ]
  },
  {
   "cell_type": "code",
   "execution_count": null,
   "metadata": {},
   "outputs": [],
   "source": []
  }
 ],
 "metadata": {
  "kernelspec": {
   "display_name": "Python 3",
   "language": "python",
   "name": "python3"
  },
  "language_info": {
   "codemirror_mode": {
    "name": "ipython",
    "version": 3
   },
   "file_extension": ".py",
   "mimetype": "text/x-python",
   "name": "python",
   "nbconvert_exporter": "python",
   "pygments_lexer": "ipython3",
   "version": "3.7.4"
  },
  "latex_envs": {
   "LaTeX_envs_menu_present": true,
   "autoclose": false,
   "autocomplete": true,
   "bibliofile": "biblio.bib",
   "cite_by": "apalike",
   "current_citInitial": 1,
   "eqLabelWithNumbers": true,
   "eqNumInitial": 1,
   "hotkeys": {
    "equation": "Ctrl-E",
    "itemize": "Ctrl-I"
   },
   "labels_anchors": false,
   "latex_user_defs": false,
   "report_style_numbering": false,
   "user_envs_cfg": false
  },
  "nbTranslate": {
   "displayLangs": [
    "zh-TW",
    "en"
   ],
   "hotkey": "alt-t",
   "langInMainMenu": true,
   "sourceLang": "en",
   "targetLang": "zh-TW",
   "useGoogleTranslate": true
  },
  "toc": {
   "base_numbering": 1,
   "nav_menu": {},
   "number_sections": true,
   "sideBar": true,
   "skip_h1_title": false,
   "title_cell": "Table of Contents",
   "title_sidebar": "Contents",
   "toc_cell": false,
   "toc_position": {},
   "toc_section_display": true,
   "toc_window_display": false
  },
  "varInspector": {
   "cols": {
    "lenName": 16,
    "lenType": 16,
    "lenVar": 40
   },
   "kernels_config": {
    "python": {
     "delete_cmd_postfix": "",
     "delete_cmd_prefix": "del ",
     "library": "var_list.py",
     "varRefreshCmd": "print(var_dic_list())"
    },
    "r": {
     "delete_cmd_postfix": ") ",
     "delete_cmd_prefix": "rm(",
     "library": "var_list.r",
     "varRefreshCmd": "cat(var_dic_list()) "
    }
   },
   "types_to_exclude": [
    "module",
    "function",
    "builtin_function_or_method",
    "instance",
    "_Feature"
   ],
   "window_display": false
  }
 },
 "nbformat": 4,
 "nbformat_minor": 2
}
