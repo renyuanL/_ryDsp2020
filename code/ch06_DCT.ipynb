{
 "cells": [
  {
   "cell_type": "markdown",
   "metadata": {},
   "source": [
    "[Formal definition of DCT @ Wikipedia](https://en.wikipedia.org/wiki/Discrete_cosine_transform#Formal_definition)"
   ]
  },
  {
   "cell_type": "markdown",
   "metadata": {},
   "source": [
    "Formally, the `discrete cosine transform (DCT)` is a linear, invertible function \n",
    "\n",
    "$\n",
    "f:\\mathbb {R} ^{N}\\to \\mathbb {R} ^{N}\n",
    "$\n",
    "- where,\n",
    "$\\mathbb {R} $\n",
    "denotes the set of real numbers), \n",
    "or equivalently an invertible N × N square matrix. \n",
    "\n",
    "There are several variants of the DCT with slightly modified definitions. \n",
    "\n",
    "The N real numbers \n",
    "- $x_0, ..., x_{N-1} $ \n",
    "\n",
    "are transformed into the N real numbers \n",
    "- $X_0, ..., X_{N-1}$ \n",
    "\n",
    "according to one of the formulas:"
   ]
  },
  {
   "attachments": {},
   "cell_type": "markdown",
   "metadata": {},
   "source": [
    "for\n",
    "$\n",
    "k = 0, \\dots, N-1.\n",
    "$\n",
    "\n",
    "@ DCT-I,\n",
    "- $\n",
    "X_k =  \\sum_{n=1}^{N-2} x_n \\cdot \\cos \\left[ n k \\cdot \\frac{\\pi}{N-1} \\right] ~~~~\n",
    "     + \\frac{1}{2} \\left( x_0 + (-1)^k x_{N-1} \\right) \n",
    "\\\\\n",
    "$\n",
    "\n",
    "@ `DCT-II`,\n",
    "- $\n",
    "X_k = \\sum_{n=0}^{N-1} x_n \\cdot \\cos \\left[\\left(n+\\frac{1}{2}\\right) k \\cdot \\frac{\\pi}{N} \\right]\n",
    "$\n",
    "\n",
    "@ DCT-III,\n",
    "- $\n",
    "X_k = \\sum_{n=1}^{N-1} x_n \\cdot \\cos \\left[n \\left(k+\\frac{1}{2}\\right) \\cdot \\frac{\\pi}{N} \\right] ~~~~\n",
    "    + \\frac{1}{2} x_0 \n",
    "$\n",
    "\n",
    "@ `DCT-IV`,\n",
    "- $\n",
    "X_k =\n",
    " \\sum_{n=0}^{N-1} x_n \\cdot \\cos \\left[\\left(n+\\frac{1}{2}\\right) \\left(k+\\frac{1}{2}\\right) \\cdot \\frac{\\pi}{N}\\right]\n",
    "$\n"
   ]
  },
  {
   "cell_type": "code",
   "execution_count": null,
   "metadata": {},
   "outputs": [],
   "source": []
  },
  {
   "cell_type": "code",
   "execution_count": null,
   "metadata": {},
   "outputs": [],
   "source": []
  },
  {
   "cell_type": "code",
   "execution_count": null,
   "metadata": {},
   "outputs": [],
   "source": []
  },
  {
   "cell_type": "code",
   "execution_count": null,
   "metadata": {},
   "outputs": [],
   "source": []
  },
  {
   "cell_type": "code",
   "execution_count": null,
   "metadata": {},
   "outputs": [],
   "source": [
    "import numpy as np\n",
    "\n",
    "np.set_printoptions(precision= 3, suppress= True)\n",
    "\n",
    "π= np.pi\n",
    "\n",
    "N= 4\n",
    "\n",
    "n= np.arange(N)\n",
    "k= np.arange(N)\n",
    "n,k"
   ]
  },
  {
   "cell_type": "code",
   "execution_count": null,
   "metadata": {},
   "outputs": [],
   "source": [
    "dct4= np.cos( (n+1/2).reshape(-1,1)\n",
    "             @(k+1/2).reshape(1,-1)\n",
    "             *π/N)\n",
    "dct4"
   ]
  },
  {
   "cell_type": "code",
   "execution_count": null,
   "metadata": {},
   "outputs": [],
   "source": [
    "import scipy.linalg as lg\n",
    "dct4Inv= lg.inv(dct4)\n",
    "dct4Inv"
   ]
  },
  {
   "cell_type": "code",
   "execution_count": null,
   "metadata": {},
   "outputs": [],
   "source": [
    "x= np.array([1,-1,1,-1])\n",
    "\n",
    "X= x.reshape(1,-1) @ dct4\n",
    "X"
   ]
  },
  {
   "cell_type": "code",
   "execution_count": null,
   "metadata": {},
   "outputs": [],
   "source": [
    "xx= X @ dct4Inv\n",
    "xx"
   ]
  },
  {
   "cell_type": "code",
   "execution_count": null,
   "metadata": {},
   "outputs": [],
   "source": [
    "# Dct-II\n",
    "dct2= np.cos( (n+1/2).reshape(-1,1)\n",
    "             @(k    ).reshape(1,-1)\n",
    "             *π/N)\n",
    "dct2"
   ]
  },
  {
   "cell_type": "code",
   "execution_count": null,
   "metadata": {},
   "outputs": [],
   "source": [
    "dct2Inv= lg.inv(dct2)\n",
    "dct2Inv"
   ]
  },
  {
   "cell_type": "code",
   "execution_count": null,
   "metadata": {},
   "outputs": [],
   "source": [
    "#x= np.array([1,-1,1,-1])\n",
    "\n",
    "X= x.reshape(1,-1) @ dct2\n",
    "X"
   ]
  },
  {
   "cell_type": "code",
   "execution_count": null,
   "metadata": {},
   "outputs": [],
   "source": [
    "xx= X @ dct2Inv\n",
    "xx"
   ]
  },
  {
   "cell_type": "code",
   "execution_count": null,
   "metadata": {},
   "outputs": [],
   "source": [
    "X4= x@dct4\n",
    "X2= x@dct2\n",
    "X4, X2"
   ]
  },
  {
   "cell_type": "code",
   "execution_count": null,
   "metadata": {},
   "outputs": [],
   "source": [
    "import scipy as sp\n"
   ]
  },
  {
   "cell_type": "code",
   "execution_count": null,
   "metadata": {},
   "outputs": [],
   "source": [
    "x= np.array([1,1,1,1])\n",
    "\n",
    "X1= sp.fft.dct(x, type= 1)#, norm='ortho')\n",
    "X2= sp.fft.dct(x, type= 2)#, norm='ortho')\n",
    "X3= sp.fft.dct(x, type= 3)#, norm='ortho')\n",
    "X4= sp.fft.dct(x, type= 4)#, norm='ortho')\n",
    "\n",
    "X1, X2, X3, X4"
   ]
  },
  {
   "cell_type": "code",
   "execution_count": null,
   "metadata": {},
   "outputs": [],
   "source": [
    "x1= sp.fft.idct(X1, type= 1)#, norm='ortho')\n",
    "x2= sp.fft.idct(X2, type= 2)#, norm='ortho')\n",
    "x3= sp.fft.idct(X3, type= 3)#, norm='ortho')\n",
    "x4= sp.fft.idct(X4, type= 4)#, norm='ortho')\n",
    "\n",
    "x1, x2, x3, x4\n"
   ]
  },
  {
   "cell_type": "code",
   "execution_count": null,
   "metadata": {},
   "outputs": [],
   "source": [
    "sp.fft.dct?"
   ]
  },
  {
   "cell_type": "markdown",
   "metadata": {},
   "source": [
    "Notes\n",
    "-----\n",
    "\n",
    "For a single dimension array ``x``, ``dct(x, norm='ortho')`` is equal to\n",
    "MATLAB ``dct(x)``.\n",
    "\n",
    "For ``norm=None``, there is no scaling on `dct` and the `idct` is scaled by\n",
    "``1/N`` where ``N`` is the \"logical\" size of the DCT. For ``norm='ortho'``\n",
    "both directions are scaled by the same factor ``1/sqrt(N)``.\n",
    "\n",
    "There are theoretically 8 types of the DCT, only the first 4 types are\n",
    "implemented in scipy. \n",
    "\n",
    "'The' DCT generally refers to `DCT type 2`, \n",
    "and 'the' Inverse DCT generally refers to `DCT type 3`."
   ]
  },
  {
   "cell_type": "markdown",
   "metadata": {},
   "source": [
    "**Type I**\n",
    "\n",
    "There are several definitions of the DCT-I; we use the following\n",
    "(for ``norm=None``)\n",
    "\n",
    ".. math::\n",
    "\n",
    "$\n",
    "   y_k = x_0 + (-1)^k x_{N-1} + 2 \\sum_{n=1}^{N-2} x_n \\cos\\left(\n",
    "   \\frac{\\pi k n}{N-1} \\right)\n",
    "$\n",
    "\n",
    "If ``norm='ortho'``, ``x[0]`` and ``x[N-1]`` are multiplied by a scaling\n",
    "factor of :math:`\\sqrt{2}`, and ``y[k]`` is multiplied by a scaling factor\n",
    "``f``\n",
    "\n",
    ".. math::\n",
    "\n",
    "$\n",
    "    f = \\begin{cases}\n",
    "     \\frac{1}{2}\\sqrt{\\frac{1}{N-1}} & \\text{if }k=0\\text{ or }N-1, \\\\\n",
    "     \\frac{1}{2}\\sqrt{\\frac{2}{N-1}} & \\text{otherwise} \\end{cases}\n",
    "$\n",
    "\n",
    ".. note::\n",
    "   The DCT-I is only supported for input size > 1.\n",
    "\n",
    "----\n",
    "**Type II**\n",
    "\n",
    "There are several definitions of the DCT-II; we use the following\n",
    "(for ``norm=None``)\n",
    "\n",
    ".. math::\n",
    "\n",
    "$\n",
    "   y_k = 2 \\sum_{n=0}^{N-1} x_n \\cos\\left(\\frac{\\pi k(2n+1)}{2N} \\right)\n",
    "$\n",
    "\n",
    "If ``norm='ortho'``, ``y[k]`` is multiplied by a scaling factor ``f``\n",
    "\n",
    ".. math::\n",
    "\n",
    "$\n",
    "   f = \\begin{cases}\n",
    "   \\sqrt{\\frac{1}{4N}} & \\text{if }k=0, \\\\\n",
    "   \\sqrt{\\frac{1}{2N}} & \\text{otherwise} \\end{cases}\n",
    "$\n",
    "\n",
    "Which makes the corresponding matrix of coefficients orthonormal\n",
    "(``O @ O.T = np.eye(N)``).\n",
    "\n",
    "----\n",
    "\n",
    "**Type III**\n",
    "\n",
    "There are several definitions, we use the following (for ``norm=None``)\n",
    "\n",
    ".. math::\n",
    "\n",
    "$\n",
    "   y_k = x_0 + 2 \\sum_{n=1}^{N-1} x_n \\cos\\left(\\frac{\\pi(2k+1)n}{2N}\\right)\n",
    "$\n",
    "\n",
    "or, for ``norm='ortho'``\n",
    "\n",
    ".. math::\n",
    "\n",
    "$\n",
    "   y_k = \\frac{x_0}{\\sqrt{N}} + \\sqrt{\\frac{2}{N}} \\sum_{n=1}^{N-1} x_n\n",
    "   \\cos\\left(\\frac{\\pi(2k+1)n}{2N}\\right)\n",
    "$\n",
    "\n",
    "The (unnormalized) DCT-III is the inverse of the (unnormalized) DCT-II, up\n",
    "to a factor `2N`. The orthonormalized DCT-III is exactly the inverse of\n",
    "the orthonormalized DCT-II.\n",
    "\n",
    "----\n",
    "**Type IV**\n",
    "\n",
    "There are several definitions of the DCT-IV; we use the following\n",
    "(for ``norm=None``)\n",
    "\n",
    ".. math::\n",
    "\n",
    "$\n",
    "   y_k = 2 \\sum_{n=0}^{N-1} x_n \\cos\\left(\\frac{\\pi(2k+1)(2n+1)}{4N} \\right)\n",
    "$\n",
    "\n",
    "If ``norm='ortho'``, ``y[k]`` is multiplied by a scaling factor ``f``\n",
    "\n",
    ".. math::\n",
    "\n",
    "$\n",
    "    f = \\frac{1}{\\sqrt{2N}}\n",
    "$\n",
    "\n",
    "----\n",
    "References\n",
    "\n",
    "----------\n",
    ".. [1] 'A Fast Cosine Transform in One and Two Dimensions', by J.\n",
    "       Makhoul, `IEEE Transactions on acoustics, speech and signal\n",
    "       processing` vol. 28(1), pp. 27-34,\n",
    "       :doi:`10.1109/TASSP.1980.1163351` (1980).\n",
    "       \n",
    ".. [2] Wikipedia, \"Discrete cosine transform\",\n",
    "       https://en.wikipedia.org/wiki/Discrete_cosine_transform\n",
    "       "
   ]
  },
  {
   "cell_type": "markdown",
   "metadata": {},
   "source": [
    "- dct1\n",
    "\n",
    "    - $y_k = 2 \\sum_{n=1}^{N-2} \n",
    "               \\left{ \\cos\n",
    "                      \\left[ \\frac{π}{N-1} \\cdot k ~ n  \n",
    "                      \\right] \n",
    "                      \\cdot  x_n \n",
    "               \\right} ~~~~\n",
    "             + \\left( x_0 + x_{N-1} \\cdot (-1)^k \n",
    "               \\right) \n",
    "      $\n",
    "\n",
    "- dct2\n",
    "\n",
    "    - $y_k = 2 \\sum_{n=0}^{N-1} \n",
    "               \\left{ \\cos\n",
    "                      \\left[ \\frac{π}{N} \\cdot k~(n+\\frac{1}{2}) \n",
    "                      \\right]  \n",
    "                      \\cdot  x_n\n",
    "               \\right}\n",
    "    $\n",
    "\n",
    "- dct3\n",
    "\n",
    "    - $y_k = 2 \\sum_{n=1}^{N-1} \n",
    "               \\left{ \\cos\n",
    "                      \\left[ \\frac{π}{N} \\cdot (k+\\frac{1}{2})~n\n",
    "                      \\right]  \n",
    "                      \\cdot  x_n \n",
    "               \\right} ~~~~\n",
    "            + x_0 \n",
    "    $\n",
    "\n",
    "- dct4\n",
    "\n",
    "    - $y_k = 2 \\sum_{n=0}^{N-1} \n",
    "               \\left{ \\cos\n",
    "                      \\left[ \\frac{π}{N} \\cdot (k+\\frac{1}{2})~(n+\\frac{1}{2}) \n",
    "                      \\right]  \n",
    "                      \\cdot  x_n\n",
    "               \\right}\n",
    "    $\n",
    "    "
   ]
  },
  {
   "cell_type": "code",
   "execution_count": null,
   "metadata": {},
   "outputs": [],
   "source": [
    "import numpy as np\n",
    "\n",
    "np.set_printoptions(precision= 3, suppress= True)\n",
    "\n",
    "π= np.pi\n",
    "\n",
    "N= 4\n",
    "\n",
    "n= np.arange(N)\n",
    "k= np.arange(N)\n",
    "n,k\n"
   ]
  },
  {
   "cell_type": "code",
   "execution_count": null,
   "metadata": {},
   "outputs": [],
   "source": [
    "dct2= 2 *np.cos( π/N\n",
    "                *(k).reshape(-1,1)\n",
    "                @(n+1/2).reshape(1,-1)\n",
    "               )\n",
    "dct2"
   ]
  },
  {
   "cell_type": "code",
   "execution_count": null,
   "metadata": {},
   "outputs": [],
   "source": [
    "dct4= 2 *np.cos( π/N\n",
    "                *(k+1/2).reshape(-1,1)\n",
    "                @(n+1/2).reshape(1,-1)\n",
    "               )\n",
    "dct4"
   ]
  },
  {
   "cell_type": "code",
   "execution_count": null,
   "metadata": {},
   "outputs": [],
   "source": [
    "dct2@x.reshape(-1,1)"
   ]
  },
  {
   "cell_type": "code",
   "execution_count": null,
   "metadata": {},
   "outputs": [],
   "source": [
    "dct4@x.reshape(-1,1)"
   ]
  },
  {
   "cell_type": "code",
   "execution_count": null,
   "metadata": {},
   "outputs": [],
   "source": [
    "sp.fft.dct(x, type=2)"
   ]
  },
  {
   "cell_type": "code",
   "execution_count": null,
   "metadata": {},
   "outputs": [],
   "source": [
    "sp.fft.dct(x, type=4)"
   ]
  },
  {
   "cell_type": "code",
   "execution_count": null,
   "metadata": {},
   "outputs": [],
   "source": [
    "# dct3\n",
    "dct3= 2 *np.cos( π/N\n",
    "                *(k+1/2).reshape(-1,1)\n",
    "                @(n).reshape(1,-1)\n",
    "               )\n",
    "dct3"
   ]
  },
  {
   "cell_type": "code",
   "execution_count": null,
   "metadata": {},
   "outputs": [],
   "source": [
    "dct3[:,1:]@x.reshape(-1,1)[1:] + x[0]"
   ]
  },
  {
   "cell_type": "code",
   "execution_count": null,
   "metadata": {},
   "outputs": [],
   "source": [
    "sp.fft.dct(x, type=3)"
   ]
  },
  {
   "cell_type": "code",
   "execution_count": null,
   "metadata": {},
   "outputs": [],
   "source": [
    "# dct1\n",
    "dct1= 2 *np.cos( π/(N-1)\n",
    "                *(k).reshape(-1,1)\n",
    "                @(n).reshape(1,-1)\n",
    "               )\n",
    "dct1"
   ]
  },
  {
   "cell_type": "code",
   "execution_count": null,
   "metadata": {},
   "outputs": [],
   "source": [
    "dct1[:,1:-1]@x.reshape(-1,1)[1:-1] \\\n",
    "+ (x[0]+x[-1]*(-1)**k).reshape(-1,1)"
   ]
  },
  {
   "cell_type": "code",
   "execution_count": null,
   "metadata": {},
   "outputs": [],
   "source": [
    "sp.fft.dct(x, type=1)"
   ]
  },
  {
   "cell_type": "code",
   "execution_count": null,
   "metadata": {},
   "outputs": [],
   "source": [
    "sp.fftpack.dct(x, type=1)"
   ]
  },
  {
   "cell_type": "code",
   "execution_count": null,
   "metadata": {},
   "outputs": [],
   "source": [
    "import scipy.fftpack\n"
   ]
  },
  {
   "cell_type": "code",
   "execution_count": null,
   "metadata": {},
   "outputs": [],
   "source": [
    "scipy.fftpack.dct(x, type=4)"
   ]
  },
  {
   "cell_type": "code",
   "execution_count": null,
   "metadata": {},
   "outputs": [],
   "source": [
    "dct4@x.reshape(-1,1)"
   ]
  },
  {
   "cell_type": "code",
   "execution_count": null,
   "metadata": {},
   "outputs": [],
   "source": []
  }
 ],
 "metadata": {
  "kernelspec": {
   "display_name": "Python 3",
   "language": "python",
   "name": "python3"
  },
  "language_info": {
   "codemirror_mode": {
    "name": "ipython",
    "version": 3
   },
   "file_extension": ".py",
   "mimetype": "text/x-python",
   "name": "python",
   "nbconvert_exporter": "python",
   "pygments_lexer": "ipython3",
   "version": "3.7.4"
  },
  "latex_envs": {
   "LaTeX_envs_menu_present": true,
   "autoclose": false,
   "autocomplete": true,
   "bibliofile": "biblio.bib",
   "cite_by": "apalike",
   "current_citInitial": 1,
   "eqLabelWithNumbers": true,
   "eqNumInitial": 1,
   "hotkeys": {
    "equation": "Ctrl-E",
    "itemize": "Ctrl-I"
   },
   "labels_anchors": false,
   "latex_user_defs": false,
   "report_style_numbering": false,
   "user_envs_cfg": false
  },
  "nbTranslate": {
   "displayLangs": [
    "zh-TW",
    "en"
   ],
   "hotkey": "alt-t",
   "langInMainMenu": true,
   "sourceLang": "en",
   "targetLang": "zh-TW",
   "useGoogleTranslate": true
  },
  "toc": {
   "base_numbering": 1,
   "nav_menu": {},
   "number_sections": true,
   "sideBar": true,
   "skip_h1_title": false,
   "title_cell": "Table of Contents",
   "title_sidebar": "Contents",
   "toc_cell": false,
   "toc_position": {},
   "toc_section_display": true,
   "toc_window_display": false
  },
  "varInspector": {
   "cols": {
    "lenName": 16,
    "lenType": 16,
    "lenVar": 40
   },
   "kernels_config": {
    "python": {
     "delete_cmd_postfix": "",
     "delete_cmd_prefix": "del ",
     "library": "var_list.py",
     "varRefreshCmd": "print(var_dic_list())"
    },
    "r": {
     "delete_cmd_postfix": ") ",
     "delete_cmd_prefix": "rm(",
     "library": "var_list.r",
     "varRefreshCmd": "cat(var_dic_list()) "
    }
   },
   "types_to_exclude": [
    "module",
    "function",
    "builtin_function_or_method",
    "instance",
    "_Feature"
   ],
   "window_display": false
  }
 },
 "nbformat": 4,
 "nbformat_minor": 2
}
