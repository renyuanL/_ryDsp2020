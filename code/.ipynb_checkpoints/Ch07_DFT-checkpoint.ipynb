{
 "cells": [
  {
   "cell_type": "code",
   "execution_count": 14,
   "metadata": {},
   "outputs": [
    {
     "data": {
      "text/plain": [
       "3.141592653589793"
      ]
     },
     "execution_count": 14,
     "metadata": {},
     "output_type": "execute_result"
    }
   ],
   "source": [
    "import numpy as np\n",
    "import scipy.linalg as lg\n",
    "import scipy.fftpack as fp\n",
    "\n",
    "np.set_printoptions(precision=3, suppress=True)\n",
    "π= np.pi\n",
    "π"
   ]
  },
  {
   "cell_type": "code",
   "execution_count": 15,
   "metadata": {},
   "outputs": [
    {
     "data": {
      "text/plain": [
       "(array([1, 1, 1, 1]),\n",
       " array([4.000-0.000j, 0.000+0.000j, 0.000-0.000j, 0.000-0.000j]),\n",
       " array([1.000+0.000j, 1.000+0.000j, 1.000-0.000j, 1.000+0.000j]))"
      ]
     },
     "execution_count": 15,
     "metadata": {},
     "output_type": "execute_result"
    }
   ],
   "source": [
    "x= np.array([1,1,1,1])\n",
    "X= fp.fft(x)\n",
    "xx= fp.ifft(X)\n",
    "x, X, xx"
   ]
  },
  {
   "cell_type": "code",
   "execution_count": 18,
   "metadata": {},
   "outputs": [
    {
     "data": {
      "text/plain": [
       "array([[ 1.000+0.000j,  1.000+0.000j,  1.000+0.000j,  1.000+0.000j],\n",
       "       [ 1.000+0.000j,  0.000-1.000j, -1.000-0.000j, -0.000+1.000j],\n",
       "       [ 1.000+0.000j, -1.000-0.000j,  1.000+0.000j, -1.000-0.000j],\n",
       "       [ 1.000+0.000j, -0.000+1.000j, -1.000-0.000j,  0.000-1.000j]])"
      ]
     },
     "execution_count": 18,
     "metadata": {},
     "output_type": "execute_result"
    }
   ],
   "source": [
    "N=4\n",
    "n= np.arange(N).reshape(-1,1)\n",
    "k= np.arange(N).reshape(1,-1)\n",
    "dftMat= np.exp(-1j*2*π/N*n@k)\n",
    "dftMat"
   ]
  },
  {
   "cell_type": "code",
   "execution_count": 20,
   "metadata": {},
   "outputs": [
    {
     "data": {
      "text/plain": [
       "array([ 4.000+0.000j, -0.000-0.000j,  0.000-0.000j,  0.000-0.000j])"
      ]
     },
     "execution_count": 20,
     "metadata": {},
     "output_type": "execute_result"
    }
   ],
   "source": [
    "X= x@dftMat\n",
    "X"
   ]
  },
  {
   "cell_type": "code",
   "execution_count": 21,
   "metadata": {},
   "outputs": [
    {
     "data": {
      "text/plain": [
       "array([[ 0.250+0.000j,  0.250+0.000j,  0.250-0.000j,  0.250-0.000j],\n",
       "       [ 0.250-0.000j,  0.000+0.250j, -0.250+0.000j, -0.000-0.250j],\n",
       "       [ 0.250-0.000j, -0.250+0.000j,  0.250-0.000j, -0.250+0.000j],\n",
       "       [ 0.250-0.000j, -0.000-0.250j, -0.250+0.000j,  0.000+0.250j]])"
      ]
     },
     "execution_count": 21,
     "metadata": {},
     "output_type": "execute_result"
    }
   ],
   "source": [
    "idftMat= lg.inv(dftMat)\n",
    "idftMat"
   ]
  },
  {
   "cell_type": "code",
   "execution_count": 22,
   "metadata": {},
   "outputs": [
    {
     "data": {
      "text/plain": [
       "array([1.000+0.000j, 1.000-0.000j, 1.000-0.000j, 1.000-0.000j])"
      ]
     },
     "execution_count": 22,
     "metadata": {},
     "output_type": "execute_result"
    }
   ],
   "source": [
    "xx= X@idftMat\n",
    "xx"
   ]
  },
  {
   "cell_type": "code",
   "execution_count": 25,
   "metadata": {},
   "outputs": [
    {
     "data": {
      "text/plain": [
       "array([[ 0.250-0.000j,  0.250-0.000j,  0.250-0.000j,  0.250-0.000j],\n",
       "       [ 0.250-0.000j,  0.000+0.250j, -0.250+0.000j, -0.000-0.250j],\n",
       "       [ 0.250-0.000j, -0.250+0.000j,  0.250-0.000j, -0.250+0.000j],\n",
       "       [ 0.250-0.000j, -0.000-0.250j, -0.250+0.000j,  0.000+0.250j]])"
      ]
     },
     "execution_count": 25,
     "metadata": {},
     "output_type": "execute_result"
    }
   ],
   "source": [
    "idftMat2= dftMat.T.conj() /N\n",
    "idftMat2"
   ]
  },
  {
   "cell_type": "code",
   "execution_count": 26,
   "metadata": {},
   "outputs": [
    {
     "data": {
      "text/plain": [
       "array([1.000-0.000j, 1.000-0.000j, 1.000+0.000j, 1.000+0.000j])"
      ]
     },
     "execution_count": 26,
     "metadata": {},
     "output_type": "execute_result"
    }
   ],
   "source": [
    "xx2= X@idftMat2\n",
    "xx2"
   ]
  },
  {
   "cell_type": "code",
   "execution_count": 29,
   "metadata": {},
   "outputs": [
    {
     "data": {
      "text/plain": [
       "array([[ True,  True,  True,  True],\n",
       "       [ True,  True,  True,  True],\n",
       "       [ True,  True,  True,  True],\n",
       "       [ True,  True,  True,  True]])"
      ]
     },
     "execution_count": 29,
     "metadata": {},
     "output_type": "execute_result"
    }
   ],
   "source": [
    "np.isclose(idftMat, idftMat2)"
   ]
  },
  {
   "cell_type": "code",
   "execution_count": 34,
   "metadata": {},
   "outputs": [
    {
     "data": {
      "text/plain": [
       "array([[ 4.000+0.000j, -0.000-0.000j,  0.000-0.000j,  0.000-0.000j],\n",
       "       [-0.000+0.000j,  4.000+0.000j, -0.000-0.000j,  0.000-0.000j],\n",
       "       [ 0.000+0.000j, -0.000+0.000j,  4.000+0.000j, -0.000-0.000j],\n",
       "       [ 0.000+0.000j,  0.000+0.000j, -0.000+0.000j,  4.000+0.000j]])"
      ]
     },
     "execution_count": 34,
     "metadata": {},
     "output_type": "execute_result"
    }
   ],
   "source": [
    "dftMat.conj().transpose() @ dftMat"
   ]
  },
  {
   "cell_type": "code",
   "execution_count": null,
   "metadata": {},
   "outputs": [],
   "source": [
    "np.eye(4)"
   ]
  },
  {
   "cell_type": "code",
   "execution_count": 36,
   "metadata": {},
   "outputs": [
    {
     "data": {
      "text/plain": [
       "array([[1.000, 0.000, 0.000, 0.000],\n",
       "       [0.000, 1.000, 0.000, 0.000],\n",
       "       [0.000, 0.000, 1.000, 0.000],\n",
       "       [0.000, 0.000, 0.000, 1.000]])"
      ]
     },
     "execution_count": 36,
     "metadata": {},
     "output_type": "execute_result"
    }
   ],
   "source": []
  },
  {
   "cell_type": "code",
   "execution_count": 44,
   "metadata": {},
   "outputs": [
    {
     "data": {
      "text/plain": [
       "-2.449293598294707e-16j"
      ]
     },
     "execution_count": 44,
     "metadata": {},
     "output_type": "execute_result"
    }
   ],
   "source": [
    "dftMat[1,:].conj() @ dftMat[:,3].T"
   ]
  },
  {
   "cell_type": "code",
   "execution_count": 49,
   "metadata": {},
   "outputs": [
    {
     "data": {
      "text/plain": [
       "array([[0.685+0.983j, 0.160+0.792j, 0.178+0.022j, 0.286+0.031j],\n",
       "       [0.755+0.611j, 0.864+0.812j, 0.411+0.986j, 0.029+0.591j],\n",
       "       [0.123+0.678j, 0.985+0.327j, 0.823+0.475j, 0.283+0.036j],\n",
       "       [0.855+0.810j, 0.128+0.636j, 0.699+0.342j, 0.237+0.200j]])"
      ]
     },
     "execution_count": 49,
     "metadata": {},
     "output_type": "execute_result"
    }
   ],
   "source": [
    "N=4\n",
    "W= np.random.random([N,N]) + 1j* np.random.random([N,N]) \n",
    "W"
   ]
  },
  {
   "cell_type": "code",
   "execution_count": 50,
   "metadata": {},
   "outputs": [
    {
     "data": {
      "text/plain": [
       "array([[ 0.109-0.669j,  0.090-0.106j, -0.568-0.160j,  0.515+0.425j],\n",
       "       [ 0.442+0.123j,  0.554+0.118j,  0.513-0.278j, -1.216-0.322j],\n",
       "       [-1.380+0.583j, -0.365+0.452j,  0.612-0.103j,  1.442-0.855j],\n",
       "       [ 1.877-0.531j, -0.503-1.853j, -0.512+1.143j, -0.809+1.272j]])"
      ]
     },
     "execution_count": 50,
     "metadata": {},
     "output_type": "execute_result"
    }
   ],
   "source": [
    "iW= lg.inv(W)\n",
    "iW"
   ]
  },
  {
   "cell_type": "code",
   "execution_count": 51,
   "metadata": {},
   "outputs": [
    {
     "data": {
      "text/plain": [
       "array([[ 1.000-0.000j, -0.000+0.000j,  0.000+0.000j,  0.000+0.000j],\n",
       "       [-0.000+0.000j,  1.000+0.000j,  0.000+0.000j,  0.000-0.000j],\n",
       "       [-0.000-0.000j, -0.000+0.000j,  1.000+0.000j,  0.000-0.000j],\n",
       "       [-0.000-0.000j, -0.000+0.000j,  0.000+0.000j,  1.000-0.000j]])"
      ]
     },
     "execution_count": 51,
     "metadata": {},
     "output_type": "execute_result"
    }
   ],
   "source": [
    "W@iW"
   ]
  },
  {
   "cell_type": "code",
   "execution_count": 68,
   "metadata": {},
   "outputs": [
    {
     "name": "stdout",
     "output_type": "stream",
     "text": [
      "89.2 ms ± 520 µs per loop (mean ± std. dev. of 7 runs, 10 loops each)\n"
     ]
    }
   ],
   "source": [
    "\n",
    "N=1024\n",
    "W= np.random.random([N,N]) + 1j* np.random.random([N,N]) \n",
    "%timeit iW= lg.inv(W)\n",
    "#W, iW, W@iW #, np.allclose(W@iW, np.eye(N))"
   ]
  },
  {
   "cell_type": "code",
   "execution_count": 69,
   "metadata": {},
   "outputs": [
    {
     "name": "stdout",
     "output_type": "stream",
     "text": [
      "5.94 ms ± 60.1 µs per loop (mean ± std. dev. of 7 runs, 100 loops each)\n"
     ]
    }
   ],
   "source": [
    "\n",
    "N=1024\n",
    "W= np.random.random([N,N]) + 1j* np.random.random([N,N]) \n",
    "%timeit tW= W.transpose().conj()"
   ]
  },
  {
   "cell_type": "code",
   "execution_count": 71,
   "metadata": {},
   "outputs": [],
   "source": [
    "N= 1024\n",
    "n= np.arange(N).reshape(-1,1)\n",
    "k= np.arange(N).reshape(1,-1)\n",
    "dftMat= np.exp(-1j*2*π/N*n@k)"
   ]
  },
  {
   "cell_type": "code",
   "execution_count": 79,
   "metadata": {},
   "outputs": [
    {
     "name": "stdout",
     "output_type": "stream",
     "text": [
      "89.6 ms ± 562 µs per loop (mean ± std. dev. of 7 runs, 10 loops each)\n"
     ]
    }
   ],
   "source": [
    "%timeit dftMat_inv= lg.inv(dftMat)\n",
    "# 91.4 ms ± 4.55 ms per loop (mean ± std. dev. of 7 runs, 10 loops each)"
   ]
  },
  {
   "cell_type": "code",
   "execution_count": 80,
   "metadata": {},
   "outputs": [
    {
     "name": "stdout",
     "output_type": "stream",
     "text": [
      "5.98 ms ± 35.6 µs per loop (mean ± std. dev. of 7 runs, 100 loops each)\n"
     ]
    }
   ],
   "source": [
    "%timeit dftMat_transconj= dftMat.T.conj()\n",
    "# 5.93 ms ± 31.5 µs per loop (mean ± std. dev. of 7 runs, 100 loops each)\n"
   ]
  },
  {
   "cell_type": "code",
   "execution_count": 81,
   "metadata": {},
   "outputs": [
    {
     "data": {
      "text/plain": [
       "15.413153456998316"
      ]
     },
     "execution_count": 81,
     "metadata": {},
     "output_type": "execute_result"
    }
   ],
   "source": [
    "91.4/5.93 # == 15.41\n",
    "# when N=1024, .inv() / .T.conj() = 15 times slower"
   ]
  },
  {
   "cell_type": "code",
   "execution_count": 83,
   "metadata": {},
   "outputs": [
    {
     "data": {
      "text/plain": [
       "(array([24.000-0.000j, -6.828+0.000j,  0.000-0.000j, -1.172+0.000j,\n",
       "         0.000-0.000j, -1.172-0.000j,  0.000+0.000j, -6.828-0.000j]),\n",
       " array([24.000, -6.828,  0.000, -1.172,  0.000]))"
      ]
     },
     "execution_count": 83,
     "metadata": {},
     "output_type": "execute_result"
    }
   ],
   "source": [
    "# DFT (N-point)\n",
    "# DCT- type1 (M+1) point\n",
    "# where M= N/2\n",
    "# and input to DFT is appended to be even-symmetric\n",
    "# x8points= [1,2,3,4,5,4,3,2]\n",
    "# x5points= [1,2,3,4,5]\n",
    "# DCT(x5points)[k] == DFT(x8points)[k], for k in [0,1,2,3,4]\n",
    "\n",
    "x8points= np.array([1,2,3,4,5,4,3,2])\n",
    "x5points= np.array([1,2,3,4,5])\n",
    "\n",
    "fp.fft(x8points), fp.dct(x5points, type=1)"
   ]
  },
  {
   "cell_type": "code",
   "execution_count": null,
   "metadata": {},
   "outputs": [],
   "source": [
    "# cosMat vs dftMat\n",
    "N=8\n",
    "n= np.arange(N).reshape(-1,1)\n",
    "k= np.arange(N).reshape(1,-1)\n",
    "dftMat= np.exp(-1j*2*π/N*n@k)\n",
    "dftMat"
   ]
  },
  {
   "cell_type": "code",
   "execution_count": 102,
   "metadata": {},
   "outputs": [
    {
     "data": {
      "text/plain": [
       "array([[ 5.000,  0.000,  1.000,  0.000,  1.000],\n",
       "       [ 0.000,  3.000,  0.000,  1.000, -0.000],\n",
       "       [ 1.000,  0.000,  3.000,  0.000,  1.000],\n",
       "       [ 0.000,  1.000,  0.000,  3.000, -0.000],\n",
       "       [ 1.000, -0.000,  1.000, -0.000,  5.000]])"
      ]
     },
     "execution_count": 102,
     "metadata": {},
     "output_type": "execute_result"
    }
   ],
   "source": [
    "M=N//2\n",
    "\n",
    "n= np.arange(M+1).reshape(-1,1)\n",
    "k= np.arange(M+1).reshape(1,-1)\n",
    "\n",
    "cosMat1= np.cos(π/M*n@k)\n",
    "cosMat1.T @ cosMat1"
   ]
  },
  {
   "cell_type": "code",
   "execution_count": 105,
   "metadata": {},
   "outputs": [
    {
     "data": {
      "text/plain": [
       "array([[ 2.500,  0.000,  0.000, -0.000, -0.000],\n",
       "       [ 0.000,  2.500, -0.000,  0.000,  0.000],\n",
       "       [ 0.000, -0.000,  2.500, -0.000, -0.000],\n",
       "       [-0.000,  0.000, -0.000,  2.500, -0.000],\n",
       "       [-0.000,  0.000, -0.000, -0.000,  2.500]])"
      ]
     },
     "execution_count": 105,
     "metadata": {},
     "output_type": "execute_result"
    }
   ],
   "source": [
    "cosMat4= np.cos(π/(M+1)*(n+1/2)@(k+1/2))\n",
    "cosMat4.T @ cosMat4"
   ]
  },
  {
   "cell_type": "code",
   "execution_count": 106,
   "metadata": {},
   "outputs": [
    {
     "data": {
      "text/plain": [
       "array([[ 5.000,  0.000, -0.000,  0.000, -0.000],\n",
       "       [ 0.000,  2.500,  0.000, -0.000,  0.000],\n",
       "       [-0.000,  0.000,  2.500,  0.000, -0.000],\n",
       "       [ 0.000, -0.000,  0.000,  2.500,  0.000],\n",
       "       [-0.000,  0.000, -0.000,  0.000,  2.500]])"
      ]
     },
     "execution_count": 106,
     "metadata": {},
     "output_type": "execute_result"
    }
   ],
   "source": [
    "cosMat2= np.cos(π/(M+1)*(n+1/2)@(k))\n",
    "cosMat2.T @ cosMat2"
   ]
  },
  {
   "cell_type": "code",
   "execution_count": 117,
   "metadata": {},
   "outputs": [
    {
     "data": {
      "text/plain": [
       "array([[3.000, 0.500, 0.500, 0.500, 0.500],\n",
       "       [0.500, 3.000, 0.500, 0.500, 0.500],\n",
       "       [0.500, 0.500, 3.000, 0.500, 0.500],\n",
       "       [0.500, 0.500, 0.500, 3.000, 0.500],\n",
       "       [0.500, 0.500, 0.500, 0.500, 3.000]])"
      ]
     },
     "execution_count": 117,
     "metadata": {},
     "output_type": "execute_result"
    }
   ],
   "source": [
    "cosMat3= np.cos(π/(M+1)*(n)@(k+1/2))\n",
    "cosMat3.T @ cosMat3"
   ]
  },
  {
   "cell_type": "code",
   "execution_count": 121,
   "metadata": {},
   "outputs": [],
   "source": [
    "fp.rfft?"
   ]
  },
  {
   "cell_type": "code",
   "execution_count": 126,
   "metadata": {},
   "outputs": [
    {
     "data": {
      "text/plain": [
       "(array([24.000-0.000j, -6.828+0.000j,  0.000-0.000j, -1.172+0.000j,\n",
       "         0.000-0.000j, -1.172-0.000j,  0.000+0.000j, -6.828-0.000j]),\n",
       " array([24.000, -6.828,  0.000,  0.000, -0.000, -1.172,  0.000,  0.000]),\n",
       " array([24.000, -6.828,  0.000, -1.172,  0.000]))"
      ]
     },
     "execution_count": 126,
     "metadata": {},
     "output_type": "execute_result"
    }
   ],
   "source": [
    "x= np.array([1,2,3,4,5,4,3,2])\n",
    "fp.fft(x), \\\n",
    "fp.rfft(x),\\\n",
    "fp.dct(x[0:4+1], type=1)"
   ]
  },
  {
   "cell_type": "code",
   "execution_count": 130,
   "metadata": {},
   "outputs": [],
   "source": [
    "N=1024\n",
    "x= np.random.random(N)"
   ]
  },
  {
   "cell_type": "code",
   "execution_count": 136,
   "metadata": {},
   "outputs": [
    {
     "name": "stdout",
     "output_type": "stream",
     "text": [
      "11.7 µs ± 25.1 ns per loop (mean ± std. dev. of 7 runs, 100000 loops each)\n"
     ]
    }
   ],
   "source": [
    "%timeit X_fft= fp.fft(x)"
   ]
  },
  {
   "cell_type": "code",
   "execution_count": 135,
   "metadata": {},
   "outputs": [
    {
     "name": "stdout",
     "output_type": "stream",
     "text": [
      "8.54 µs ± 33.7 ns per loop (mean ± std. dev. of 7 runs, 100000 loops each)\n"
     ]
    }
   ],
   "source": [
    "%timeit X_rfft= fp.rfft(x)"
   ]
  },
  {
   "cell_type": "code",
   "execution_count": 137,
   "metadata": {},
   "outputs": [
    {
     "name": "stdout",
     "output_type": "stream",
     "text": [
      "11 µs ± 45.2 ns per loop (mean ± std. dev. of 7 runs, 100000 loops each)\n"
     ]
    }
   ],
   "source": [
    "%timeit X_dct1= fp.dct(x[0:N//2+1], type=1)"
   ]
  },
  {
   "cell_type": "code",
   "execution_count": null,
   "metadata": {},
   "outputs": [],
   "source": []
  }
 ],
 "metadata": {
  "kernelspec": {
   "display_name": "Python 3",
   "language": "python",
   "name": "python3"
  },
  "language_info": {
   "codemirror_mode": {
    "name": "ipython",
    "version": 3
   },
   "file_extension": ".py",
   "mimetype": "text/x-python",
   "name": "python",
   "nbconvert_exporter": "python",
   "pygments_lexer": "ipython3",
   "version": "3.7.4"
  },
  "latex_envs": {
   "LaTeX_envs_menu_present": true,
   "autoclose": false,
   "autocomplete": true,
   "bibliofile": "biblio.bib",
   "cite_by": "apalike",
   "current_citInitial": 1,
   "eqLabelWithNumbers": true,
   "eqNumInitial": 1,
   "hotkeys": {
    "equation": "Ctrl-E",
    "itemize": "Ctrl-I"
   },
   "labels_anchors": false,
   "latex_user_defs": false,
   "report_style_numbering": false,
   "user_envs_cfg": false
  },
  "nbTranslate": {
   "displayLangs": [
    "zh-TW",
    "en"
   ],
   "hotkey": "alt-t",
   "langInMainMenu": true,
   "sourceLang": "en",
   "targetLang": "zh-TW",
   "useGoogleTranslate": true
  },
  "toc": {
   "base_numbering": 1,
   "nav_menu": {},
   "number_sections": true,
   "sideBar": true,
   "skip_h1_title": false,
   "title_cell": "Table of Contents",
   "title_sidebar": "Contents",
   "toc_cell": false,
   "toc_position": {},
   "toc_section_display": true,
   "toc_window_display": false
  },
  "varInspector": {
   "cols": {
    "lenName": 16,
    "lenType": 16,
    "lenVar": 40
   },
   "kernels_config": {
    "python": {
     "delete_cmd_postfix": "",
     "delete_cmd_prefix": "del ",
     "library": "var_list.py",
     "varRefreshCmd": "print(var_dic_list())"
    },
    "r": {
     "delete_cmd_postfix": ") ",
     "delete_cmd_prefix": "rm(",
     "library": "var_list.r",
     "varRefreshCmd": "cat(var_dic_list()) "
    }
   },
   "types_to_exclude": [
    "module",
    "function",
    "builtin_function_or_method",
    "instance",
    "_Feature"
   ],
   "window_display": false
  }
 },
 "nbformat": 4,
 "nbformat_minor": 2
}
