{
 "cells": [
  {
   "cell_type": "markdown",
   "metadata": {},
   "source": [
    "# DFT 補充 ....\n",
    "\n",
    "## Chapter 7  Discrete Fourier Transform\n",
    "\n",
    "https://en.wikipedia.org/wiki/Discrete_Fourier_transform\n",
    "\n",
    "- 正轉換 (DFT)\n",
    "\n",
    "for $k \\in [0,...., N-1]$\n",
    "![](https://wikimedia.org/api/rest_v1/media/math/render/svg/18b0e4c82f095e3789e51ad8c2c6685306b5662b)\n",
    "\n",
    "----\n",
    "\n",
    "- 逆轉換 (inverse DFT)\n",
    "\n",
    "for $n \\in [0,...., N-1]$\n",
    "![](https://wikimedia.org/api/rest_v1/media/math/render/svg/230e50dc8318b8806b7fa8e33d2662aca6816347)\n",
    "\n",
    "----\n",
    "\n",
    "where,\n",
    "$ i = j = \\sqrt{-1} $\n",
    "\n",
    "and,\n",
    "\n",
    "$\n",
    "e^{iφ} = cos(φ) + i \\cdot sin(φ) \n",
    "$\n",
    "\n",
    "You can see the derivation at http://en.wikipedia.org/wiki/Euler's_formula.\n",
    "\n",
    "![](https://upload.wikimedia.org/wikipedia/commons/thumb/7/71/Euler%27s_formula.svg/1280px-Euler%27s_formula.svg.png)"
   ]
  },
  {
   "cell_type": "code",
   "execution_count": 35,
   "metadata": {},
   "outputs": [
    {
     "data": {
      "text/plain": [
       "3.141592653589793"
      ]
     },
     "execution_count": 35,
     "metadata": {},
     "output_type": "execute_result"
    }
   ],
   "source": [
    "import numpy as np\n",
    "import scipy.fftpack as fp\n",
    "\n",
    "import scipy.linalg  as lg\n",
    "\n",
    "np.set_printoptions(precision=3, suppress=True)\n",
    "π= np.pi\n",
    "π"
   ]
  },
  {
   "cell_type": "code",
   "execution_count": 45,
   "metadata": {},
   "outputs": [
    {
     "data": {
      "text/plain": [
       "(array([1, 0, 0, 0]),\n",
       " array([1.-0.j, 1.+0.j, 1.-0.j, 1.-0.j]),\n",
       " array([1.+0.j, 0.+0.j, 0.-0.j, 0.+0.j]))"
      ]
     },
     "execution_count": 45,
     "metadata": {},
     "output_type": "execute_result"
    }
   ],
   "source": [
    "x= np.array([1,0,0,0])\n",
    "X= fp.fft(x)\n",
    "xx= fp.ifft(X)\n",
    "x, X, xx"
   ]
  },
  {
   "cell_type": "code",
   "execution_count": 46,
   "metadata": {},
   "outputs": [
    {
     "data": {
      "text/plain": [
       "array([[ 1.+0.j,  1.+0.j,  1.+0.j,  1.+0.j],\n",
       "       [ 1.+0.j,  0.-1.j, -1.-0.j, -0.+1.j],\n",
       "       [ 1.+0.j, -1.-0.j,  1.+0.j, -1.-0.j],\n",
       "       [ 1.+0.j, -0.+1.j, -1.-0.j,  0.-1.j]])"
      ]
     },
     "execution_count": 46,
     "metadata": {},
     "output_type": "execute_result"
    }
   ],
   "source": [
    "N= x.size\n",
    "n= np.arange(N).reshape(-1,1)# rows= N, cols=1\n",
    "k= np.arange(N).reshape(1,-1)# 1 x N\n",
    "dftMat= np.exp(-1j*2*π/N*n@k)\n",
    "dftMat"
   ]
  },
  {
   "cell_type": "code",
   "execution_count": 47,
   "metadata": {},
   "outputs": [
    {
     "data": {
      "text/plain": [
       "array([1.+0.j, 1.+0.j, 1.+0.j, 1.+0.j])"
      ]
     },
     "execution_count": 47,
     "metadata": {},
     "output_type": "execute_result"
    }
   ],
   "source": [
    "X= x@dftMat  # x.shape= (1,N); dftMat.shape==(N,N)\n",
    "X # X.shape= (N,N)"
   ]
  },
  {
   "cell_type": "code",
   "execution_count": null,
   "metadata": {},
   "outputs": [],
   "source": [
    "dftMat"
   ]
  },
  {
   "cell_type": "code",
   "execution_count": 50,
   "metadata": {},
   "outputs": [
    {
     "data": {
      "text/plain": [
       "array([[ 0.25+0.j  ,  0.25+0.j  ,  0.25-0.j  ,  0.25-0.j  ],\n",
       "       [ 0.25-0.j  ,  0.  +0.25j, -0.25+0.j  , -0.  -0.25j],\n",
       "       [ 0.25-0.j  , -0.25+0.j  ,  0.25-0.j  , -0.25+0.j  ],\n",
       "       [ 0.25-0.j  , -0.  -0.25j, -0.25+0.j  ,  0.  +0.25j]])"
      ]
     },
     "execution_count": 50,
     "metadata": {},
     "output_type": "execute_result"
    }
   ],
   "source": [
    "idftMat= lg.inv(dftMat) #np.linalg.inv(dftMat)\n",
    "idftMat"
   ]
  },
  {
   "cell_type": "code",
   "execution_count": 61,
   "metadata": {},
   "outputs": [
    {
     "name": "stdout",
     "output_type": "stream",
     "text": [
      "10.9 µs ± 48.4 ns per loop (mean ± std. dev. of 7 runs, 100000 loops each)\n"
     ]
    }
   ],
   "source": [
    "%timeit idftMat= lg.inv(dftMat)\n",
    "# slow"
   ]
  },
  {
   "cell_type": "code",
   "execution_count": 62,
   "metadata": {},
   "outputs": [
    {
     "name": "stdout",
     "output_type": "stream",
     "text": [
      "608 ns ± 3.16 ns per loop (mean ± std. dev. of 7 runs, 1000000 loops each)\n"
     ]
    }
   ],
   "source": [
    "%timeit idftMat= dftMat.conjugate()\n",
    "# fast"
   ]
  },
  {
   "cell_type": "code",
   "execution_count": 55,
   "metadata": {},
   "outputs": [
    {
     "data": {
      "text/plain": [
       "17.713365539452496"
      ]
     },
     "execution_count": 55,
     "metadata": {},
     "output_type": "execute_result"
    }
   ],
   "source": [
    "11e-6/621e-9"
   ]
  },
  {
   "cell_type": "code",
   "execution_count": 56,
   "metadata": {},
   "outputs": [
    {
     "data": {
      "text/plain": [
       "array([[ True,  True,  True,  True],\n",
       "       [ True,  True,  True,  True],\n",
       "       [ True,  True,  True,  True],\n",
       "       [ True,  True,  True,  True]])"
      ]
     },
     "execution_count": 56,
     "metadata": {},
     "output_type": "execute_result"
    }
   ],
   "source": [
    "np.isclose(lg.inv(dftMat), dftMat.conjugate()/N)"
   ]
  },
  {
   "cell_type": "code",
   "execution_count": 57,
   "metadata": {},
   "outputs": [
    {
     "data": {
      "text/plain": [
       "array([[ 1.-0.j, -0.+0.j,  0.-0.j,  0.+0.j],\n",
       "       [-0.+0.j,  1.-0.j,  0.-0.j,  0.+0.j],\n",
       "       [ 0.+0.j,  0.+0.j,  1.-0.j, -0.-0.j],\n",
       "       [ 0.+0.j,  0.-0.j,  0.+0.j,  1.-0.j]])"
      ]
     },
     "execution_count": 57,
     "metadata": {},
     "output_type": "execute_result"
    }
   ],
   "source": [
    "dftMat@lg.inv(dftMat)"
   ]
  },
  {
   "cell_type": "code",
   "execution_count": 58,
   "metadata": {},
   "outputs": [
    {
     "data": {
      "text/plain": [
       "array([[ 1.+0.j, -0.+0.j,  0.+0.j,  0.+0.j],\n",
       "       [-0.-0.j,  1.+0.j, -0.+0.j,  0.+0.j],\n",
       "       [ 0.-0.j, -0.-0.j,  1.+0.j, -0.+0.j],\n",
       "       [ 0.-0.j,  0.-0.j, -0.-0.j,  1.+0.j]])"
      ]
     },
     "execution_count": 58,
     "metadata": {},
     "output_type": "execute_result"
    }
   ],
   "source": [
    "dftMat@dftMat.conjugate()/N"
   ]
  },
  {
   "cell_type": "code",
   "execution_count": null,
   "metadata": {},
   "outputs": [],
   "source": []
  },
  {
   "cell_type": "code",
   "execution_count": null,
   "metadata": {},
   "outputs": [],
   "source": [
    "idftMat2= dftMat.T.conj() /N\n",
    "idftMat2"
   ]
  },
  {
   "cell_type": "code",
   "execution_count": null,
   "metadata": {},
   "outputs": [],
   "source": [
    "xx2= X@idftMat2\n",
    "xx2"
   ]
  },
  {
   "cell_type": "code",
   "execution_count": null,
   "metadata": {},
   "outputs": [],
   "source": [
    "np.isclose(idftMat, idftMat2)"
   ]
  },
  {
   "cell_type": "code",
   "execution_count": null,
   "metadata": {},
   "outputs": [],
   "source": [
    "dftMat.conj().transpose()/N \\\n",
    "@ dftMat"
   ]
  },
  {
   "cell_type": "code",
   "execution_count": null,
   "metadata": {},
   "outputs": [],
   "source": [
    "np.eye(4)"
   ]
  },
  {
   "cell_type": "code",
   "execution_count": null,
   "metadata": {},
   "outputs": [],
   "source": []
  },
  {
   "cell_type": "code",
   "execution_count": null,
   "metadata": {},
   "outputs": [],
   "source": [
    "dftMat[1,:].conj() @ dftMat[:,3].T"
   ]
  },
  {
   "cell_type": "code",
   "execution_count": null,
   "metadata": {},
   "outputs": [],
   "source": [
    "N=4\n",
    "W= np.random.random([N,N]) + 1j* np.random.random([N,N]) \n",
    "W"
   ]
  },
  {
   "cell_type": "code",
   "execution_count": null,
   "metadata": {},
   "outputs": [],
   "source": [
    "iW= lg.inv(W)\n",
    "iW"
   ]
  },
  {
   "cell_type": "code",
   "execution_count": null,
   "metadata": {},
   "outputs": [],
   "source": [
    "W@iW"
   ]
  },
  {
   "cell_type": "code",
   "execution_count": 63,
   "metadata": {},
   "outputs": [
    {
     "name": "stdout",
     "output_type": "stream",
     "text": [
      "89.5 ms ± 1.24 ms per loop (mean ± std. dev. of 7 runs, 10 loops each)\n"
     ]
    }
   ],
   "source": [
    "\n",
    "N=1024\n",
    "W= np.random.random([N,N]) + 1j* np.random.random([N,N]) \n",
    "%timeit iW= lg.inv(W)\n",
    "#W, iW, W@iW #, np.allclose(W@iW, np.eye(N))"
   ]
  },
  {
   "cell_type": "code",
   "execution_count": 64,
   "metadata": {},
   "outputs": [
    {
     "name": "stdout",
     "output_type": "stream",
     "text": [
      "5.83 ms ± 35.1 µs per loop (mean ± std. dev. of 7 runs, 100 loops each)\n"
     ]
    }
   ],
   "source": [
    "\n",
    "N=1024\n",
    "W= np.random.random([N,N]) + 1j* np.random.random([N,N]) \n",
    "%timeit tW= W.conj()"
   ]
  },
  {
   "cell_type": "code",
   "execution_count": null,
   "metadata": {},
   "outputs": [],
   "source": []
  },
  {
   "cell_type": "code",
   "execution_count": null,
   "metadata": {},
   "outputs": [],
   "source": []
  },
  {
   "cell_type": "code",
   "execution_count": null,
   "metadata": {},
   "outputs": [],
   "source": [
    "N= 1024\n",
    "x= np.random.random(N)\n",
    "\n",
    "def ryDft(x):\n",
    "    n= np.arange(N).reshape(-1,1)\n",
    "    k= np.arange(N).reshape(1,-1)\n",
    "    \n",
    "    dftMat= np.exp(-1j*2*π/N*n@k)\n",
    "    \n",
    "    X= x @ dftMat\n",
    "    \n",
    "    return X\n",
    "\n"
   ]
  },
  {
   "cell_type": "code",
   "execution_count": null,
   "metadata": {},
   "outputs": [],
   "source": [
    "## %timeit X= ryDft(x)\n",
    "\n",
    "n= np.arange(N).reshape(-1,1)\n",
    "k= np.arange(N).reshape(1,-1)\n",
    "\n",
    "dftMat= np.exp(-1j*2*π/N*n@k)\n",
    "\n",
    "%timeit X= x @ dftMat\n",
    "# 880 µs "
   ]
  },
  {
   "cell_type": "code",
   "execution_count": null,
   "metadata": {},
   "outputs": [],
   "source": [
    "%timeit X1= fp.fft(x)"
   ]
  },
  {
   "cell_type": "code",
   "execution_count": null,
   "metadata": {},
   "outputs": [],
   "source": [
    "858 /22.6, (N*N) / (N*np.log(N))"
   ]
  },
  {
   "cell_type": "code",
   "execution_count": null,
   "metadata": {},
   "outputs": [],
   "source": [
    "idftMat = dftMat.T.conj()/N"
   ]
  },
  {
   "cell_type": "code",
   "execution_count": 5,
   "metadata": {},
   "outputs": [
    {
     "name": "stdout",
     "output_type": "stream",
     "text": [
      "10.7 µs ± 77.3 ns per loop (mean ± std. dev. of 7 runs, 100000 loops each)\n"
     ]
    }
   ],
   "source": [
    "%timeit dftMat_inv= lg.inv(dftMat)\n",
    "# 91.4 ms ± 4.55 ms per loop (mean ± std. dev. of 7 runs, 10 loops each)"
   ]
  },
  {
   "cell_type": "code",
   "execution_count": 6,
   "metadata": {},
   "outputs": [
    {
     "name": "stdout",
     "output_type": "stream",
     "text": [
      "718 ns ± 4.82 ns per loop (mean ± std. dev. of 7 runs, 1000000 loops each)\n"
     ]
    }
   ],
   "source": [
    "%timeit dftMat_transconj= dftMat.T.conj()\n",
    "# 5.93 ms ± 31.5 µs per loop (mean ± std. dev. of 7 runs, 100 loops each)\n"
   ]
  },
  {
   "cell_type": "code",
   "execution_count": 7,
   "metadata": {},
   "outputs": [
    {
     "data": {
      "text/plain": [
       "15.413153456998316"
      ]
     },
     "execution_count": 7,
     "metadata": {},
     "output_type": "execute_result"
    }
   ],
   "source": [
    "91.4/5.93 # == 15.41\n",
    "# when N=1024, .inv() / .T.conj() = 15 times slower"
   ]
  },
  {
   "cell_type": "code",
   "execution_count": 8,
   "metadata": {},
   "outputs": [
    {
     "data": {
      "text/plain": [
       "(array([24.   -0.j, -6.828+0.j,  0.   -0.j, -1.172+0.j,  0.   -0.j,\n",
       "        -1.172-0.j,  0.   +0.j, -6.828-0.j]),\n",
       " array([24.   , -6.828,  0.   , -1.172,  0.   ]))"
      ]
     },
     "execution_count": 8,
     "metadata": {},
     "output_type": "execute_result"
    }
   ],
   "source": [
    "# DFT (N-point)\n",
    "# DCT- type1 (M+1) point\n",
    "# where M= N/2\n",
    "# and input to DFT is appended to be even-symmetric\n",
    "# x8points= [1,2,3,4,5,4,3,2]\n",
    "# x5points= [1,2,3,4,5]\n",
    "# DCT(x5points)[k] == DFT(x8points)[k], for k in [0,1,2,3,4]\n",
    "\n",
    "x8points= np.array([1,2,3,4,5,4,3,2])\n",
    "x5points= np.array([1,2,3,4,5])\n",
    "\n",
    "fp.fft(x8points), fp.dct(x5points, type=1)"
   ]
  },
  {
   "cell_type": "code",
   "execution_count": 9,
   "metadata": {},
   "outputs": [
    {
     "data": {
      "text/plain": [
       "array([[ 1.   +0.j   ,  1.   +0.j   ,  1.   +0.j   ,  1.   +0.j   ,\n",
       "         1.   +0.j   ,  1.   +0.j   ,  1.   +0.j   ,  1.   +0.j   ],\n",
       "       [ 1.   +0.j   ,  0.707-0.707j,  0.   -1.j   , -0.707-0.707j,\n",
       "        -1.   -0.j   , -0.707+0.707j, -0.   +1.j   ,  0.707+0.707j],\n",
       "       [ 1.   +0.j   ,  0.   -1.j   , -1.   -0.j   , -0.   +1.j   ,\n",
       "         1.   +0.j   ,  0.   -1.j   , -1.   -0.j   , -0.   +1.j   ],\n",
       "       [ 1.   +0.j   , -0.707-0.707j, -0.   +1.j   ,  0.707-0.707j,\n",
       "        -1.   -0.j   ,  0.707+0.707j,  0.   -1.j   , -0.707+0.707j],\n",
       "       [ 1.   +0.j   , -1.   -0.j   ,  1.   +0.j   , -1.   -0.j   ,\n",
       "         1.   +0.j   , -1.   -0.j   ,  1.   +0.j   , -1.   -0.j   ],\n",
       "       [ 1.   +0.j   , -0.707+0.707j,  0.   -1.j   ,  0.707+0.707j,\n",
       "        -1.   -0.j   ,  0.707-0.707j, -0.   +1.j   , -0.707-0.707j],\n",
       "       [ 1.   +0.j   , -0.   +1.j   , -1.   -0.j   ,  0.   -1.j   ,\n",
       "         1.   +0.j   , -0.   +1.j   , -1.   -0.j   , -0.   -1.j   ],\n",
       "       [ 1.   +0.j   ,  0.707+0.707j, -0.   +1.j   , -0.707+0.707j,\n",
       "        -1.   -0.j   , -0.707-0.707j, -0.   -1.j   ,  0.707-0.707j]])"
      ]
     },
     "execution_count": 9,
     "metadata": {},
     "output_type": "execute_result"
    }
   ],
   "source": [
    "# cosMat vs dftMat\n",
    "N=8\n",
    "n= np.arange(N).reshape(-1,1)\n",
    "k= np.arange(N).reshape(1,-1)\n",
    "dftMat= np.exp(-1j*2*π/N*n@k)\n",
    "dftMat"
   ]
  },
  {
   "cell_type": "code",
   "execution_count": 10,
   "metadata": {},
   "outputs": [
    {
     "data": {
      "text/plain": [
       "array([[ 5.,  0.,  1.,  0.,  1.],\n",
       "       [ 0.,  3.,  0.,  1., -0.],\n",
       "       [ 1.,  0.,  3.,  0.,  1.],\n",
       "       [ 0.,  1.,  0.,  3., -0.],\n",
       "       [ 1., -0.,  1., -0.,  5.]])"
      ]
     },
     "execution_count": 10,
     "metadata": {},
     "output_type": "execute_result"
    }
   ],
   "source": [
    "M=N//2\n",
    "\n",
    "n= np.arange(M+1).reshape(-1,1)\n",
    "k= np.arange(M+1).reshape(1,-1)\n",
    "\n",
    "cosMat1= np.cos(π/M*n@k)\n",
    "cosMat1.T @ cosMat1"
   ]
  },
  {
   "cell_type": "code",
   "execution_count": 11,
   "metadata": {},
   "outputs": [
    {
     "data": {
      "text/plain": [
       "array([[ 2.5,  0. ,  0. , -0. , -0. ],\n",
       "       [ 0. ,  2.5, -0. ,  0. ,  0. ],\n",
       "       [ 0. , -0. ,  2.5, -0. , -0. ],\n",
       "       [-0. ,  0. , -0. ,  2.5, -0. ],\n",
       "       [-0. ,  0. , -0. , -0. ,  2.5]])"
      ]
     },
     "execution_count": 11,
     "metadata": {},
     "output_type": "execute_result"
    }
   ],
   "source": [
    "cosMat4= np.cos(π/(M+1)*(n+1/2)@(k+1/2))\n",
    "cosMat4.T @ cosMat4"
   ]
  },
  {
   "cell_type": "code",
   "execution_count": 12,
   "metadata": {},
   "outputs": [
    {
     "data": {
      "text/plain": [
       "array([[ 5. ,  0. , -0. ,  0. , -0. ],\n",
       "       [ 0. ,  2.5,  0. , -0. ,  0. ],\n",
       "       [-0. ,  0. ,  2.5,  0. , -0. ],\n",
       "       [ 0. , -0. ,  0. ,  2.5,  0. ],\n",
       "       [-0. ,  0. , -0. ,  0. ,  2.5]])"
      ]
     },
     "execution_count": 12,
     "metadata": {},
     "output_type": "execute_result"
    }
   ],
   "source": [
    "cosMat2= np.cos(π/(M+1)*(n+1/2)@(k))\n",
    "cosMat2.T @ cosMat2"
   ]
  },
  {
   "cell_type": "code",
   "execution_count": 13,
   "metadata": {},
   "outputs": [
    {
     "data": {
      "text/plain": [
       "array([[3. , 0.5, 0.5, 0.5, 0.5],\n",
       "       [0.5, 3. , 0.5, 0.5, 0.5],\n",
       "       [0.5, 0.5, 3. , 0.5, 0.5],\n",
       "       [0.5, 0.5, 0.5, 3. , 0.5],\n",
       "       [0.5, 0.5, 0.5, 0.5, 3. ]])"
      ]
     },
     "execution_count": 13,
     "metadata": {},
     "output_type": "execute_result"
    }
   ],
   "source": [
    "cosMat3= np.cos(π/(M+1)*(n)@(k+1/2))\n",
    "cosMat3.T @ cosMat3"
   ]
  },
  {
   "cell_type": "code",
   "execution_count": 14,
   "metadata": {},
   "outputs": [],
   "source": [
    "fp.rfft?"
   ]
  },
  {
   "cell_type": "code",
   "execution_count": 15,
   "metadata": {},
   "outputs": [
    {
     "data": {
      "text/plain": [
       "(array([24.   -0.j, -6.828+0.j,  0.   -0.j, -1.172+0.j,  0.   -0.j,\n",
       "        -1.172-0.j,  0.   +0.j, -6.828-0.j]),\n",
       " array([24.   , -6.828,  0.   ,  0.   , -0.   , -1.172,  0.   ,  0.   ]),\n",
       " array([24.   , -6.828,  0.   , -1.172,  0.   ]))"
      ]
     },
     "execution_count": 15,
     "metadata": {},
     "output_type": "execute_result"
    }
   ],
   "source": [
    "x= np.array([1,2,3,4,5,4,3,2])\n",
    "fp.fft(x), \\\n",
    "fp.rfft(x),\\\n",
    "fp.dct(x[0:4+1], type=1)"
   ]
  },
  {
   "cell_type": "code",
   "execution_count": 16,
   "metadata": {},
   "outputs": [],
   "source": [
    "N=1024\n",
    "x= np.random.random(N)"
   ]
  },
  {
   "cell_type": "code",
   "execution_count": 17,
   "metadata": {},
   "outputs": [
    {
     "name": "stdout",
     "output_type": "stream",
     "text": [
      "11.4 µs ± 113 ns per loop (mean ± std. dev. of 7 runs, 100000 loops each)\n"
     ]
    }
   ],
   "source": [
    "%timeit X_fft= fp.fft(x)"
   ]
  },
  {
   "cell_type": "code",
   "execution_count": 18,
   "metadata": {},
   "outputs": [
    {
     "name": "stdout",
     "output_type": "stream",
     "text": [
      "8.67 µs ± 284 ns per loop (mean ± std. dev. of 7 runs, 100000 loops each)\n"
     ]
    }
   ],
   "source": [
    "%timeit X_rfft= fp.rfft(x)"
   ]
  },
  {
   "cell_type": "code",
   "execution_count": 19,
   "metadata": {},
   "outputs": [
    {
     "name": "stdout",
     "output_type": "stream",
     "text": [
      "9.95 µs ± 40 ns per loop (mean ± std. dev. of 7 runs, 100000 loops each)\n"
     ]
    }
   ],
   "source": [
    "%timeit X_dct1= fp.dct(x[0:N//2+1], type=1)"
   ]
  },
  {
   "cell_type": "code",
   "execution_count": null,
   "metadata": {},
   "outputs": [],
   "source": []
  },
  {
   "cell_type": "code",
   "execution_count": null,
   "metadata": {},
   "outputs": [],
   "source": []
  },
  {
   "cell_type": "code",
   "execution_count": null,
   "metadata": {},
   "outputs": [],
   "source": []
  },
  {
   "cell_type": "code",
   "execution_count": 20,
   "metadata": {},
   "outputs": [],
   "source": [
    "import numpy as np\n",
    "import scipy.fftpack as fp\n",
    "\n",
    "N= 1024\n",
    "x= np.random.random(N) #np.ones(N)"
   ]
  },
  {
   "cell_type": "code",
   "execution_count": 21,
   "metadata": {},
   "outputs": [
    {
     "data": {
      "text/plain": [
       "array([500.629 -0.j   ,   5.054+18.258j,   9.091 +5.081j, ...,\n",
       "        -6.814-18.179j,   9.091 -5.081j,   5.054-18.258j])"
      ]
     },
     "execution_count": 21,
     "metadata": {},
     "output_type": "execute_result"
    }
   ],
   "source": [
    "X= fp.fft(x)\n",
    "X"
   ]
  },
  {
   "cell_type": "code",
   "execution_count": 22,
   "metadata": {},
   "outputs": [],
   "source": [
    "π= np.pi\n",
    "\n",
    "n= np.arange(N)\n",
    "k= np.arange(N)\n",
    "\n",
    "W= np.exp(np.outer(n,k) * (-1j*2*π/N))"
   ]
  },
  {
   "cell_type": "code",
   "execution_count": 23,
   "metadata": {},
   "outputs": [
    {
     "data": {
      "text/plain": [
       "array([500.629 +0.j   ,   5.054+18.258j,   9.091 +5.081j, ...,\n",
       "        -6.814-18.179j,   9.091 -5.081j,   5.054-18.258j])"
      ]
     },
     "execution_count": 23,
     "metadata": {},
     "output_type": "execute_result"
    }
   ],
   "source": [
    "X= x@W\n",
    "X"
   ]
  },
  {
   "cell_type": "code",
   "execution_count": 24,
   "metadata": {},
   "outputs": [
    {
     "data": {
      "text/plain": [
       "array([500.629 +0.j   ,   5.054+18.258j,   9.091 +5.081j, ...,\n",
       "        -6.814-18.179j,   9.091 -5.081j,   5.054-18.258j])"
      ]
     },
     "execution_count": 24,
     "metadata": {},
     "output_type": "execute_result"
    }
   ],
   "source": [
    "import numpy as np\n",
    "\n",
    "π= np.pi\n",
    "\n",
    "def ryFFT(x):\n",
    "    \n",
    "    N= x.size\n",
    "    if N == 1:\n",
    "        X= x\n",
    "        return X\n",
    "    \n",
    "    He = ryFFT(x[0::2])\n",
    "    Ho = ryFFT(x[1::2])\n",
    "    \n",
    "    k= np.arange(N)\n",
    "    w= np.exp(-1j*2*π/N)\n",
    "    \n",
    "    X=   np.tile(He, 2)       \\\n",
    "       + np.tile(Ho, 2) * w**k\n",
    "    \n",
    "    return X\n",
    "\n",
    "ryFFT(x)"
   ]
  },
  {
   "cell_type": "code",
   "execution_count": 25,
   "metadata": {},
   "outputs": [
    {
     "name": "stdout",
     "output_type": "stream",
     "text": [
      "11.4 µs ± 47.2 ns per loop (mean ± std. dev. of 7 runs, 100000 loops each)\n"
     ]
    }
   ],
   "source": [
    "%timeit X= fp.fft(x)\n",
    "# 11.2 µs ± 54.9 ns per loop (mean ± std. dev. of 7 runs, 100000 loops each)"
   ]
  },
  {
   "cell_type": "code",
   "execution_count": 26,
   "metadata": {},
   "outputs": [
    {
     "name": "stdout",
     "output_type": "stream",
     "text": [
      "296 µs ± 11.6 µs per loop (mean ± std. dev. of 7 runs, 1000 loops each)\n"
     ]
    }
   ],
   "source": [
    "%timeit X1= x@W\n",
    "# 329 µs ± 10.2 µs per loop (mean ± std. dev. of 7 runs, 1000 loops each)"
   ]
  },
  {
   "cell_type": "code",
   "execution_count": 27,
   "metadata": {},
   "outputs": [
    {
     "name": "stdout",
     "output_type": "stream",
     "text": [
      "18.2 ms ± 112 µs per loop (mean ± std. dev. of 7 runs, 100 loops each)\n"
     ]
    }
   ],
   "source": [
    "%timeit X2= ryFFT(x) \n",
    "# 14 ms ± 47.7 µs per loop (mean ± std. dev. of 7 runs, 100 loops each)\n",
    "\n",
    "# 有關於速度，我們自己的 implementation 基本上還是很難與系統抗衡！！應該與 memory 的存取有關！"
   ]
  },
  {
   "cell_type": "code",
   "execution_count": null,
   "metadata": {},
   "outputs": [],
   "source": []
  },
  {
   "cell_type": "code",
   "execution_count": 28,
   "metadata": {},
   "outputs": [
    {
     "data": {
      "text/plain": [
       "(1, 29.375000000000004, 1250.0)"
      ]
     },
     "execution_count": 28,
     "metadata": {},
     "output_type": "execute_result"
    }
   ],
   "source": [
    "# fp.fft : x@W : ryFFT\n",
    "11.2, 329, 14000\n",
    "1, 329/11.2, 14000/11.2"
   ]
  },
  {
   "cell_type": "code",
   "execution_count": 34,
   "metadata": {},
   "outputs": [
    {
     "data": {
      "text/plain": [
       "array([16.   -0.j, -6.828+0.j,  0.   -0.j, -1.172+0.j,  0.   -0.j,\n",
       "       -1.172-0.j,  0.   +0.j, -6.828-0.j])"
      ]
     },
     "execution_count": 34,
     "metadata": {},
     "output_type": "execute_result"
    }
   ],
   "source": [
    "x= np.array([0,1,2,3,4,3,2,1])\n",
    "X= fp.fft(x)\n",
    "X"
   ]
  },
  {
   "cell_type": "code",
   "execution_count": 32,
   "metadata": {},
   "outputs": [
    {
     "data": {
      "text/plain": [
       "array([16.   , -6.828,  0.   , -1.172,  0.   ])"
      ]
     },
     "execution_count": 32,
     "metadata": {},
     "output_type": "execute_result"
    }
   ],
   "source": [
    "N= x.size\n",
    "M= N//2\n",
    "Xc= fp.dct(x[0:M+1], type=1)\n",
    "Xc"
   ]
  },
  {
   "cell_type": "code",
   "execution_count": null,
   "metadata": {},
   "outputs": [],
   "source": []
  }
 ],
 "metadata": {
  "kernelspec": {
   "display_name": "Python 3",
   "language": "python",
   "name": "python3"
  },
  "language_info": {
   "codemirror_mode": {
    "name": "ipython",
    "version": 3
   },
   "file_extension": ".py",
   "mimetype": "text/x-python",
   "name": "python",
   "nbconvert_exporter": "python",
   "pygments_lexer": "ipython3",
   "version": "3.7.4"
  },
  "latex_envs": {
   "LaTeX_envs_menu_present": true,
   "autoclose": false,
   "autocomplete": true,
   "bibliofile": "biblio.bib",
   "cite_by": "apalike",
   "current_citInitial": 1,
   "eqLabelWithNumbers": true,
   "eqNumInitial": 1,
   "hotkeys": {
    "equation": "Ctrl-E",
    "itemize": "Ctrl-I"
   },
   "labels_anchors": false,
   "latex_user_defs": false,
   "report_style_numbering": false,
   "user_envs_cfg": false
  },
  "nbTranslate": {
   "displayLangs": [
    "zh-TW",
    "en"
   ],
   "hotkey": "alt-t",
   "langInMainMenu": true,
   "sourceLang": "en",
   "targetLang": "zh-TW",
   "useGoogleTranslate": true
  },
  "toc": {
   "base_numbering": 1,
   "nav_menu": {},
   "number_sections": true,
   "sideBar": true,
   "skip_h1_title": false,
   "title_cell": "Table of Contents",
   "title_sidebar": "Contents",
   "toc_cell": false,
   "toc_position": {},
   "toc_section_display": true,
   "toc_window_display": false
  },
  "varInspector": {
   "cols": {
    "lenName": 16,
    "lenType": 16,
    "lenVar": 40
   },
   "kernels_config": {
    "python": {
     "delete_cmd_postfix": "",
     "delete_cmd_prefix": "del ",
     "library": "var_list.py",
     "varRefreshCmd": "print(var_dic_list())"
    },
    "r": {
     "delete_cmd_postfix": ") ",
     "delete_cmd_prefix": "rm(",
     "library": "var_list.r",
     "varRefreshCmd": "cat(var_dic_list()) "
    }
   },
   "types_to_exclude": [
    "module",
    "function",
    "builtin_function_or_method",
    "instance",
    "_Feature"
   ],
   "window_display": false
  }
 },
 "nbformat": 4,
 "nbformat_minor": 2
}
