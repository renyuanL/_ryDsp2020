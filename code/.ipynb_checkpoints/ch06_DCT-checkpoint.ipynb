{
 "cells": [
  {
   "cell_type": "markdown",
   "metadata": {},
   "source": [
    "[Formal definition of DCT @ Wikipedia](https://en.wikipedia.org/wiki/Discrete_cosine_transform#Formal_definition)"
   ]
  },
  {
   "cell_type": "markdown",
   "metadata": {},
   "source": [
    "Formally, the `discrete cosine transform (DCT)` is a linear, invertible function \n",
    "\n",
    "$\n",
    "f:\\mathbb {R} ^{N}\\to \\mathbb {R} ^{N}\n",
    "$\n",
    "- where,\n",
    "$\\mathbb {R} $\n",
    "denotes the set of real numbers), \n",
    "or equivalently an invertible N × N square matrix. \n",
    "\n",
    "There are several variants of the DCT with slightly modified definitions. \n",
    "\n",
    "The N real numbers \n",
    "- $x_0, ..., x_{N-1} $ \n",
    "\n",
    "are transformed into the N real numbers \n",
    "- $X_0, ..., X_{N-1}$ \n",
    "\n",
    "according to one of the formulas:"
   ]
  },
  {
   "cell_type": "markdown",
   "metadata": {},
   "source": [
    "for\n",
    "$\n",
    "k = 0, \\dots, N-1.\n",
    "$\n",
    "\n",
    "@ DCT-I,\n",
    "- $\n",
    "X_k =  \\sum_{n=1}^{N-2} x_n \\cdot \\cos \\left[ n k \\cdot \\frac{\\pi}{N-1} \\right] ~~~~\n",
    "     + \\frac{1}{2} \\left( x_0 + (-1)^k x_{N-1} \\right) \n",
    "\\\\\n",
    "$\n",
    "\n",
    "@ `DCT-II`,\n",
    "- $\n",
    "X_k = \\sum_{n=0}^{N-1} x_n \\cdot \\cos \\left[\\left(n+\\frac{1}{2}\\right) k \\cdot \\frac{\\pi}{N} \\right]\n",
    "$\n",
    "\n",
    "@ DCT-III,\n",
    "- $\n",
    "X_k = \\sum_{n=1}^{N-1} x_n \\cdot \\cos \\left[n \\left(k+\\frac{1}{2}\\right) \\cdot \\frac{\\pi}{N} \\right] ~~~~\n",
    "    + \\frac{1}{2} x_0 \n",
    "$\n",
    "\n",
    "@ `DCT-IV`,\n",
    "- $\n",
    "X_k =\n",
    " \\sum_{n=0}^{N-1} x_n \\cdot \\cos \\left[\\left(n+\\frac{1}{2}\\right) \\left(k+\\frac{1}{2}\\right) \\cdot \\frac{\\pi}{N}\\right]\n",
    "$\n"
   ]
  },
  {
   "cell_type": "code",
   "execution_count": null,
   "metadata": {},
   "outputs": [],
   "source": []
  },
  {
   "cell_type": "code",
   "execution_count": null,
   "metadata": {},
   "outputs": [],
   "source": []
  },
  {
   "cell_type": "code",
   "execution_count": null,
   "metadata": {},
   "outputs": [],
   "source": []
  },
  {
   "cell_type": "code",
   "execution_count": null,
   "metadata": {},
   "outputs": [],
   "source": []
  },
  {
   "cell_type": "code",
   "execution_count": 1,
   "metadata": {},
   "outputs": [
    {
     "data": {
      "text/plain": [
       "(array([0, 1, 2, 3]), (4,), array([0, 1, 2, 3]), (4,))"
      ]
     },
     "execution_count": 1,
     "metadata": {},
     "output_type": "execute_result"
    }
   ],
   "source": [
    "import numpy as np\n",
    "\n",
    "np.set_printoptions(precision= 3, suppress= True)\n",
    "\n",
    "π= np.pi\n",
    "\n",
    "N= 4\n",
    "\n",
    "n= np.arange(N)\n",
    "k= np.arange(N)\n",
    "n, n.shape, k, k.shape"
   ]
  },
  {
   "cell_type": "code",
   "execution_count": 2,
   "metadata": {},
   "outputs": [
    {
     "data": {
      "text/plain": [
       "array([[ 0.981,  0.831,  0.556,  0.195],\n",
       "       [ 0.831, -0.195, -0.981, -0.556],\n",
       "       [ 0.556, -0.981,  0.195,  0.831],\n",
       "       [ 0.195, -0.556,  0.831, -0.981]])"
      ]
     },
     "execution_count": 2,
     "metadata": {},
     "output_type": "execute_result"
    }
   ],
   "source": [
    "np.cos((n+.5).reshape(-1,1) @ (k+1/2).reshape(1,-1) *π/N)"
   ]
  },
  {
   "cell_type": "code",
   "execution_count": 3,
   "metadata": {},
   "outputs": [
    {
     "data": {
      "text/plain": [
       "array([[ 0.981,  0.831,  0.556,  0.195],\n",
       "       [ 0.831, -0.195, -0.981, -0.556],\n",
       "       [ 0.556, -0.981,  0.195,  0.831],\n",
       "       [ 0.195, -0.556,  0.831, -0.981]])"
      ]
     },
     "execution_count": 3,
     "metadata": {},
     "output_type": "execute_result"
    }
   ],
   "source": [
    "dct4= np.cos( (n+1/2).reshape(-1,1)\n",
    "             @(k+1/2).reshape(1,-1)\n",
    "             *π/N)\n",
    "dct4"
   ]
  },
  {
   "cell_type": "code",
   "execution_count": 4,
   "metadata": {},
   "outputs": [
    {
     "data": {
      "text/plain": [
       "(array([1, 1, 1, 1]), array([ 2.563, -0.9  ,  0.601, -0.51 ]))"
      ]
     },
     "execution_count": 4,
     "metadata": {},
     "output_type": "execute_result"
    }
   ],
   "source": [
    "x= np.array([1,1,1,1])\n",
    "X= x @ dct4\n",
    "x, X\n",
    "# scipy: array([ 5.126, -1.8  ,  1.203, -1.02 ]))\n",
    "# wiki:  array([ 2.563, -0.9  ,  0.601, -0.51 ])) *2"
   ]
  },
  {
   "cell_type": "code",
   "execution_count": 5,
   "metadata": {},
   "outputs": [
    {
     "data": {
      "text/plain": [
       "array([[ 0.49 ,  0.416,  0.278,  0.098],\n",
       "       [ 0.416, -0.098, -0.49 , -0.278],\n",
       "       [ 0.278, -0.49 ,  0.098,  0.416],\n",
       "       [ 0.098, -0.278,  0.416, -0.49 ]])"
      ]
     },
     "execution_count": 5,
     "metadata": {},
     "output_type": "execute_result"
    }
   ],
   "source": [
    "import scipy.linalg as lg\n",
    "dct4Inv= lg.inv(dct4)\n",
    "dct4Inv"
   ]
  },
  {
   "cell_type": "code",
   "execution_count": 6,
   "metadata": {},
   "outputs": [
    {
     "data": {
      "text/plain": [
       "array([[ 1., -0., -0.,  0.],\n",
       "       [ 0.,  1.,  0.,  0.],\n",
       "       [ 0., -0.,  1., -0.],\n",
       "       [ 0., -0.,  0.,  1.]])"
      ]
     },
     "execution_count": 6,
     "metadata": {},
     "output_type": "execute_result"
    }
   ],
   "source": [
    "dct4 @ dct4Inv # == Identity matrix"
   ]
  },
  {
   "cell_type": "code",
   "execution_count": 7,
   "metadata": {},
   "outputs": [
    {
     "data": {
      "text/plain": [
       "array([ True,  True,  True,  True])"
      ]
     },
     "execution_count": 7,
     "metadata": {},
     "output_type": "execute_result"
    }
   ],
   "source": [
    "x1= X @ dct4Inv\n",
    "np.isclose(x1, x)"
   ]
  },
  {
   "cell_type": "code",
   "execution_count": 8,
   "metadata": {},
   "outputs": [
    {
     "data": {
      "text/plain": [
       "array([[0.51 , 0.601, 0.9  , 2.563]])"
      ]
     },
     "execution_count": 8,
     "metadata": {},
     "output_type": "execute_result"
    }
   ],
   "source": [
    "x= np.array([1,-1,1,-1])\n",
    "\n",
    "X= x.reshape(1,-1) @ dct4\n",
    "X"
   ]
  },
  {
   "cell_type": "code",
   "execution_count": 9,
   "metadata": {},
   "outputs": [
    {
     "data": {
      "text/plain": [
       "array([[ 1., -1.,  1., -1.]])"
      ]
     },
     "execution_count": 9,
     "metadata": {},
     "output_type": "execute_result"
    }
   ],
   "source": [
    "xx= X @ dct4Inv\n",
    "xx"
   ]
  },
  {
   "cell_type": "code",
   "execution_count": 10,
   "metadata": {},
   "outputs": [
    {
     "data": {
      "text/plain": [
       "array([[ 1.   ,  0.924,  0.707,  0.383],\n",
       "       [ 1.   ,  0.383, -0.707, -0.924],\n",
       "       [ 1.   , -0.383, -0.707,  0.924],\n",
       "       [ 1.   , -0.924,  0.707, -0.383]])"
      ]
     },
     "execution_count": 10,
     "metadata": {},
     "output_type": "execute_result"
    }
   ],
   "source": [
    "# Dct-II\n",
    "dct2= np.cos( (n+1/2).reshape(-1,1)\n",
    "             @(k    ).reshape(1,-1)\n",
    "             *π/N)\n",
    "dct2"
   ]
  },
  {
   "cell_type": "code",
   "execution_count": 11,
   "metadata": {},
   "outputs": [
    {
     "data": {
      "text/plain": [
       "array([[ 0.25 ,  0.25 ,  0.25 ,  0.25 ],\n",
       "       [ 0.462,  0.191, -0.191, -0.462],\n",
       "       [ 0.354, -0.354, -0.354,  0.354],\n",
       "       [ 0.191, -0.462,  0.462, -0.191]])"
      ]
     },
     "execution_count": 11,
     "metadata": {},
     "output_type": "execute_result"
    }
   ],
   "source": [
    "dct2Inv= lg.inv(dct2)\n",
    "dct2Inv"
   ]
  },
  {
   "cell_type": "code",
   "execution_count": 12,
   "metadata": {},
   "outputs": [
    {
     "data": {
      "text/plain": [
       "array([[ 0.   ,  1.082, -0.   ,  2.613]])"
      ]
     },
     "execution_count": 12,
     "metadata": {},
     "output_type": "execute_result"
    }
   ],
   "source": [
    "#x= np.array([1,-1,1,-1])\n",
    "\n",
    "X= x.reshape(1,-1) @ dct2\n",
    "X"
   ]
  },
  {
   "cell_type": "code",
   "execution_count": 13,
   "metadata": {},
   "outputs": [
    {
     "data": {
      "text/plain": [
       "array([[ 1., -1.,  1., -1.]])"
      ]
     },
     "execution_count": 13,
     "metadata": {},
     "output_type": "execute_result"
    }
   ],
   "source": [
    "xx= X @ dct2Inv\n",
    "xx"
   ]
  },
  {
   "cell_type": "code",
   "execution_count": 14,
   "metadata": {},
   "outputs": [
    {
     "data": {
      "text/plain": [
       "(array([0.51 , 0.601, 0.9  , 2.563]), array([ 0.   ,  1.082, -0.   ,  2.613]))"
      ]
     },
     "execution_count": 14,
     "metadata": {},
     "output_type": "execute_result"
    }
   ],
   "source": [
    "X4= x@dct4\n",
    "X2= x@dct2\n",
    "X4, X2"
   ]
  },
  {
   "cell_type": "code",
   "execution_count": 15,
   "metadata": {},
   "outputs": [],
   "source": [
    "import scipy as sp\n",
    "sp.fft.dct?"
   ]
  },
  {
   "cell_type": "code",
   "execution_count": 16,
   "metadata": {},
   "outputs": [
    {
     "data": {
      "text/plain": [
       "(array([6., 0., 0., 0.]),\n",
       " array([8., 0., 0., 0.]),\n",
       " array([ 5.027, -1.497,  0.668, -0.199]),\n",
       " array([ 5.126, -1.8  ,  1.203, -1.02 ]))"
      ]
     },
     "execution_count": 16,
     "metadata": {},
     "output_type": "execute_result"
    }
   ],
   "source": [
    "x= np.array([1,1,1,1])\n",
    "\n",
    "X1= sp.fft.dct(x, type= 1)#, norm='ortho')\n",
    "X2= sp.fft.dct(x, type= 2)#, norm='ortho')\n",
    "X3= sp.fft.dct(x, type= 3)#, norm='ortho')\n",
    "X4= sp.fft.dct(x, type= 4)#, norm='ortho')\n",
    "\n",
    "X1, X2, X3, X4"
   ]
  },
  {
   "cell_type": "code",
   "execution_count": 17,
   "metadata": {},
   "outputs": [
    {
     "data": {
      "text/plain": [
       "(array([1., 1., 1., 1.]),\n",
       " array([1., 1., 1., 1.]),\n",
       " array([1., 1., 1., 1.]),\n",
       " array([1., 1., 1., 1.]))"
      ]
     },
     "execution_count": 17,
     "metadata": {},
     "output_type": "execute_result"
    }
   ],
   "source": [
    "x1= sp.fft.idct(X1, type= 1)#, norm='ortho')\n",
    "x2= sp.fft.idct(X2, type= 2)#, norm='ortho')\n",
    "x3= sp.fft.idct(X3, type= 3)#, norm='ortho')\n",
    "x4= sp.fft.idct(X4, type= 4)#, norm='ortho')\n",
    "\n",
    "x1, x2, x3, x4  # == x\n"
   ]
  },
  {
   "cell_type": "code",
   "execution_count": 18,
   "metadata": {},
   "outputs": [],
   "source": [
    "sp.fft.dct??"
   ]
  },
  {
   "cell_type": "markdown",
   "metadata": {},
   "source": [
    "Notes\n",
    "-----\n",
    "\n",
    "For a single dimension array ``x``, ``dct(x, norm='ortho')`` is equal to\n",
    "MATLAB ``dct(x)``.\n",
    "\n",
    "For ``norm=None``, there is no scaling on `dct` and the `idct` is scaled by\n",
    "``1/N`` where ``N`` is the \"logical\" size of the DCT. For ``norm='ortho'``\n",
    "both directions are scaled by the same factor ``1/sqrt(N)``.\n",
    "\n",
    "There are theoretically 8 types of the DCT, only the first 4 types are\n",
    "implemented in scipy. \n",
    "\n",
    "'The' DCT generally refers to `DCT type 2`, \n",
    "and 'the' Inverse DCT generally refers to `DCT type 3`."
   ]
  },
  {
   "cell_type": "markdown",
   "metadata": {},
   "source": [
    "**Type I**\n",
    "\n",
    "There are several definitions of the DCT-I; we use the following\n",
    "(for ``norm=None``)\n",
    "\n",
    ".. math::\n",
    "\n",
    "$\n",
    "   y_k = x_0 + (-1)^k x_{N-1} + 2 \\sum_{n=1}^{N-2} x_n \\cos\\left(\n",
    "   \\frac{\\pi k n}{N-1} \\right)\n",
    "$\n",
    "\n",
    "If ``norm='ortho'``, ``x[0]`` and ``x[N-1]`` are multiplied by a scaling\n",
    "factor of :math:`\\sqrt{2}`, and ``y[k]`` is multiplied by a scaling factor\n",
    "``f``\n",
    "\n",
    ".. math::\n",
    "\n",
    "$\n",
    "    f = \\begin{cases}\n",
    "     \\frac{1}{2}\\sqrt{\\frac{1}{N-1}} & \\text{if }k=0\\text{ or }N-1, \\\\\n",
    "     \\frac{1}{2}\\sqrt{\\frac{2}{N-1}} & \\text{otherwise} \\end{cases}\n",
    "$\n",
    "\n",
    ".. note::\n",
    "   The DCT-I is only supported for input size > 1.\n",
    "\n",
    "----\n",
    "**Type II**\n",
    "\n",
    "There are several definitions of the DCT-II; we use the following\n",
    "(for ``norm=None``)\n",
    "\n",
    ".. math::\n",
    "\n",
    "$\n",
    "   y_k = 2 \\sum_{n=0}^{N-1} x_n \\cos\\left(\\frac{\\pi k(2n+1)}{2N} \\right)\n",
    "$\n",
    "\n",
    "If ``norm='ortho'``, ``y[k]`` is multiplied by a scaling factor ``f``\n",
    "\n",
    ".. math::\n",
    "\n",
    "$\n",
    "   f = \\begin{cases}\n",
    "   \\sqrt{\\frac{1}{4N}} & \\text{if }k=0, \\\\\n",
    "   \\sqrt{\\frac{1}{2N}} & \\text{otherwise} \\end{cases}\n",
    "$\n",
    "\n",
    "Which makes the corresponding matrix of coefficients orthonormal\n",
    "(``O @ O.T = np.eye(N)``).\n",
    "\n",
    "----\n",
    "\n",
    "**Type III**\n",
    "\n",
    "There are several definitions, we use the following (for ``norm=None``)\n",
    "\n",
    ".. math::\n",
    "\n",
    "$\n",
    "   y_k = x_0 + 2 \\sum_{n=1}^{N-1} x_n \\cos\\left(\\frac{\\pi(2k+1)n}{2N}\\right)\n",
    "$\n",
    "\n",
    "or, for ``norm='ortho'``\n",
    "\n",
    ".. math::\n",
    "\n",
    "$\n",
    "   y_k = \\frac{x_0}{\\sqrt{N}} + \\sqrt{\\frac{2}{N}} \\sum_{n=1}^{N-1} x_n\n",
    "   \\cos\\left(\\frac{\\pi(2k+1)n}{2N}\\right)\n",
    "$\n",
    "\n",
    "The (unnormalized) DCT-III is the inverse of the (unnormalized) DCT-II, up\n",
    "to a factor `2N`. The orthonormalized DCT-III is exactly the inverse of\n",
    "the orthonormalized DCT-II.\n",
    "\n",
    "----\n",
    "**Type IV**\n",
    "\n",
    "There are several definitions of the DCT-IV; we use the following\n",
    "(for ``norm=None``)\n",
    "\n",
    ".. math::\n",
    "\n",
    "$\n",
    "   y_k = 2 \\sum_{n=0}^{N-1} x_n \\cos\\left(\\frac{\\pi(2k+1)(2n+1)}{4N} \\right)\n",
    "$\n",
    "\n",
    "If ``norm='ortho'``, ``y[k]`` is multiplied by a scaling factor ``f``\n",
    "\n",
    ".. math::\n",
    "\n",
    "$\n",
    "    f = \\frac{1}{\\sqrt{2N}}\n",
    "$\n",
    "\n",
    "----\n",
    "References\n",
    "\n",
    "----------\n",
    ".. [1] 'A Fast Cosine Transform in One and Two Dimensions', by J.\n",
    "       Makhoul, `IEEE Transactions on acoustics, speech and signal\n",
    "       processing` vol. 28(1), pp. 27-34,\n",
    "       :doi:`10.1109/TASSP.1980.1163351` (1980).\n",
    "       \n",
    ".. [2] Wikipedia, \"Discrete cosine transform\",\n",
    "       https://en.wikipedia.org/wiki/Discrete_cosine_transform\n",
    "       "
   ]
  },
  {
   "cell_type": "markdown",
   "metadata": {},
   "source": [
    "- dct1\n",
    "\n",
    "    - $y_k = 2 \\sum_{n=1}^{N-2} \n",
    "               \\left{ \\cos\n",
    "                      \\left[ \\frac{π}{N-1} \\cdot k ~ n  \n",
    "                      \\right] \n",
    "                      \\cdot  x_n \n",
    "               \\right} ~~~~\n",
    "             + \\left( x_0 + x_{N-1} \\cdot (-1)^k \n",
    "               \\right) \n",
    "      $\n",
    "\n",
    "- dct2\n",
    "\n",
    "    - $y_k = 2 \\sum_{n=0}^{N-1} \n",
    "               \\left{ \\cos\n",
    "                      \\left[ \\frac{π}{N} \\cdot k~(n+\\frac{1}{2}) \n",
    "                      \\right]  \n",
    "                      \\cdot  x_n\n",
    "               \\right}\n",
    "    $\n",
    "\n",
    "- dct3\n",
    "\n",
    "    - $y_k = 2 \\sum_{n=1}^{N-1} \n",
    "               \\left{ \\cos\n",
    "                      \\left[ \\frac{π}{N} \\cdot (k+\\frac{1}{2})~n\n",
    "                      \\right]  \n",
    "                      \\cdot  x_n \n",
    "               \\right} ~~~~\n",
    "            + x_0 \n",
    "    $\n",
    "\n",
    "- dct4\n",
    "\n",
    "    - $y_k = 2 \\sum_{n=0}^{N-1} \n",
    "               \\left{ \\cos\n",
    "                      \\left[ \\frac{π}{N} \\cdot (k+\\frac{1}{2})~(n+\\frac{1}{2}) \n",
    "                      \\right]  \n",
    "                      \\cdot  x_n\n",
    "               \\right}\n",
    "    $\n",
    "    "
   ]
  },
  {
   "cell_type": "code",
   "execution_count": 19,
   "metadata": {},
   "outputs": [
    {
     "data": {
      "text/plain": [
       "(array([0, 1, 2, 3]), array([0, 1, 2, 3]))"
      ]
     },
     "execution_count": 19,
     "metadata": {},
     "output_type": "execute_result"
    }
   ],
   "source": [
    "import numpy as np\n",
    "\n",
    "np.set_printoptions(precision= 3, suppress= True)\n",
    "\n",
    "π= np.pi\n",
    "\n",
    "N= 4\n",
    "\n",
    "n= np.arange(N)\n",
    "k= np.arange(N)\n",
    "n,k\n"
   ]
  },
  {
   "cell_type": "code",
   "execution_count": 20,
   "metadata": {},
   "outputs": [
    {
     "data": {
      "text/plain": [
       "array([[ 2.   ,  2.   ,  2.   ,  2.   ],\n",
       "       [ 1.848,  0.765, -0.765, -1.848],\n",
       "       [ 1.414, -1.414, -1.414,  1.414],\n",
       "       [ 0.765, -1.848,  1.848, -0.765]])"
      ]
     },
     "execution_count": 20,
     "metadata": {},
     "output_type": "execute_result"
    }
   ],
   "source": [
    "dct2= 2 *np.cos( π/N\n",
    "                *(k).reshape(-1,1)\n",
    "                @(n+1/2).reshape(1,-1)\n",
    "               )\n",
    "dct2"
   ]
  },
  {
   "cell_type": "code",
   "execution_count": 21,
   "metadata": {},
   "outputs": [
    {
     "data": {
      "text/plain": [
       "array([[ 1.962,  1.663,  1.111,  0.39 ],\n",
       "       [ 1.663, -0.39 , -1.962, -1.111],\n",
       "       [ 1.111, -1.962,  0.39 ,  1.663],\n",
       "       [ 0.39 , -1.111,  1.663, -1.962]])"
      ]
     },
     "execution_count": 21,
     "metadata": {},
     "output_type": "execute_result"
    }
   ],
   "source": [
    "dct4= 2 *np.cos( π/N\n",
    "                *(k+1/2).reshape(-1,1)\n",
    "                @(n+1/2).reshape(1,-1)\n",
    "               )\n",
    "dct4"
   ]
  },
  {
   "cell_type": "code",
   "execution_count": 22,
   "metadata": {},
   "outputs": [
    {
     "data": {
      "text/plain": [
       "array([[ 8.],\n",
       "       [ 0.],\n",
       "       [-0.],\n",
       "       [-0.]])"
      ]
     },
     "execution_count": 22,
     "metadata": {},
     "output_type": "execute_result"
    }
   ],
   "source": [
    "dct2@x.reshape(-1,1)"
   ]
  },
  {
   "cell_type": "code",
   "execution_count": 23,
   "metadata": {},
   "outputs": [
    {
     "data": {
      "text/plain": [
       "array([[ 5.126],\n",
       "       [-1.8  ],\n",
       "       [ 1.203],\n",
       "       [-1.02 ]])"
      ]
     },
     "execution_count": 23,
     "metadata": {},
     "output_type": "execute_result"
    }
   ],
   "source": [
    "dct4@x.reshape(-1,1)"
   ]
  },
  {
   "cell_type": "code",
   "execution_count": 24,
   "metadata": {},
   "outputs": [
    {
     "data": {
      "text/plain": [
       "array([8., 0., 0., 0.])"
      ]
     },
     "execution_count": 24,
     "metadata": {},
     "output_type": "execute_result"
    }
   ],
   "source": [
    "sp.fft.dct(x, type=2)"
   ]
  },
  {
   "cell_type": "code",
   "execution_count": 25,
   "metadata": {},
   "outputs": [
    {
     "data": {
      "text/plain": [
       "array([ 5.126, -1.8  ,  1.203, -1.02 ])"
      ]
     },
     "execution_count": 25,
     "metadata": {},
     "output_type": "execute_result"
    }
   ],
   "source": [
    "sp.fft.dct(x, type=4)"
   ]
  },
  {
   "cell_type": "code",
   "execution_count": 26,
   "metadata": {},
   "outputs": [
    {
     "data": {
      "text/plain": [
       "array([[ 2.   ,  1.848,  1.414,  0.765],\n",
       "       [ 2.   ,  0.765, -1.414, -1.848],\n",
       "       [ 2.   , -0.765, -1.414,  1.848],\n",
       "       [ 2.   , -1.848,  1.414, -0.765]])"
      ]
     },
     "execution_count": 26,
     "metadata": {},
     "output_type": "execute_result"
    }
   ],
   "source": [
    "# dct3\n",
    "dct3= 2 *np.cos( π/N\n",
    "                *(k+1/2).reshape(-1,1)\n",
    "                @(n).reshape(1,-1)\n",
    "               )\n",
    "dct3"
   ]
  },
  {
   "cell_type": "code",
   "execution_count": 27,
   "metadata": {},
   "outputs": [
    {
     "data": {
      "text/plain": [
       "array([[ 5.027],\n",
       "       [-1.497],\n",
       "       [ 0.668],\n",
       "       [-0.199]])"
      ]
     },
     "execution_count": 27,
     "metadata": {},
     "output_type": "execute_result"
    }
   ],
   "source": [
    "dct3[:,1:]@x.reshape(-1,1)[1:] + x[0]"
   ]
  },
  {
   "cell_type": "code",
   "execution_count": 28,
   "metadata": {},
   "outputs": [
    {
     "data": {
      "text/plain": [
       "array([ 5.027, -1.497,  0.668, -0.199])"
      ]
     },
     "execution_count": 28,
     "metadata": {},
     "output_type": "execute_result"
    }
   ],
   "source": [
    "sp.fft.dct(x, type=3)"
   ]
  },
  {
   "cell_type": "code",
   "execution_count": 29,
   "metadata": {},
   "outputs": [
    {
     "data": {
      "text/plain": [
       "array([[ 2.,  2.,  2.,  2.],\n",
       "       [ 2.,  1., -1., -2.],\n",
       "       [ 2., -1., -1.,  2.],\n",
       "       [ 2., -2.,  2., -2.]])"
      ]
     },
     "execution_count": 29,
     "metadata": {},
     "output_type": "execute_result"
    }
   ],
   "source": [
    "# dct1\n",
    "dct1= 2 *np.cos( π/(N-1)\n",
    "                *(k).reshape(-1,1)\n",
    "                @(n).reshape(1,-1)\n",
    "               )\n",
    "dct1"
   ]
  },
  {
   "cell_type": "code",
   "execution_count": 30,
   "metadata": {},
   "outputs": [
    {
     "data": {
      "text/plain": [
       "array([[ 6.],\n",
       "       [ 0.],\n",
       "       [-0.],\n",
       "       [ 0.]])"
      ]
     },
     "execution_count": 30,
     "metadata": {},
     "output_type": "execute_result"
    }
   ],
   "source": [
    "dct1[:,1:-1]@x.reshape(-1,1)[1:-1] \\\n",
    "+ (x[0]+x[-1]*(-1)**k).reshape(-1,1)"
   ]
  },
  {
   "cell_type": "code",
   "execution_count": 31,
   "metadata": {},
   "outputs": [
    {
     "data": {
      "text/plain": [
       "array([6., 0., 0., 0.])"
      ]
     },
     "execution_count": 31,
     "metadata": {},
     "output_type": "execute_result"
    }
   ],
   "source": [
    "sp.fft.dct(x, type=1)"
   ]
  },
  {
   "cell_type": "code",
   "execution_count": 32,
   "metadata": {},
   "outputs": [
    {
     "ename": "AttributeError",
     "evalue": "module 'scipy' has no attribute 'fftpack'",
     "output_type": "error",
     "traceback": [
      "\u001b[1;31m---------------------------------------------------------------------------\u001b[0m",
      "\u001b[1;31mAttributeError\u001b[0m                            Traceback (most recent call last)",
      "\u001b[1;32m<ipython-input-32-217ba56609ac>\u001b[0m in \u001b[0;36m<module>\u001b[1;34m\u001b[0m\n\u001b[1;32m----> 1\u001b[1;33m \u001b[0msp\u001b[0m\u001b[1;33m.\u001b[0m\u001b[0mfftpack\u001b[0m\u001b[1;33m.\u001b[0m\u001b[0mdct\u001b[0m\u001b[1;33m(\u001b[0m\u001b[0mx\u001b[0m\u001b[1;33m,\u001b[0m \u001b[0mtype\u001b[0m\u001b[1;33m=\u001b[0m\u001b[1;36m1\u001b[0m\u001b[1;33m)\u001b[0m\u001b[1;33m\u001b[0m\u001b[1;33m\u001b[0m\u001b[0m\n\u001b[0m",
      "\u001b[1;31mAttributeError\u001b[0m: module 'scipy' has no attribute 'fftpack'"
     ]
    }
   ],
   "source": [
    "sp.fftpack.dct(x, type=1)"
   ]
  },
  {
   "cell_type": "code",
   "execution_count": null,
   "metadata": {},
   "outputs": [],
   "source": [
    "import scipy.fftpack\n"
   ]
  },
  {
   "cell_type": "code",
   "execution_count": null,
   "metadata": {},
   "outputs": [],
   "source": [
    "scipy.fftpack.dct(x, type=4)"
   ]
  },
  {
   "cell_type": "code",
   "execution_count": null,
   "metadata": {},
   "outputs": [],
   "source": [
    "dct4@x.reshape(-1,1)"
   ]
  },
  {
   "cell_type": "markdown",
   "metadata": {},
   "source": [
    "- dct1 @ Wikipedia , and `scipy.fftpack`\n",
    "\n",
    "    - $y_k = 2 \\sum_{n=1}^{N-2} \n",
    "               \\left{ \\cos\n",
    "                      \\left[ \\frac{π}{N-1} \\cdot k ~ n  \n",
    "                      \\right] \n",
    "                      \\cdot  x_n \n",
    "               \\right} ~~~~\n",
    "             + \\left( x_0 + x_{N-1} \\cdot (-1)^k \n",
    "               \\right) \n",
    "      $"
   ]
  },
  {
   "cell_type": "markdown",
   "metadata": {},
   "source": [
    "      \n",
    "- dct1, re-organize, look better\n",
    " \n",
    "    - $\n",
    "        for ~~ k \\in [0,M] \\\\\n",
    "        y_k =  \\sum_{m=0}^{M} \n",
    "               \\left{ x_m A_m \\cos\n",
    "                      \\left[ \\frac{π}{M} \\cdot m ~ k  \n",
    "                      \\right] \n",
    "               \\right}\n",
    "      $\n",
    "        - \n",
    "        - $\n",
    "          \\\\\n",
    "          A_0= A_M =1\n",
    "          \\\\\n",
    "          A_m=2, ~ if ~ m \\ne 0,M\n",
    "          $\n",
    " "
   ]
  },
  {
   "cell_type": "markdown",
   "metadata": {},
   "source": [
    "- Compare dct1 and dft\n",
    "    - scipy.fftpack.idct?\n",
    "        - The Type-1 DCT is equivalent to the DFT for real, even-symmetrical inputs.  \n",
    "        - The output is also real and even-symmetrical. \n",
    "\n",
    "- dft\n",
    "    - $\n",
    "        for ~~ k \\in [0,N-1] \\\\\n",
    "        X_k =  \\sum_{n=0}^{N-1} \n",
    "               \\left{ x_n  \\exp\n",
    "                      \\left[ -j\\frac{2π}{N} \\cdot n ~ k  \n",
    "                      \\right] \n",
    "               \\right}\n",
    "      $\n",
    "\n",
    "- dct1 vs dft\n",
    "\n",
    "    - $\n",
    "    M= N/2\n",
    "    \\\\\n",
    "    x[l]=x[N-l]\n",
    "    \\\\\n",
    "    for ~~ k \\in [0,M], ~~\n",
    "    y_k= X_k\n",
    "    $\n",
    "    \n",
    "\n"
   ]
  },
  {
   "cell_type": "code",
   "execution_count": 68,
   "metadata": {},
   "outputs": [
    {
     "data": {
      "text/plain": [
       "(array([8.-0.j, 0.+0.j, 0.-0.j, 0.+0.j, 0.-0.j, 0.-0.j, 0.+0.j, 0.-0.j]),\n",
       " array([8., 0., 0., 0., 0.]))"
      ]
     },
     "execution_count": 68,
     "metadata": {},
     "output_type": "execute_result"
    }
   ],
   "source": [
    "import numpy as np\n",
    "import scipy.fftpack as fp\n",
    "\n",
    "x= np.array([1,1,1,1,1,1,1,1])\n",
    "X= fp.fft(x)\n",
    "\n",
    "x1= np.array([1,1,1,1,1])\n",
    "X1= fp.dct(x1, type=1)\n",
    "\n",
    "X, X1"
   ]
  },
  {
   "cell_type": "code",
   "execution_count": 67,
   "metadata": {},
   "outputs": [
    {
     "data": {
      "text/plain": [
       "(array([24.   , -6.828,  0.   , -1.172,  0.   , -1.172,  0.   , -6.828]),\n",
       " array([24.   , -6.828,  0.   , -1.172,  0.   ]))"
      ]
     },
     "execution_count": 67,
     "metadata": {},
     "output_type": "execute_result"
    }
   ],
   "source": [
    "X.real, X1"
   ]
  },
  {
   "cell_type": "code",
   "execution_count": 66,
   "metadata": {},
   "outputs": [
    {
     "data": {
      "text/plain": [
       "(array([24.   , -6.828,  0.   , -1.172,  0.   , -1.172,  0.   , -6.828]),\n",
       " array([24.   , -6.828,  0.   , -1.172,  0.   ]))"
      ]
     },
     "execution_count": 66,
     "metadata": {},
     "output_type": "execute_result"
    }
   ],
   "source": [
    "x= np.array([1,2,3,4,5,4,3,2])\n",
    "X= fp.fft(x)\n",
    "\n",
    "x1= np.array([1,2,3,4,5])\n",
    "X1= fp.dct(x1, type=1)\n",
    "\n",
    "X.real, X1"
   ]
  },
  {
   "cell_type": "code",
   "execution_count": 73,
   "metadata": {},
   "outputs": [
    {
     "data": {
      "text/plain": [
       "(array([ 80.   , -26.274,   0.   ,  -3.24 ,   0.   ,  -1.446,   0.   ,\n",
       "         -1.04 ,   0.   ,  -1.04 ,   0.   ,  -1.446,   0.   ,  -3.24 ,\n",
       "          0.   , -26.274]),\n",
       " array([ 80.   , -26.274,   0.   ,  -3.24 ,   0.   ,  -1.446,   0.   ,\n",
       "         -1.04 ,   0.   ]))"
      ]
     },
     "execution_count": 73,
     "metadata": {},
     "output_type": "execute_result"
    }
   ],
   "source": [
    "x= np.array([1,2,3,4,5,6,7,8,9,8,7,6,5,4,3,2])\n",
    "X= fp.fft(x)\n",
    "\n",
    "x1= np.array([1,2,3,4,5,6,7,8,9])\n",
    "X1= fp.dct(x1, type=1)\n",
    "\n",
    "X.real, X1"
   ]
  },
  {
   "cell_type": "code",
   "execution_count": 75,
   "metadata": {},
   "outputs": [
    {
     "data": {
      "text/plain": [
       "(array([1.+0.j, 2.+0.j, 3.+0.j, 4.+0.j, 5.+0.j, 6.+0.j, 7.+0.j, 8.+0.j,\n",
       "        9.+0.j, 8.+0.j, 7.+0.j, 6.+0.j, 5.+0.j, 4.+0.j, 3.-0.j, 2.+0.j]),\n",
       " array([1., 2., 3., 4., 5., 6., 7., 8., 9.]))"
      ]
     },
     "execution_count": 75,
     "metadata": {},
     "output_type": "execute_result"
    }
   ],
   "source": [
    "xx= fp.ifft(X)\n",
    "xx1= fp.idct(X1,type=1) / ((X1.size-1)*2) # = X.size\n",
    "xx, xx1"
   ]
  },
  {
   "cell_type": "code",
   "execution_count": 76,
   "metadata": {},
   "outputs": [
    {
     "data": {
      "text/plain": [
       "(array([1., 2., 3., 4., 5., 6., 7., 8., 9., 8., 7., 6., 5., 4., 3., 2.]),\n",
       " array([1., 2., 3., 4., 5., 6., 7., 8., 9.]))"
      ]
     },
     "execution_count": 76,
     "metadata": {},
     "output_type": "execute_result"
    }
   ],
   "source": [
    "xx.real, xx1"
   ]
  },
  {
   "cell_type": "code",
   "execution_count": 101,
   "metadata": {},
   "outputs": [
    {
     "data": {
      "text/plain": [
       "(array([ 80.   +0.j, -26.274-0.j,   0.   -0.j,  -3.24 +0.j,  -0.   -0.j,\n",
       "         -1.446-0.j,  -0.   -0.j,  -1.04 +0.j,   0.   -0.j,  -1.04 -0.j,\n",
       "         -0.   -0.j,  -1.446-0.j,   0.   -0.j,  -3.24 +0.j,  -0.   +0.j,\n",
       "        -26.274-0.j]),\n",
       " array([ 80.   , -26.274,   0.   ,  -3.24 ,  -0.   ,  -1.446,  -0.   ,\n",
       "         -1.04 ,   0.   ,  -1.04 ,  -0.   ,  -1.446,   0.   ,  -3.24 ,\n",
       "         -0.   , -26.274]),\n",
       " array([ 80.   , -26.274,  -0.   ,  -3.24 ,  -0.   ,  -1.446,   0.   ,\n",
       "         -1.04 ,   0.   ]))"
      ]
     },
     "execution_count": 101,
     "metadata": {},
     "output_type": "execute_result"
    }
   ],
   "source": [
    "# implement dft and dct-1\n",
    "\n",
    "def ryDft(x):\n",
    "    \n",
    "    x= np.array(x)\n",
    "    \n",
    "    N= x.size\n",
    "        \n",
    "    n= np.arange(N).reshape(-1,1)\n",
    "    k= np.arange(N).reshape(1,-1)\n",
    "    \n",
    "    X= x @ np.exp(-1j*2*π/N*n@k)\n",
    "    \n",
    "    return X\n",
    "\n",
    "def ryDct1(x):\n",
    "    \n",
    "    x= np.array(x)\n",
    "    \n",
    "    M= x.size-1\n",
    "    \n",
    "    A= np.ones(M+1)*2\n",
    "    A[0]=A[M]= 1\n",
    "    \n",
    "    n= np.arange(M+1).reshape(-1,1)\n",
    "    k= np.arange(M+1).reshape(1,-1)\n",
    "    \n",
    "    X= x*A @ np.cos(π/M*n@k)\n",
    "    \n",
    "    return X\n",
    "\n",
    "x= [1,2,3,4,5,6,7,8,9,8,7,6,5,4,3,2] \n",
    "# 注意到 x 除掉 起點 x[0]之外，對稱於中心點 (9)  \n",
    "\n",
    "X=  ryDft(x)\n",
    "\n",
    "N= len(x)\n",
    "M= N//2\n",
    "\n",
    "x1= x[0: M+1]  #[1,2,3,4,5,6,7,8,9]\n",
    "X1= ryDct1(x1)\n",
    "\n",
    "X, X.real, X1"
   ]
  },
  {
   "cell_type": "code",
   "execution_count": 103,
   "metadata": {},
   "outputs": [
    {
     "data": {
      "text/plain": [
       "(array([ 80.   -0.j, -26.274+0.j,   0.   -0.j,  -3.24 +0.j,   0.   +0.j,\n",
       "         -1.446+0.j,   0.   +0.j,  -1.04 +0.j,   0.   -0.j,  -1.04 -0.j,\n",
       "          0.   -0.j,  -1.446-0.j,   0.   -0.j,  -3.24 -0.j,   0.   +0.j,\n",
       "        -26.274-0.j]),\n",
       " array([ 80.   , -26.274,   0.   ,  -3.24 ,   0.   ,  -1.446,   0.   ,\n",
       "         -1.04 ,   0.   ]))"
      ]
     },
     "execution_count": 103,
     "metadata": {},
     "output_type": "execute_result"
    }
   ],
   "source": [
    "# 以 scipy.fftpack 中的 fft 與 dct 來驗證。\n",
    "\n",
    "fp.fft(x),\\\n",
    "fp.dct(x[0:M+1], type=1)"
   ]
  },
  {
   "cell_type": "code",
   "execution_count": null,
   "metadata": {},
   "outputs": [],
   "source": []
  }
 ],
 "metadata": {
  "kernelspec": {
   "display_name": "Python 3",
   "language": "python",
   "name": "python3"
  },
  "language_info": {
   "codemirror_mode": {
    "name": "ipython",
    "version": 3
   },
   "file_extension": ".py",
   "mimetype": "text/x-python",
   "name": "python",
   "nbconvert_exporter": "python",
   "pygments_lexer": "ipython3",
   "version": "3.7.4"
  },
  "latex_envs": {
   "LaTeX_envs_menu_present": true,
   "autoclose": false,
   "autocomplete": true,
   "bibliofile": "biblio.bib",
   "cite_by": "apalike",
   "current_citInitial": 1,
   "eqLabelWithNumbers": true,
   "eqNumInitial": 1,
   "hotkeys": {
    "equation": "Ctrl-E",
    "itemize": "Ctrl-I"
   },
   "labels_anchors": false,
   "latex_user_defs": false,
   "report_style_numbering": false,
   "user_envs_cfg": false
  },
  "nbTranslate": {
   "displayLangs": [
    "zh-TW",
    "en"
   ],
   "hotkey": "alt-t",
   "langInMainMenu": true,
   "sourceLang": "en",
   "targetLang": "zh-TW",
   "useGoogleTranslate": true
  },
  "toc": {
   "base_numbering": 1,
   "nav_menu": {},
   "number_sections": true,
   "sideBar": true,
   "skip_h1_title": false,
   "title_cell": "Table of Contents",
   "title_sidebar": "Contents",
   "toc_cell": false,
   "toc_position": {},
   "toc_section_display": true,
   "toc_window_display": false
  },
  "varInspector": {
   "cols": {
    "lenName": 16,
    "lenType": 16,
    "lenVar": 40
   },
   "kernels_config": {
    "python": {
     "delete_cmd_postfix": "",
     "delete_cmd_prefix": "del ",
     "library": "var_list.py",
     "varRefreshCmd": "print(var_dic_list())"
    },
    "r": {
     "delete_cmd_postfix": ") ",
     "delete_cmd_prefix": "rm(",
     "library": "var_list.r",
     "varRefreshCmd": "cat(var_dic_list()) "
    }
   },
   "types_to_exclude": [
    "module",
    "function",
    "builtin_function_or_method",
    "instance",
    "_Feature"
   ],
   "window_display": false
  }
 },
 "nbformat": 4,
 "nbformat_minor": 2
}
