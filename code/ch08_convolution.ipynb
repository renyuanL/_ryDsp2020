{
 "cells": [
  {
   "cell_type": "code",
   "execution_count": 1,
   "metadata": {},
   "outputs": [],
   "source": [
    "import numpy as np\n",
    "import matplotlib.pyplot as pl\n",
    "import pandas as pd\n",
    "import scipy.signal as sg\n"
   ]
  },
  {
   "cell_type": "code",
   "execution_count": 2,
   "metadata": {},
   "outputs": [],
   "source": [
    "np.convolve?"
   ]
  },
  {
   "cell_type": "markdown",
   "metadata": {},
   "source": [
    "$\n",
    "(a * v)[n] = \\sum_{m = -\\infty}^{\\infty} a[m] v[n - m]\n",
    "$"
   ]
  },
  {
   "cell_type": "code",
   "execution_count": null,
   "metadata": {},
   "outputs": [],
   "source": [
    "a= np.array([1,2,3,4,5,6,7,8,9,10])\n",
    "\n",
    "v= np.array([1,1,1,1])\n",
    "\n",
    "np.convolve(a,v,mode='valid'),\\\n",
    "np.convolve(a,v,mode='same'),\\\n",
    "np.convolve(a,v,mode='full')"
   ]
  },
  {
   "cell_type": "code",
   "execution_count": 12,
   "metadata": {},
   "outputs": [
    {
     "data": {
      "text/plain": [
       "(array([10, 14, 18, 22, 26, 30, 34]),\n",
       " array([ 3,  6, 10, 14, 18, 22, 26, 30, 34, 27]),\n",
       " array([ 1,  3,  6, 10, 14, 18, 22, 26, 30, 34, 27, 19, 10]))"
      ]
     },
     "execution_count": 12,
     "metadata": {},
     "output_type": "execute_result"
    }
   ],
   "source": []
  },
  {
   "cell_type": "code",
   "execution_count": 11,
   "metadata": {},
   "outputs": [
    {
     "data": {
      "text/plain": [
       "(array([2, 2, 2, 2, 2, 2, 2]),\n",
       " array([ 1,  2,  2,  2,  2,  2,  2,  2,  2, -9]),\n",
       " array([  1,   1,   2,   2,   2,   2,   2,   2,   2,   2,  -9,   1, -10]))"
      ]
     },
     "execution_count": 11,
     "metadata": {},
     "output_type": "execute_result"
    }
   ],
   "source": [
    "w= np.array([1,-1,1,-1])\n",
    "np.convolve(a,w,mode='valid'),\\\n",
    "np.convolve(a,w,mode='same'),\\\n",
    "np.convolve(a,w,mode='full')\n"
   ]
  },
  {
   "cell_type": "code",
   "execution_count": 33,
   "metadata": {},
   "outputs": [
    {
     "data": {
      "text/plain": [
       "array([ 1.,  3.,  6., 10., 14., 18., 22., 26., 30., 34., 27., 19., 10.])"
      ]
     },
     "execution_count": 33,
     "metadata": {},
     "output_type": "execute_result"
    }
   ],
   "source": [
    "M= a.size\n",
    "N= v.size\n",
    "\n",
    "aa= np.concatenate((a,np.zeros(N-1)))\n",
    "vv= np.concatenate((v,np.zeros(M-1)))\n",
    "\n",
    "M= aa.size\n",
    "N= vv.size\n",
    "\n",
    "m= np.arange(M).reshape(1,-1)\n",
    "n= np.arange(N).reshape(-1,1)\n",
    "\n",
    "\n",
    "(aa[m]*vv[n-m]).sum(axis=1)"
   ]
  },
  {
   "cell_type": "code",
   "execution_count": 34,
   "metadata": {},
   "outputs": [
    {
     "data": {
      "text/plain": [
       "(array([[ 0,  1,  2,  3,  4,  5,  6,  7,  8,  9, 10, 11, 12]]), array([[ 0],\n",
       "        [ 1],\n",
       "        [ 2],\n",
       "        [ 3],\n",
       "        [ 4],\n",
       "        [ 5],\n",
       "        [ 6],\n",
       "        [ 7],\n",
       "        [ 8],\n",
       "        [ 9],\n",
       "        [10],\n",
       "        [11],\n",
       "        [12]]))"
      ]
     },
     "execution_count": 34,
     "metadata": {},
     "output_type": "execute_result"
    }
   ],
   "source": [
    "m, n"
   ]
  },
  {
   "cell_type": "code",
   "execution_count": 44,
   "metadata": {},
   "outputs": [
    {
     "data": {
      "text/plain": [
       "array([[  0,   1,   2,   3,   4,   5,   6,   7,   8,   9,  10,  11,  12],\n",
       "       [ -1,   0,   1,   2,   3,   4,   5,   6,   7,   8,   9,  10,  11],\n",
       "       [ -2,  -1,   0,   1,   2,   3,   4,   5,   6,   7,   8,   9,  10],\n",
       "       [ -3,  -2,  -1,   0,   1,   2,   3,   4,   5,   6,   7,   8,   9],\n",
       "       [ -4,  -3,  -2,  -1,   0,   1,   2,   3,   4,   5,   6,   7,   8],\n",
       "       [ -5,  -4,  -3,  -2,  -1,   0,   1,   2,   3,   4,   5,   6,   7],\n",
       "       [ -6,  -5,  -4,  -3,  -2,  -1,   0,   1,   2,   3,   4,   5,   6],\n",
       "       [ -7,  -6,  -5,  -4,  -3,  -2,  -1,   0,   1,   2,   3,   4,   5],\n",
       "       [ -8,  -7,  -6,  -5,  -4,  -3,  -2,  -1,   0,   1,   2,   3,   4],\n",
       "       [ -9,  -8,  -7,  -6,  -5,  -4,  -3,  -2,  -1,   0,   1,   2,   3],\n",
       "       [-10,  -9,  -8,  -7,  -6,  -5,  -4,  -3,  -2,  -1,   0,   1,   2],\n",
       "       [-11, -10,  -9,  -8,  -7,  -6,  -5,  -4,  -3,  -2,  -1,   0,   1],\n",
       "       [-12, -11, -10,  -9,  -8,  -7,  -6,  -5,  -4,  -3,  -2,  -1,   0]])"
      ]
     },
     "execution_count": 44,
     "metadata": {},
     "output_type": "execute_result"
    }
   ],
   "source": [
    "m-n"
   ]
  },
  {
   "cell_type": "code",
   "execution_count": 45,
   "metadata": {},
   "outputs": [
    {
     "data": {
      "text/plain": [
       "array([[  0,  -1,  -2,  -3,  -4,  -5,  -6,  -7,  -8,  -9, -10, -11, -12],\n",
       "       [  1,   0,  -1,  -2,  -3,  -4,  -5,  -6,  -7,  -8,  -9, -10, -11],\n",
       "       [  2,   1,   0,  -1,  -2,  -3,  -4,  -5,  -6,  -7,  -8,  -9, -10],\n",
       "       [  3,   2,   1,   0,  -1,  -2,  -3,  -4,  -5,  -6,  -7,  -8,  -9],\n",
       "       [  4,   3,   2,   1,   0,  -1,  -2,  -3,  -4,  -5,  -6,  -7,  -8],\n",
       "       [  5,   4,   3,   2,   1,   0,  -1,  -2,  -3,  -4,  -5,  -6,  -7],\n",
       "       [  6,   5,   4,   3,   2,   1,   0,  -1,  -2,  -3,  -4,  -5,  -6],\n",
       "       [  7,   6,   5,   4,   3,   2,   1,   0,  -1,  -2,  -3,  -4,  -5],\n",
       "       [  8,   7,   6,   5,   4,   3,   2,   1,   0,  -1,  -2,  -3,  -4],\n",
       "       [  9,   8,   7,   6,   5,   4,   3,   2,   1,   0,  -1,  -2,  -3],\n",
       "       [ 10,   9,   8,   7,   6,   5,   4,   3,   2,   1,   0,  -1,  -2],\n",
       "       [ 11,  10,   9,   8,   7,   6,   5,   4,   3,   2,   1,   0,  -1],\n",
       "       [ 12,  11,  10,   9,   8,   7,   6,   5,   4,   3,   2,   1,   0]])"
      ]
     },
     "execution_count": 45,
     "metadata": {},
     "output_type": "execute_result"
    }
   ],
   "source": [
    "n-m"
   ]
  },
  {
   "cell_type": "code",
   "execution_count": 52,
   "metadata": {},
   "outputs": [],
   "source": [
    "import sympy as sy\n",
    "x,y,z= sy.symbols('x,y,z')\n"
   ]
  },
  {
   "cell_type": "code",
   "execution_count": 48,
   "metadata": {},
   "outputs": [],
   "source": [
    "sy.symbols?"
   ]
  },
  {
   "cell_type": "code",
   "execution_count": 54,
   "metadata": {},
   "outputs": [
    {
     "data": {
      "text/plain": [
       "((a0, a1, a2, a3, a4, a5, a6, a7, a8, a9),\n",
       " (b0, b1, b2, b3, b4, b5, b6, b7, b8, b9))"
      ]
     },
     "execution_count": 54,
     "metadata": {},
     "output_type": "execute_result"
    }
   ],
   "source": [
    "a= sy.symbols('a:10')\n",
    "b= sy.symbols('b:10')\n",
    "a,b"
   ]
  },
  {
   "cell_type": "code",
   "execution_count": 105,
   "metadata": {},
   "outputs": [
    {
     "data": {
      "text/latex": [
       "$\\displaystyle a_{0} b_{0} + a_{2} b_{2} x^{4} + x^{3} \\left(a_{1} b_{2} + a_{2} b_{1}\\right) + x^{2} \\left(a_{0} b_{2} + a_{1} b_{1} + a_{2} b_{0}\\right) + x \\left(a_{0} b_{1} + a_{1} b_{0}\\right)$"
      ],
      "text/plain": [
       "a0*b0 + a2*b2*x**4 + x**3*(a1*b2 + a2*b1) + x**2*(a0*b2 + a1*b1 + a2*b0) + x*(a0*b1 + a1*b0)"
      ]
     },
     "execution_count": 105,
     "metadata": {},
     "output_type": "execute_result"
    }
   ],
   "source": [
    "f= sum([a[i]*x**i for i in range(3)]) \n",
    "g= sum([b[i]*x**i for i in range(3)])\n",
    "(f*g).expand().collect(x)"
   ]
  },
  {
   "cell_type": "code",
   "execution_count": 107,
   "metadata": {},
   "outputs": [
    {
     "data": {
      "text/latex": [
       "$\\displaystyle a_{0}^{2} + 2 a_{0} a_{1} x + 2 a_{1} a_{2} x^{3} + a_{2}^{2} x^{4} + x^{2} \\left(2 a_{0} a_{2} + a_{1}^{2}\\right)$"
      ],
      "text/plain": [
       "a0**2 + 2*a0*a1*x + 2*a1*a2*x**3 + a2**2*x**4 + x**2*(2*a0*a2 + a1**2)"
      ]
     },
     "execution_count": 107,
     "metadata": {},
     "output_type": "execute_result"
    }
   ],
   "source": [
    "(f**2).expand().collect(x)"
   ]
  },
  {
   "cell_type": "code",
   "execution_count": 108,
   "metadata": {},
   "outputs": [
    {
     "data": {
      "text/latex": [
       "$\\displaystyle a_{0}^{3} + 3 a_{0}^{2} a_{1} x + 3 a_{1} a_{2}^{2} x^{5} + a_{2}^{3} x^{6} + x^{4} \\left(3 a_{0} a_{2}^{2} + 3 a_{1}^{2} a_{2}\\right) + x^{3} \\left(6 a_{0} a_{1} a_{2} + a_{1}^{3}\\right) + x^{2} \\left(3 a_{0}^{2} a_{2} + 3 a_{0} a_{1}^{2}\\right)$"
      ],
      "text/plain": [
       "a0**3 + 3*a0**2*a1*x + 3*a1*a2**2*x**5 + a2**3*x**6 + x**4*(3*a0*a2**2 + 3*a1**2*a2) + x**3*(6*a0*a1*a2 + a1**3) + x**2*(3*a0**2*a2 + 3*a0*a1**2)"
      ]
     },
     "execution_count": 108,
     "metadata": {},
     "output_type": "execute_result"
    }
   ],
   "source": [
    "(f**3).expand().collect(x)"
   ]
  },
  {
   "cell_type": "code",
   "execution_count": null,
   "metadata": {},
   "outputs": [],
   "source": []
  }
 ],
 "metadata": {
  "kernelspec": {
   "display_name": "Python 3",
   "language": "python",
   "name": "python3"
  },
  "language_info": {
   "codemirror_mode": {
    "name": "ipython",
    "version": 3
   },
   "file_extension": ".py",
   "mimetype": "text/x-python",
   "name": "python",
   "nbconvert_exporter": "python",
   "pygments_lexer": "ipython3",
   "version": "3.7.4"
  },
  "latex_envs": {
   "LaTeX_envs_menu_present": true,
   "autoclose": false,
   "autocomplete": true,
   "bibliofile": "biblio.bib",
   "cite_by": "apalike",
   "current_citInitial": 1,
   "eqLabelWithNumbers": true,
   "eqNumInitial": 1,
   "hotkeys": {
    "equation": "Ctrl-E",
    "itemize": "Ctrl-I"
   },
   "labels_anchors": false,
   "latex_user_defs": false,
   "report_style_numbering": false,
   "user_envs_cfg": false
  },
  "nbTranslate": {
   "displayLangs": [
    "zh-TW",
    "en"
   ],
   "hotkey": "alt-t",
   "langInMainMenu": true,
   "sourceLang": "en",
   "targetLang": "zh-TW",
   "useGoogleTranslate": true
  },
  "toc": {
   "base_numbering": 1,
   "nav_menu": {},
   "number_sections": true,
   "sideBar": true,
   "skip_h1_title": false,
   "title_cell": "Table of Contents",
   "title_sidebar": "Contents",
   "toc_cell": false,
   "toc_position": {},
   "toc_section_display": true,
   "toc_window_display": false
  },
  "varInspector": {
   "cols": {
    "lenName": 16,
    "lenType": 16,
    "lenVar": 40
   },
   "kernels_config": {
    "python": {
     "delete_cmd_postfix": "",
     "delete_cmd_prefix": "del ",
     "library": "var_list.py",
     "varRefreshCmd": "print(var_dic_list())"
    },
    "r": {
     "delete_cmd_postfix": ") ",
     "delete_cmd_prefix": "rm(",
     "library": "var_list.r",
     "varRefreshCmd": "cat(var_dic_list()) "
    }
   },
   "types_to_exclude": [
    "module",
    "function",
    "builtin_function_or_method",
    "instance",
    "_Feature"
   ],
   "window_display": false
  }
 },
 "nbformat": 4,
 "nbformat_minor": 2
}
