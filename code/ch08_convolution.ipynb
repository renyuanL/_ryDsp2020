{
 "cells": [
  {
   "cell_type": "code",
   "execution_count": 10,
   "metadata": {},
   "outputs": [],
   "source": [
    "import numpy as np\n",
    "import matplotlib.pyplot as pl\n",
    "import pandas as pd\n",
    "import scipy.signal as sg\n"
   ]
  },
  {
   "cell_type": "code",
   "execution_count": 11,
   "metadata": {},
   "outputs": [],
   "source": [
    "np.convolve?"
   ]
  },
  {
   "cell_type": "markdown",
   "metadata": {},
   "source": [
    "$\n",
    "(a * v)[n] = \\sum_{m = -\\infty}^{\\infty} a[m] v[n - m]\n",
    "$\n",
    "\n",
    "$\n",
    "(a * v)[n] = \\sum_{m = -\\infty}^{\\infty} a[m] v[n - m]\n",
    "$"
   ]
  },
  {
   "cell_type": "code",
   "execution_count": 12,
   "metadata": {},
   "outputs": [
    {
     "data": {
      "text/plain": [
       "(array([  1234,   2440,   4600,  16300, 123400]),\n",
       " array([    12,    123,   1234,   2440,   4600,  16300, 123400, 234000]),\n",
       " array([     1,     12,    123,   1234,   2440,   4600,  16300, 123400,\n",
       "        234000, 340000, 400000]))"
      ]
     },
     "execution_count": 12,
     "metadata": {},
     "output_type": "execute_result"
    }
   ],
   "source": [
    "a= np.array([1,2,3,4,100,200,300,400])\n",
    "\n",
    "v= np.array([1,10,100,1000])\n",
    "\n",
    "np.convolve(a,v,mode='valid'),\\\n",
    "np.convolve(a,v,mode='same'),\\\n",
    "np.convolve(a,v,mode='full')"
   ]
  },
  {
   "cell_type": "code",
   "execution_count": 6,
   "metadata": {},
   "outputs": [
    {
     "data": {
      "text/plain": [
       "array([ 1,  3,  6, 10,  9,  7,  4])"
      ]
     },
     "execution_count": 6,
     "metadata": {},
     "output_type": "execute_result"
    }
   ],
   "source": [
    "w= np.array([1,1,1,1])\n",
    "np.convolve(a,w,mode='full')"
   ]
  },
  {
   "cell_type": "code",
   "execution_count": 13,
   "metadata": {},
   "outputs": [
    {
     "data": {
      "text/plain": [
       "array([   1,    1,    2,    2,   97,  101,  196,  200, -300,  100, -400])"
      ]
     },
     "execution_count": 13,
     "metadata": {},
     "output_type": "execute_result"
    }
   ],
   "source": [
    "w= np.array([1,-1,1,-1])\n",
    "np.convolve(a,w,mode='full')\n"
   ]
  },
  {
   "cell_type": "code",
   "execution_count": null,
   "metadata": {},
   "outputs": [],
   "source": [
    "a= np.array([1,2,3,4,5,6,7,8,9])\n",
    "\n",
    "v= np.array([1,10,100])\n",
    "\n",
    "M= a.size\n",
    "N= v.size\n",
    "\n",
    "aa= np.concatenate((a,np.zeros(N-1)))\n",
    "vv= np.concatenate((v,np.zeros(M-1)))\n",
    "\n",
    "M= aa.size\n",
    "N= vv.size\n",
    "\n",
    "m= np.arange(M).reshape(1,-1)\n",
    "n= np.arange(N).reshape(-1,1)"
   ]
  },
  {
   "cell_type": "code",
   "execution_count": null,
   "metadata": {},
   "outputs": [],
   "source": [
    "m, aa[m], n-m, vv[n-m]"
   ]
  },
  {
   "cell_type": "code",
   "execution_count": 24,
   "metadata": {},
   "outputs": [
    {
     "data": {
      "text/plain": [
       "array([[  1.,   0.,   0.,   0.,   0.,   0.,   0.,   0.,   0.,   0.,   0.],\n",
       "       [ 10.,   2.,   0.,   0.,   0.,   0.,   0.,   0.,   0.,   0.,   0.],\n",
       "       [100.,  20.,   3.,   0.,   0.,   0.,   0.,   0.,   0.,   0.,   0.],\n",
       "       [  0., 200.,  30.,   4.,   0.,   0.,   0.,   0.,   0.,   0.,   0.],\n",
       "       [  0.,   0., 300.,  40.,   5.,   0.,   0.,   0.,   0.,   0.,   0.],\n",
       "       [  0.,   0.,   0., 400.,  50.,   6.,   0.,   0.,   0.,   0.,   0.],\n",
       "       [  0.,   0.,   0.,   0., 500.,  60.,   7.,   0.,   0.,   0.,   0.],\n",
       "       [  0.,   0.,   0.,   0.,   0., 600.,  70.,   8.,   0.,   0.,   0.],\n",
       "       [  0.,   0.,   0.,   0.,   0.,   0., 700.,  80.,   9.,   0.,   0.],\n",
       "       [  0.,   0.,   0.,   0.,   0.,   0.,   0., 800.,  90.,   0.,   0.],\n",
       "       [  0.,   0.,   0.,   0.,   0.,   0.,   0.,   0., 900.,   0.,   0.]])"
      ]
     },
     "execution_count": 24,
     "metadata": {},
     "output_type": "execute_result"
    }
   ],
   "source": [
    "aa[m]*vv[n-m]"
   ]
  },
  {
   "cell_type": "code",
   "execution_count": 27,
   "metadata": {},
   "outputs": [
    {
     "name": "stdout",
     "output_type": "stream",
     "text": [
      "7.71 µs ± 84.7 ns per loop (mean ± std. dev. of 7 runs, 100000 loops each)\n"
     ]
    }
   ],
   "source": [
    "%timeit (aa[m]*vv[n-m]).sum(axis=1)"
   ]
  },
  {
   "cell_type": "code",
   "execution_count": 28,
   "metadata": {},
   "outputs": [
    {
     "name": "stdout",
     "output_type": "stream",
     "text": [
      "2.44 µs ± 105 ns per loop (mean ± std. dev. of 7 runs, 100000 loops each)\n"
     ]
    }
   ],
   "source": [
    "%timeit np.convolve(a,v)"
   ]
  },
  {
   "cell_type": "code",
   "execution_count": 18,
   "metadata": {},
   "outputs": [
    {
     "data": {
      "text/plain": [
       "(array([[ 0,  1,  2,  3,  4,  5,  6,  7,  8,  9, 10]]), array([[ 0],\n",
       "        [ 1],\n",
       "        [ 2],\n",
       "        [ 3],\n",
       "        [ 4],\n",
       "        [ 5],\n",
       "        [ 6],\n",
       "        [ 7],\n",
       "        [ 8],\n",
       "        [ 9],\n",
       "        [10]]))"
      ]
     },
     "execution_count": 18,
     "metadata": {},
     "output_type": "execute_result"
    }
   ],
   "source": [
    "m, n"
   ]
  },
  {
   "cell_type": "code",
   "execution_count": 19,
   "metadata": {},
   "outputs": [
    {
     "data": {
      "text/plain": [
       "array([[  0,   1,   2,   3,   4,   5,   6,   7,   8,   9,  10],\n",
       "       [ -1,   0,   1,   2,   3,   4,   5,   6,   7,   8,   9],\n",
       "       [ -2,  -1,   0,   1,   2,   3,   4,   5,   6,   7,   8],\n",
       "       [ -3,  -2,  -1,   0,   1,   2,   3,   4,   5,   6,   7],\n",
       "       [ -4,  -3,  -2,  -1,   0,   1,   2,   3,   4,   5,   6],\n",
       "       [ -5,  -4,  -3,  -2,  -1,   0,   1,   2,   3,   4,   5],\n",
       "       [ -6,  -5,  -4,  -3,  -2,  -1,   0,   1,   2,   3,   4],\n",
       "       [ -7,  -6,  -5,  -4,  -3,  -2,  -1,   0,   1,   2,   3],\n",
       "       [ -8,  -7,  -6,  -5,  -4,  -3,  -2,  -1,   0,   1,   2],\n",
       "       [ -9,  -8,  -7,  -6,  -5,  -4,  -3,  -2,  -1,   0,   1],\n",
       "       [-10,  -9,  -8,  -7,  -6,  -5,  -4,  -3,  -2,  -1,   0]])"
      ]
     },
     "execution_count": 19,
     "metadata": {},
     "output_type": "execute_result"
    }
   ],
   "source": [
    "m-n"
   ]
  },
  {
   "cell_type": "code",
   "execution_count": 20,
   "metadata": {},
   "outputs": [
    {
     "data": {
      "text/plain": [
       "array([[  0,  -1,  -2,  -3,  -4,  -5,  -6,  -7,  -8,  -9, -10],\n",
       "       [  1,   0,  -1,  -2,  -3,  -4,  -5,  -6,  -7,  -8,  -9],\n",
       "       [  2,   1,   0,  -1,  -2,  -3,  -4,  -5,  -6,  -7,  -8],\n",
       "       [  3,   2,   1,   0,  -1,  -2,  -3,  -4,  -5,  -6,  -7],\n",
       "       [  4,   3,   2,   1,   0,  -1,  -2,  -3,  -4,  -5,  -6],\n",
       "       [  5,   4,   3,   2,   1,   0,  -1,  -2,  -3,  -4,  -5],\n",
       "       [  6,   5,   4,   3,   2,   1,   0,  -1,  -2,  -3,  -4],\n",
       "       [  7,   6,   5,   4,   3,   2,   1,   0,  -1,  -2,  -3],\n",
       "       [  8,   7,   6,   5,   4,   3,   2,   1,   0,  -1,  -2],\n",
       "       [  9,   8,   7,   6,   5,   4,   3,   2,   1,   0,  -1],\n",
       "       [ 10,   9,   8,   7,   6,   5,   4,   3,   2,   1,   0]])"
      ]
     },
     "execution_count": 20,
     "metadata": {},
     "output_type": "execute_result"
    }
   ],
   "source": [
    "n-m"
   ]
  },
  {
   "cell_type": "code",
   "execution_count": 30,
   "metadata": {},
   "outputs": [],
   "source": [
    "import sympy as sy\n",
    "x,y,z= sy.symbols('x,y,z')\n"
   ]
  },
  {
   "cell_type": "code",
   "execution_count": 48,
   "metadata": {},
   "outputs": [],
   "source": [
    "sy.symbols?"
   ]
  },
  {
   "cell_type": "code",
   "execution_count": 31,
   "metadata": {},
   "outputs": [
    {
     "data": {
      "text/plain": [
       "((a0, a1, a2, a3, a4, a5, a6, a7, a8, a9),\n",
       " (b0, b1, b2, b3, b4, b5, b6, b7, b8, b9))"
      ]
     },
     "execution_count": 31,
     "metadata": {},
     "output_type": "execute_result"
    }
   ],
   "source": [
    "a= sy.symbols('a:10')\n",
    "b= sy.symbols('b:10')\n",
    "a,b"
   ]
  },
  {
   "cell_type": "code",
   "execution_count": 38,
   "metadata": {},
   "outputs": [
    {
     "data": {
      "text/latex": [
       "$\\displaystyle a_{0} + a_{1} x + a_{2} x^{2} + a_{3} x^{3} + a_{4} x^{4} + a_{5} x^{5} + a_{6} x^{6} + a_{7} x^{7} + a_{8} x^{8} + a_{9} x^{9}$"
      ],
      "text/plain": [
       "a0 + a1*x + a2*x**2 + a3*x**3 + a4*x**4 + a5*x**5 + a6*x**6 + a7*x**7 + a8*x**8 + a9*x**9"
      ]
     },
     "execution_count": 38,
     "metadata": {},
     "output_type": "execute_result"
    }
   ],
   "source": [
    "f= sum([a[i]*x**i for i in range(10)]) \n",
    "f"
   ]
  },
  {
   "cell_type": "code",
   "execution_count": 39,
   "metadata": {},
   "outputs": [
    {
     "data": {
      "text/latex": [
       "$\\displaystyle b_{0} + b_{1} x + b_{2} x^{2} + b_{3} x^{3} + b_{4} x^{4} + b_{5} x^{5} + b_{6} x^{6} + b_{7} x^{7} + b_{8} x^{8} + b_{9} x^{9}$"
      ],
      "text/plain": [
       "b0 + b1*x + b2*x**2 + b3*x**3 + b4*x**4 + b5*x**5 + b6*x**6 + b7*x**7 + b8*x**8 + b9*x**9"
      ]
     },
     "execution_count": 39,
     "metadata": {},
     "output_type": "execute_result"
    }
   ],
   "source": [
    "g= sum([b[i]*x**i for i in range(10)])\n",
    "g"
   ]
  },
  {
   "cell_type": "code",
   "execution_count": 40,
   "metadata": {},
   "outputs": [
    {
     "data": {
      "text/latex": [
       "$\\displaystyle a_{0} b_{0} + a_{9} b_{9} x^{18} + x^{17} \\left(a_{8} b_{9} + a_{9} b_{8}\\right) + x^{16} \\left(a_{7} b_{9} + a_{8} b_{8} + a_{9} b_{7}\\right) + x^{15} \\left(a_{6} b_{9} + a_{7} b_{8} + a_{8} b_{7} + a_{9} b_{6}\\right) + x^{14} \\left(a_{5} b_{9} + a_{6} b_{8} + a_{7} b_{7} + a_{8} b_{6} + a_{9} b_{5}\\right) + x^{13} \\left(a_{4} b_{9} + a_{5} b_{8} + a_{6} b_{7} + a_{7} b_{6} + a_{8} b_{5} + a_{9} b_{4}\\right) + x^{12} \\left(a_{3} b_{9} + a_{4} b_{8} + a_{5} b_{7} + a_{6} b_{6} + a_{7} b_{5} + a_{8} b_{4} + a_{9} b_{3}\\right) + x^{11} \\left(a_{2} b_{9} + a_{3} b_{8} + a_{4} b_{7} + a_{5} b_{6} + a_{6} b_{5} + a_{7} b_{4} + a_{8} b_{3} + a_{9} b_{2}\\right) + x^{10} \\left(a_{1} b_{9} + a_{2} b_{8} + a_{3} b_{7} + a_{4} b_{6} + a_{5} b_{5} + a_{6} b_{4} + a_{7} b_{3} + a_{8} b_{2} + a_{9} b_{1}\\right) + x^{9} \\left(a_{0} b_{9} + a_{1} b_{8} + a_{2} b_{7} + a_{3} b_{6} + a_{4} b_{5} + a_{5} b_{4} + a_{6} b_{3} + a_{7} b_{2} + a_{8} b_{1} + a_{9} b_{0}\\right) + x^{8} \\left(a_{0} b_{8} + a_{1} b_{7} + a_{2} b_{6} + a_{3} b_{5} + a_{4} b_{4} + a_{5} b_{3} + a_{6} b_{2} + a_{7} b_{1} + a_{8} b_{0}\\right) + x^{7} \\left(a_{0} b_{7} + a_{1} b_{6} + a_{2} b_{5} + a_{3} b_{4} + a_{4} b_{3} + a_{5} b_{2} + a_{6} b_{1} + a_{7} b_{0}\\right) + x^{6} \\left(a_{0} b_{6} + a_{1} b_{5} + a_{2} b_{4} + a_{3} b_{3} + a_{4} b_{2} + a_{5} b_{1} + a_{6} b_{0}\\right) + x^{5} \\left(a_{0} b_{5} + a_{1} b_{4} + a_{2} b_{3} + a_{3} b_{2} + a_{4} b_{1} + a_{5} b_{0}\\right) + x^{4} \\left(a_{0} b_{4} + a_{1} b_{3} + a_{2} b_{2} + a_{3} b_{1} + a_{4} b_{0}\\right) + x^{3} \\left(a_{0} b_{3} + a_{1} b_{2} + a_{2} b_{1} + a_{3} b_{0}\\right) + x^{2} \\left(a_{0} b_{2} + a_{1} b_{1} + a_{2} b_{0}\\right) + x \\left(a_{0} b_{1} + a_{1} b_{0}\\right)$"
      ],
      "text/plain": [
       "a0*b0 + a9*b9*x**18 + x**17*(a8*b9 + a9*b8) + x**16*(a7*b9 + a8*b8 + a9*b7) + x**15*(a6*b9 + a7*b8 + a8*b7 + a9*b6) + x**14*(a5*b9 + a6*b8 + a7*b7 + a8*b6 + a9*b5) + x**13*(a4*b9 + a5*b8 + a6*b7 + a7*b6 + a8*b5 + a9*b4) + x**12*(a3*b9 + a4*b8 + a5*b7 + a6*b6 + a7*b5 + a8*b4 + a9*b3) + x**11*(a2*b9 + a3*b8 + a4*b7 + a5*b6 + a6*b5 + a7*b4 + a8*b3 + a9*b2) + x**10*(a1*b9 + a2*b8 + a3*b7 + a4*b6 + a5*b5 + a6*b4 + a7*b3 + a8*b2 + a9*b1) + x**9*(a0*b9 + a1*b8 + a2*b7 + a3*b6 + a4*b5 + a5*b4 + a6*b3 + a7*b2 + a8*b1 + a9*b0) + x**8*(a0*b8 + a1*b7 + a2*b6 + a3*b5 + a4*b4 + a5*b3 + a6*b2 + a7*b1 + a8*b0) + x**7*(a0*b7 + a1*b6 + a2*b5 + a3*b4 + a4*b3 + a5*b2 + a6*b1 + a7*b0) + x**6*(a0*b6 + a1*b5 + a2*b4 + a3*b3 + a4*b2 + a5*b1 + a6*b0) + x**5*(a0*b5 + a1*b4 + a2*b3 + a3*b2 + a4*b1 + a5*b0) + x**4*(a0*b4 + a1*b3 + a2*b2 + a3*b1 + a4*b0) + x**3*(a0*b3 + a1*b2 + a2*b1 + a3*b0) + x**2*(a0*b2 + a1*b1 + a2*b0) + x*(a0*b1 + a1*b0)"
      ]
     },
     "execution_count": 40,
     "metadata": {},
     "output_type": "execute_result"
    }
   ],
   "source": [
    "(f*g).expand().collect(x)"
   ]
  },
  {
   "cell_type": "code",
   "execution_count": 105,
   "metadata": {},
   "outputs": [
    {
     "data": {
      "text/latex": [
       "$\\displaystyle a_{0} b_{0} + a_{2} b_{2} x^{4} + x^{3} \\left(a_{1} b_{2} + a_{2} b_{1}\\right) + x^{2} \\left(a_{0} b_{2} + a_{1} b_{1} + a_{2} b_{0}\\right) + x \\left(a_{0} b_{1} + a_{1} b_{0}\\right)$"
      ],
      "text/plain": [
       "a0*b0 + a2*b2*x**4 + x**3*(a1*b2 + a2*b1) + x**2*(a0*b2 + a1*b1 + a2*b0) + x*(a0*b1 + a1*b0)"
      ]
     },
     "execution_count": 105,
     "metadata": {},
     "output_type": "execute_result"
    }
   ],
   "source": [
    "(f*g).expand().collect(x)"
   ]
  },
  {
   "cell_type": "code",
   "execution_count": 107,
   "metadata": {},
   "outputs": [
    {
     "data": {
      "text/latex": [
       "$\\displaystyle a_{0}^{2} + 2 a_{0} a_{1} x + 2 a_{1} a_{2} x^{3} + a_{2}^{2} x^{4} + x^{2} \\left(2 a_{0} a_{2} + a_{1}^{2}\\right)$"
      ],
      "text/plain": [
       "a0**2 + 2*a0*a1*x + 2*a1*a2*x**3 + a2**2*x**4 + x**2*(2*a0*a2 + a1**2)"
      ]
     },
     "execution_count": 107,
     "metadata": {},
     "output_type": "execute_result"
    }
   ],
   "source": [
    "(f**2).expand().collect(x)"
   ]
  },
  {
   "cell_type": "code",
   "execution_count": 108,
   "metadata": {},
   "outputs": [
    {
     "data": {
      "text/latex": [
       "$\\displaystyle a_{0}^{3} + 3 a_{0}^{2} a_{1} x + 3 a_{1} a_{2}^{2} x^{5} + a_{2}^{3} x^{6} + x^{4} \\left(3 a_{0} a_{2}^{2} + 3 a_{1}^{2} a_{2}\\right) + x^{3} \\left(6 a_{0} a_{1} a_{2} + a_{1}^{3}\\right) + x^{2} \\left(3 a_{0}^{2} a_{2} + 3 a_{0} a_{1}^{2}\\right)$"
      ],
      "text/plain": [
       "a0**3 + 3*a0**2*a1*x + 3*a1*a2**2*x**5 + a2**3*x**6 + x**4*(3*a0*a2**2 + 3*a1**2*a2) + x**3*(6*a0*a1*a2 + a1**3) + x**2*(3*a0**2*a2 + 3*a0*a1**2)"
      ]
     },
     "execution_count": 108,
     "metadata": {},
     "output_type": "execute_result"
    }
   ],
   "source": [
    "(f**3).expand().collect(x)"
   ]
  },
  {
   "cell_type": "code",
   "execution_count": 3,
   "metadata": {},
   "outputs": [
    {
     "data": {
      "text/plain": [
       "array([   1,   12,  123, 1234, 2340, 3400, 4000])"
      ]
     },
     "execution_count": 3,
     "metadata": {},
     "output_type": "execute_result"
    }
   ],
   "source": [
    "np.convolve([1,2,3,4],[1,10,100,1000])"
   ]
  },
  {
   "cell_type": "code",
   "execution_count": 2,
   "metadata": {},
   "outputs": [],
   "source": [
    "a= np.array([1,2,3,4])\n",
    "b= np.array([1,10,100,1000])\n",
    "Na= a.size\n",
    "Nb= b.size"
   ]
  },
  {
   "cell_type": "code",
   "execution_count": 3,
   "metadata": {},
   "outputs": [
    {
     "data": {
      "text/plain": [
       "array([   1,   12,  123, 1234, 2340, 3400, 4000])"
      ]
     },
     "execution_count": 3,
     "metadata": {},
     "output_type": "execute_result"
    }
   ],
   "source": [
    "np.convolve(a,b)"
   ]
  },
  {
   "cell_type": "code",
   "execution_count": 21,
   "metadata": {},
   "outputs": [
    {
     "data": {
      "text/plain": [
       "array([2341.+0.j, 3412.+0.j, 4123.+0.j, 1234.+0.j])"
      ]
     },
     "execution_count": 21,
     "metadata": {},
     "output_type": "execute_result"
    }
   ],
   "source": [
    "np.fft.ifft(np.fft.fft(a)*np.fft.fft(b))"
   ]
  },
  {
   "cell_type": "code",
   "execution_count": 21,
   "metadata": {},
   "outputs": [],
   "source": [
    "import scipy.signal as sg\n",
    "sg.gaussian?"
   ]
  },
  {
   "cell_type": "markdown",
   "metadata": {},
   "source": [
    "The Gaussian window is defined as\n",
    "\n",
    ".. math::  \n",
    "$\n",
    "w(n) = e^{ -\\frac{1}{2}\\left(\\frac{n}{\\sigma}\\right)^2 }\n",
    "$"
   ]
  },
  {
   "cell_type": "code",
   "execution_count": 12,
   "metadata": {},
   "outputs": [
    {
     "data": {
      "text/plain": [
       "array([4.00652974e-05, 2.18749112e-03, 4.39369336e-02, 3.24652467e-01,\n",
       "       8.82496903e-01, 8.82496903e-01, 3.24652467e-01, 4.39369336e-02,\n",
       "       2.18749112e-03, 4.00652974e-05])"
      ]
     },
     "execution_count": 12,
     "metadata": {},
     "output_type": "execute_result"
    }
   ],
   "source": [
    "w= sg.gaussian(10,1)\n",
    "w"
   ]
  },
  {
   "cell_type": "code",
   "execution_count": 13,
   "metadata": {},
   "outputs": [
    {
     "data": {
      "text/plain": [
       "[<matplotlib.lines.Line2D at 0x278a654c408>]"
      ]
     },
     "execution_count": 13,
     "metadata": {},
     "output_type": "execute_result"
    },
    {
     "data": {
      "image/png": "[encoded data removed]",
      "text/plain": [
       "<Figure size 432x288 with 1 Axes>"
      ]
     },
     "metadata": {
      "needs_background": "light"
     },
     "output_type": "display_data"
    }
   ],
   "source": [
    "pl.plot(w)"
   ]
  },
  {
   "cell_type": "code",
   "execution_count": 14,
   "metadata": {},
   "outputs": [],
   "source": [
    "x= np.random.random(100)\n"
   ]
  },
  {
   "cell_type": "code",
   "execution_count": 16,
   "metadata": {},
   "outputs": [
    {
     "data": {
      "text/plain": [
       "(array([0.31214729, 0.85652835, 0.45863804, 0.56469384, 0.47450369,\n",
       "        0.91867549, 0.58331282, 0.17552977, 0.3684922 , 0.86667802,\n",
       "        0.30752495, 0.9281549 , 0.78996334, 0.13320061, 0.68057495,\n",
       "        0.28368504, 0.37063431, 0.59210284, 0.18924374, 0.86614268,\n",
       "        0.20062033, 0.45167516, 0.49045189, 0.30489205, 0.92564978,\n",
       "        0.12394309, 0.30891038, 0.36653225, 0.54334579, 0.83773908,\n",
       "        0.40456237, 0.37058952, 0.78667685, 0.97625167, 0.09182183,\n",
       "        0.83157898, 0.49359956, 0.06122639, 0.09302203, 0.09900376,\n",
       "        0.23953764, 0.83336507, 0.90438772, 0.20050553, 0.26658882,\n",
       "        0.35348641, 0.71462707, 0.80177599, 0.12713898, 0.92360433,\n",
       "        0.54137257, 0.69558422, 0.628759  , 0.91034778, 0.69503422,\n",
       "        0.51876901, 0.92215034, 0.45135795, 0.15290804, 0.80855588,\n",
       "        0.11944918, 0.27148014, 0.48788878, 0.45615223, 0.14638236,\n",
       "        0.98157948, 0.48799768, 0.86157333, 0.60135488, 0.40865713,\n",
       "        0.72829489, 0.60344339, 0.87381095, 0.69396488, 0.03644966,\n",
       "        0.35410577, 0.84134724, 0.81808232, 0.22555465, 0.76343784,\n",
       "        0.01663085, 0.9566411 , 0.08713101, 0.90464312, 0.56325407,\n",
       "        0.9768018 , 0.23049687, 0.57755646, 0.64094324, 0.42353807,\n",
       "        0.50378264, 0.04923696, 0.44206886, 0.76502803, 0.04767056,\n",
       "        0.35603182, 0.86211636, 0.58791989, 0.03512692, 0.3955411 ]),\n",
       " array([4.00652974e-05, 2.18749112e-03, 4.39369336e-02, 3.24652467e-01,\n",
       "        8.82496903e-01, 8.82496903e-01, 3.24652467e-01, 4.39369336e-02,\n",
       "        2.18749112e-03, 4.00652974e-05]),\n",
       " array([1.25062739e-05, 7.17136481e-04, 1.56068183e-02, 1.39998507e-01,\n",
       "        5.74948479e-01, 1.20613629e+00, 1.46818010e+00, 1.39057165e+00,\n",
       "        1.42858060e+00, 1.63276985e+00, 1.58048209e+00, 1.14844935e+00,\n",
       "        1.00783887e+00, 1.31703004e+00, 1.50124242e+00, 1.65226665e+00,\n",
       "        1.72874673e+00, 1.36568849e+00, 1.12579206e+00, 1.07774278e+00,\n",
       "        1.00844794e+00, 1.07188805e+00, 1.11483930e+00, 1.22659743e+00,\n",
       "        1.19858125e+00, 1.04112122e+00, 1.07498710e+00, 1.16589351e+00,\n",
       "        1.32012911e+00, 1.16540639e+00, 8.41710612e-01, 8.91777335e-01,\n",
       "        1.20132729e+00, 1.50106421e+00, 1.44652693e+00, 1.27925457e+00,\n",
       "        1.51345282e+00, 1.76315072e+00, 1.50696832e+00, 1.33037777e+00,\n",
       "        1.26809591e+00, 8.00914912e-01, 3.77674654e-01, 3.29217832e-01,\n",
       "        6.43504061e-01, 1.28623456e+00, 1.69349338e+00, 1.36003893e+00,\n",
       "        8.90882205e-01, 9.21425819e-01, 1.30790360e+00, 1.54823762e+00,\n",
       "        1.39307578e+00, 1.42749037e+00, 1.62638664e+00, 1.64449678e+00,\n",
       "        1.71263339e+00, 1.86036480e+00, 1.86258546e+00, 1.71546981e+00,\n",
       "        1.69367887e+00, 1.49853030e+00, 1.12535252e+00, 1.08849552e+00,\n",
       "        1.00104955e+00, 7.94031935e-01, 9.01487515e-01, 1.02002603e+00,\n",
       "        1.04437300e+00, 1.36316513e+00, 1.67259746e+00, 1.73191721e+00,\n",
       "        1.65895098e+00, 1.45953400e+00, 1.47337115e+00, 1.65052187e+00,\n",
       "        1.78712744e+00, 1.64164878e+00, 1.11012252e+00, 9.19316612e-01,\n",
       "        1.37641667e+00, 1.68940200e+00, 1.46049653e+00, 1.22377550e+00,\n",
       "        1.11583936e+00, 1.18780068e+00, 1.28118245e+00, 1.41453010e+00,\n",
       "        1.69433838e+00, 1.76033720e+00, 1.50488821e+00, 1.28475248e+00,\n",
       "        1.35410238e+00, 1.30590849e+00, 1.08944431e+00, 8.32224745e-01,\n",
       "        8.68440389e-01, 1.13735973e+00, 1.01875787e+00, 9.29997660e-01,\n",
       "        1.31834859e+00, 1.42780771e+00, 9.73916350e-01, 6.09592311e-01,\n",
       "        3.88199372e-01, 1.31277374e-01, 1.74792582e-02, 8.66650019e-04,\n",
       "        1.58474719e-05]))"
      ]
     },
     "execution_count": 16,
     "metadata": {},
     "output_type": "execute_result"
    }
   ],
   "source": [
    "y= np.convolve(x,w)\n",
    "x,w,y"
   ]
  },
  {
   "cell_type": "code",
   "execution_count": 18,
   "metadata": {},
   "outputs": [
    {
     "data": {
      "text/plain": [
       "[<matplotlib.lines.Line2D at 0x278a6e4b3c8>]"
      ]
     },
     "execution_count": 18,
     "metadata": {},
     "output_type": "execute_result"
    },
    {
     "data": {
      "image/png": "[encoded data removed]",
      "text/plain": [
       "<Figure size 432x288 with 1 Axes>"
      ]
     },
     "metadata": {
      "needs_background": "light"
     },
     "output_type": "display_data"
    }
   ],
   "source": [
    "pl.plot(x)"
   ]
  },
  {
   "cell_type": "code",
   "execution_count": 19,
   "metadata": {},
   "outputs": [
    {
     "data": {
      "text/plain": [
       "[<matplotlib.lines.Line2D at 0x278a7b13908>]"
      ]
     },
     "execution_count": 19,
     "metadata": {},
     "output_type": "execute_result"
    },
    {
     "data": {
      "image/png": "[encoded data removed]",
      "text/plain": [
       "<Figure size 432x288 with 1 Axes>"
      ]
     },
     "metadata": {
      "needs_background": "light"
     },
     "output_type": "display_data"
    }
   ],
   "source": [
    "pl.plot(y)"
   ]
  },
  {
   "cell_type": "code",
   "execution_count": 20,
   "metadata": {},
   "outputs": [
    {
     "data": {
      "text/plain": [
       "901.5999999999999"
      ]
     },
     "execution_count": 20,
     "metadata": {},
     "output_type": "execute_result"
    }
   ],
   "source": []
  },
  {
   "cell_type": "code",
   "execution_count": null,
   "metadata": {},
   "outputs": [],
   "source": []
  }
 ],
 "metadata": {
  "kernelspec": {
   "display_name": "Python 3",
   "language": "python",
   "name": "python3"
  },
  "language_info": {
   "codemirror_mode": {
    "name": "ipython",
    "version": 3
   },
   "file_extension": ".py",
   "mimetype": "text/x-python",
   "name": "python",
   "nbconvert_exporter": "python",
   "pygments_lexer": "ipython3",
   "version": "3.7.4"
  },
  "latex_envs": {
   "LaTeX_envs_menu_present": true,
   "autoclose": false,
   "autocomplete": true,
   "bibliofile": "biblio.bib",
   "cite_by": "apalike",
   "current_citInitial": 1,
   "eqLabelWithNumbers": true,
   "eqNumInitial": 1,
   "hotkeys": {
    "equation": "Ctrl-E",
    "itemize": "Ctrl-I"
   },
   "labels_anchors": false,
   "latex_user_defs": false,
   "report_style_numbering": false,
   "user_envs_cfg": false
  },
  "nbTranslate": {
   "displayLangs": [
    "zh-TW",
    "en"
   ],
   "hotkey": "alt-t",
   "langInMainMenu": true,
   "sourceLang": "en",
   "targetLang": "zh-TW",
   "useGoogleTranslate": true
  },
  "toc": {
   "base_numbering": 1,
   "nav_menu": {},
   "number_sections": true,
   "sideBar": true,
   "skip_h1_title": false,
   "title_cell": "Table of Contents",
   "title_sidebar": "Contents",
   "toc_cell": false,
   "toc_position": {},
   "toc_section_display": true,
   "toc_window_display": false
  },
  "varInspector": {
   "cols": {
    "lenName": 16,
    "lenType": 16,
    "lenVar": 40
   },
   "kernels_config": {
    "python": {
     "delete_cmd_postfix": "",
     "delete_cmd_prefix": "del ",
     "library": "var_list.py",
     "varRefreshCmd": "print(var_dic_list())"
    },
    "r": {
     "delete_cmd_postfix": ") ",
     "delete_cmd_prefix": "rm(",
     "library": "var_list.r",
     "varRefreshCmd": "cat(var_dic_list()) "
    }
   },
   "types_to_exclude": [
    "module",
    "function",
    "builtin_function_or_method",
    "instance",
    "_Feature"
   ],
   "window_display": false
  }
 },
 "nbformat": 4,
 "nbformat_minor": 2
}
