{
 "cells": [
  {
   "cell_type": "markdown",
   "metadata": {},
   "source": [
    "[Local](./ch06.ipynb),\n",
    "[Github](https://github.com/renyuanL/_ryDsp2020/blob/master/code/ch06.ipynb),\n",
    "[Colab](https://colab.research.google.com/github/renyuanL/_ryDsp2020/blob/master/code/ch06.ipynb)\n",
    "\n",
    "[TextBook@greenteapress](http://greenteapress.com/thinkdsp/html/thinkdsp007.html)"
   ]
  },
  {
   "cell_type": "markdown",
   "metadata": {},
   "source": []
  },
  {
   "cell_type": "markdown",
   "metadata": {},
   "source": [
    "# Chapter 6  Discrete cosine transform\n",
    "\n",
    "The topic of this chapter is the Discrete Cosine Transform (DCT), which is used in MP3 and related formats for compressing music; JPEG and similar formats for images; and the MPEG family of formats for video.\n",
    "\n",
    "DCT is similar in many ways to the Discrete Fourier Transform (DFT), which we have been using for spectral analysis. Once we learn how DCT works, it will be easier to explain DFT.\n",
    "\n",
    "Here are the steps to get there:\n",
    "\n",
    "1. We’ll start with the synthesis problem: given a set of frequency components and their amplitudes, how can we construct a wave?\n",
    "1. Next we’ll rewrite the synthesis problem using NumPy arrays. This move is good for performance, and also provides insight for the next step.\n",
    "1. We’ll look at the analysis problem: given a signal and a set of frequencies, how can we find the amplitude of each frequency component? We’ll start with a solution that is conceptually simple but slow.\n",
    "1. Finally, we’ll use some principles from linear algebra to find a more efficient algorithm. If you already know linear algebra, that’s great, but I’ll explain what you need as we go.\n",
    "\n",
    "The code for this chapter is in chap06.ipynb which is in the repository for this book (see Section 0.2). You can also view it at http://tinyurl.com/thinkdsp06."
   ]
  },
  {
   "cell_type": "markdown",
   "metadata": {},
   "source": [
    "# 6.1  Synthesis\n",
    "\n",
    "Suppose I give you a list of amplitudes and a list of frequencies, and ask you to construct a signal that is the sum of these frequency components. Using objects in the thinkdsp module, there is a simple way to perform this operation, which is called synthesis:\n",
    "\n",
    "```python\n",
    "def synthesize1(amps, fs, ts):\n",
    "    \n",
    "    #  [1] List Comprehension, [2] zip function\n",
    "    components = [thinkdsp.CosSignal(freq, amp)\n",
    "                  for amp, freq in zip(amps, fs)] \n",
    "    \n",
    "    # [3] Unpacking Argument Lists\n",
    "    signal = thinkdsp.SumSignal(*components) \n",
    "    \n",
    "\n",
    "    ys = signal.evaluate(ts)\n",
    "    return ys\n",
    "```\n",
    "\n",
    "amps is a list of amplitudes, fs is the list of frequencies, and ts is the sequence of times where the signal should be evaluated.\n",
    "\n",
    "components is a list of CosSignal objects, one for each amplitude-frequency pair. SumSignal represents the sum of these frequency components.\n",
    "\n",
    "Finally, evaluate computes the value of the signal at each time in ts.\n",
    "\n",
    "----\n",
    "- review several Python syntax...\n",
    "\n",
    "[1] [List Comprehension](https://docs.python.org/3/tutorial/datastructures.html#list-comprehensions)\n",
    "[2] [zip function](https://docs.python.org/3/library/functions.html#zip)\n",
    "[3] [Unpacking Argument Lists](https://docs.python.org/3/tutorial/controlflow.html#unpacking-argument-lists)"
   ]
  },
  {
   "cell_type": "code",
   "execution_count": 48,
   "metadata": {},
   "outputs": [],
   "source": [
    "#zip?"
   ]
  },
  {
   "cell_type": "code",
   "execution_count": 50,
   "metadata": {},
   "outputs": [
    {
     "name": "stdout",
     "output_type": "stream",
     "text": [
      "(1, 100)\n",
      "(2, 200)\n",
      "(3, 300)\n",
      "(4, 400)\n"
     ]
    }
   ],
   "source": [
    "amps= [  1,  2,  3,  4]\n",
    "freqs=[100,200,300,400]\n",
    "afs= zip(amps, freqs)\n",
    "\n",
    "for x in afs:\n",
    "    print(x)"
   ]
  },
  {
   "cell_type": "code",
   "execution_count": 51,
   "metadata": {},
   "outputs": [],
   "source": [
    "# afs is a 'generator', after using it, it becomes empty\n",
    "for x in afs:\n",
    "    print(x)"
   ]
  },
  {
   "cell_type": "code",
   "execution_count": 21,
   "metadata": {},
   "outputs": [],
   "source": []
  },
  {
   "cell_type": "code",
   "execution_count": 52,
   "metadata": {},
   "outputs": [
    {
     "data": {
      "text/plain": [
       "[(1, 100), (2, 200), (3, 300), (4, 400)]"
      ]
     },
     "execution_count": 52,
     "metadata": {},
     "output_type": "execute_result"
    }
   ],
   "source": [
    "# to use afs one more, you need to assign it once again\n",
    "afs= zip(amps, freqs)\n",
    "list(afs)"
   ]
  },
  {
   "cell_type": "code",
   "execution_count": 53,
   "metadata": {},
   "outputs": [
    {
     "data": {
      "text/plain": [
       "[]"
      ]
     },
     "execution_count": 53,
     "metadata": {},
     "output_type": "execute_result"
    }
   ],
   "source": [
    "# afs is a 'generator', after using it, it becomes empty\n",
    "list(afs)"
   ]
  },
  {
   "cell_type": "code",
   "execution_count": 59,
   "metadata": {},
   "outputs": [
    {
     "data": {
      "text/plain": [
       "[(1, 100), (2, 200), (3, 300), (4, 400)]"
      ]
     },
     "execution_count": 59,
     "metadata": {},
     "output_type": "execute_result"
    }
   ],
   "source": [
    "# List comprehension\n",
    "\n",
    "[x for x in zip(amps, freqs)]\n"
   ]
  },
  {
   "cell_type": "code",
   "execution_count": 60,
   "metadata": {},
   "outputs": [
    {
     "data": {
      "text/plain": [
       "[(1, 100), (2, 200), (3, 300), (4, 400)]"
      ]
     },
     "execution_count": 60,
     "metadata": {},
     "output_type": "execute_result"
    }
   ],
   "source": [
    "[(a,f) for (a,f) in zip(amps, freqs)]"
   ]
  },
  {
   "cell_type": "code",
   "execution_count": 61,
   "metadata": {},
   "outputs": [
    {
     "data": {
      "text/plain": [
       "[(100, 1), (200, 2), (300, 3), (400, 4)]"
      ]
     },
     "execution_count": 61,
     "metadata": {},
     "output_type": "execute_result"
    }
   ],
   "source": [
    "[(f,a) for (a,f) in zip(amps, freqs)]"
   ]
  },
  {
   "cell_type": "code",
   "execution_count": 62,
   "metadata": {},
   "outputs": [
    {
     "data": {
      "text/plain": [
       "[(1, 100, 101, 100),\n",
       " (2, 200, 202, 400),\n",
       " (3, 300, 303, 900),\n",
       " (4, 400, 404, 1600)]"
      ]
     },
     "execution_count": 62,
     "metadata": {},
     "output_type": "execute_result"
    }
   ],
   "source": [
    "[(a,f,a+f,a*f) for (a,f) in zip(amps, freqs)]"
   ]
  },
  {
   "cell_type": "markdown",
   "metadata": {},
   "source": [
    "We can test this function like this:\n",
    "\n",
    "```python\n",
    "    amps = np.array([0.6, 0.25, 0.1, 0.05])\n",
    "    fs = [100, 200, 300, 400]\n",
    "    framerate = 11025\n",
    "\n",
    "    ts = np.linspace(0, 1, framerate)\n",
    "    ys = synthesize1(amps, fs, ts)\n",
    "    wave = thinkdsp.Wave(ys, framerate)\n",
    "```"
   ]
  },
  {
   "cell_type": "code",
   "execution_count": 110,
   "metadata": {},
   "outputs": [
    {
     "data": {
      "text/html": [
       "\n",
       "                <audio  controls=\"controls\" >\n",
       "                    <source src=\"data:audio/wav;base64,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\" type=\"audio/wav\" />\n",
       "                    Your browser does not support the audio element.\n",
       "                </audio>\n",
       "              "
      ],
      "text/plain": [
       "<IPython.lib.display.Audio object>"
      ]
     },
     "execution_count": 110,
     "metadata": {},
     "output_type": "execute_result"
    },
    {
     "data": {
      "image/png": "[encoded data removed]",
      "text/plain": [
       "<Figure size 432x288 with 1 Axes>"
      ]
     },
     "metadata": {
      "needs_background": "light"
     },
     "output_type": "display_data"
    }
   ],
   "source": [
    "# Let's try it ....\n",
    "import thinkdsp\n",
    "\n",
    "def synthesize1(amps, fs, ts):\n",
    "    \n",
    "    #  [1] List Comprehension, [2] zip function\n",
    "    components= [thinkdsp.CosSignal(freq, amp)\n",
    "                  for amp, freq in zip(amps, fs)] \n",
    "    \n",
    "    # [3] Unpacking Argument Lists\n",
    "    signal= thinkdsp.SumSignal(*components) \n",
    "    \n",
    "    #ys = signal.evaluate(ts)\n",
    "    wave= signal.make_wave()\n",
    "    return wave\n",
    "\n",
    "amps= [  1,   2,   3,   4] \n",
    "fs=   [100, 200, 300, 400]\n",
    "framerate= 11025\n",
    "ts= np.linspace(0, 1, framerate+1) \n",
    "\n",
    "w= synthesize1(amps, fs, ts)\n",
    "\n",
    "w.plot()\n",
    "w.make_audio()\n",
    "\n"
   ]
  },
  {
   "cell_type": "code",
   "execution_count": 63,
   "metadata": {},
   "outputs": [],
   "source": []
  },
  {
   "cell_type": "markdown",
   "metadata": {},
   "source": [
    "This example makes a signal that contains a fundamental frequency at 100 Hz and three harmonics (100 Hz is a sharp G2). It renders the signal for one second at 11,025 (10,000 or so) frames per second and puts the results into a Wave object.\n",
    "\n",
    "Conceptually, synthesis is pretty simple. But in this form it doesn’t help much with analysis, which is the inverse problem: given the wave, how do we identify the frequency components and their amplitudes?"
   ]
  },
  {
   "cell_type": "markdown",
   "metadata": {},
   "source": [
    "# 6.2  Synthesis with numpy arrays\n",
    "\n",
    "\n",
    "![](http://greenteapress.com/thinkdsp/html/thinkdsp035.png)\n",
    "Figure 6.1: Synthesis with arrays.\n",
    "\n",
    "Here’s another way to write synthesize:\n",
    "\n",
    "```python\n",
    "def synthesize2(amps, fs, ts):\n",
    "    args= np.outer(ts, fs)\n",
    "    M=    np.cos(2*π*args)\n",
    "    ys=   np.dot(M, amps)\n",
    "    w=    thinkdsp.Wave(ys)\n",
    "    return w #ys\n",
    "```\n",
    "\n",
    "This function looks very different, but it does the same thing. Let’s see how it works:\n",
    "\n",
    "1. np.outer() computes the `outer product` of ts and fs. \n",
    "    - The result is an array with one row for each element of ts and one column for each element of fs. \n",
    "    - Each element in the array is the product of a frequency and a time, $f t$.\n",
    "\n",
    "1. We multiply args by $2 π$ and apply $cos()$, \n",
    "    - so each element of the result is $cos(2 π f t)$. \n",
    "    - Since the ts run down the columns, each column contains a cosine signal at a particular frequency, evaluated at a sequence of times.\n",
    "\n",
    "1. np.dot multiplies each row of M by amps, element-wise, and then adds up the products. \n",
    "    - In terms of linear algebra, we are multiplying a matrix, M, by a vector, amps. In terms of signals, we are computing the weighted sum of frequency components.\n",
    "\n",
    "Figure 6.1 shows the structure of this computation. Each row of the matrix, M, corresponds to a time from 0.0 to 1.0 seconds; tn is the time of the nth row. Each column corresponds to a frequency from 100 to 400 Hz; fk is the frequency of the kth column.\n",
    "\n",
    "I labeled the nth row with the letters a through d; as an example, the value of a is $cos[2 π (100) tn]$.\n",
    "\n",
    "The result of the dot product, ys, is a vector with one element for each row of M. The nth element, labeled e, is the sum of products:\n",
    "\n",
    "$\n",
    "e = 0.6 a + 0.25 b + 0.1 c + 0.05 d \n",
    "$\n",
    "\n",
    "And likewise with the other elements of ys. So each element of y is the sum of four frequency components, evaluated at a point in time, and multiplied by the corresponding amplitudes. And that’s exactly what we wanted.\n",
    "\n",
    "We can use the code from the previous section to check that the two versions of synthesize produce the same results.\n",
    "\n",
    "```python\n",
    "ys1 = synthesize1(amps, fs, ts)\n",
    "ys2 = synthesize2(amps, fs, ts)\n",
    "max(abs(ys1 - ys2))\n",
    "```\n",
    "The biggest difference between ys1 and ys2 is about 1e-13, which is what we expect due to `floating-point errors`.\n",
    "\n",
    "Writing this computation in terms of linear algebra makes the code smaller and faster. Linear algebra provides concise notation for operations on matrices and vectors. For example, we could write synthesize like this:\n",
    "\n",
    "$\n",
    "M\t=\tcos(2 π t ⊗ f) \n",
    "y\t=\tM a\n",
    "$\n",
    "\n",
    "where \n",
    "- $a$ is a vector of amplitudes, \n",
    "- $t$ is a vector of times, \n",
    "- $f$ is a vector of frequencies, \n",
    "- $⊗$ is the symbol for the `outer product` of two vectors."
   ]
  },
  {
   "cell_type": "markdown",
   "metadata": {},
   "source": []
  },
  {
   "cell_type": "code",
   "execution_count": 134,
   "metadata": {},
   "outputs": [
    {
     "data": {
      "text/plain": [
       "(array([ 10,  40,  90, 160]),\n",
       " 300,\n",
       " 300,\n",
       " array([[300]]),\n",
       " array([300]),\n",
       " array([[ 10,  20,  30,  40],\n",
       "        [ 20,  40,  60,  80],\n",
       "        [ 30,  60,  90, 120],\n",
       "        [ 40,  80, 120, 160]]),\n",
       " array([[ 10,  20,  30,  40],\n",
       "        [ 20,  40,  60,  80],\n",
       "        [ 30,  60,  90, 120],\n",
       "        [ 40,  80, 120, 160]]))"
      ]
     },
     "execution_count": 134,
     "metadata": {},
     "output_type": "execute_result"
    }
   ],
   "source": [
    "import numpy as np\n",
    "\n",
    "t= np.array([1,2,3,4])\n",
    "f= np.array([10,20,30,40])\n",
    "\n",
    "t*f,\\\n",
    "\\\n",
    "t@f,\\\n",
    "t.dot(f),\\\n",
    "\\\n",
    "t.reshape(1,-1)@f.reshape(-1,1),\\\n",
    "t.reshape(1,-1)@f.reshape(-1,1).flatten(),\\\n",
    "\\\n",
    "t.reshape(-1,1)@f.reshape(1,-1),\\\n",
    "np.outer(t,f)"
   ]
  },
  {
   "cell_type": "code",
   "execution_count": 130,
   "metadata": {},
   "outputs": [
    {
     "data": {
      "text/plain": [
       "(4.864775249302511e-12, True)"
      ]
     },
     "execution_count": 130,
     "metadata": {},
     "output_type": "execute_result"
    }
   ],
   "source": [
    "# Let's compare  synthesize1 & synthesize2 ....\n",
    "\n",
    "π= np.pi\n",
    "\n",
    "import thinkdsp\n",
    "\n",
    "def synthesize1(amps, fs, ts):\n",
    "\n",
    "    components= [thinkdsp.CosSignal(freq, amp)\n",
    "                  for amp, freq in zip(amps, fs)]     \n",
    "    signal= thinkdsp.SumSignal(*components)     \n",
    "    ys=     signal.evaluate(ts)\n",
    "    return ys\n",
    "\n",
    "def synthesize2(amps, fs, ts):\n",
    "    \n",
    "    args= np.outer(ts, fs)\n",
    "    M=    np.cos(2*π*args)\n",
    "    ys=   np.dot(M, amps)\n",
    "    \n",
    "    #ys=   M @ amps.reshape(-1,1)\n",
    "    #ys=   ys.flatten()\n",
    "    \n",
    "    return ys\n",
    "\n",
    "amps= np.array([  1,   2,   3,   4,   5])\n",
    "fs=   np.array([100, 200, 300, 400, 500])\n",
    "\n",
    "framerate= 10000\n",
    "ts= np.linspace(0, 1, framerate+1) \n",
    "\n",
    "ys1= synthesize1(amps, fs, ts)\n",
    "ys2= synthesize2(amps, fs, ts)\n",
    "\n",
    "np.abs(ys1-ys2).max(), \\\n",
    "np.allclose(ys1, ys2)"
   ]
  },
  {
   "cell_type": "markdown",
   "metadata": {},
   "source": [
    "# 6.3  Analysis\n",
    "\n",
    "Now we are ready to solve the analysis problem. Suppose I give you a wave and tell you that it is the sum of cosines with a given set of frequencies. How would you find the amplitude for each frequency component? In other words, given ys, ts and fs, can you recover amps?\n",
    "\n",
    "In terms of linear algebra, the first step is the same as for synthesis: we compute M = cos(2 π t ⊗ f). Then we want to find a so that $M a = y $; in other words, we want to solve a linear system. NumPy provides linalg.solve, which does exactly that.\n",
    "\n",
    "Here’s what the code looks like:\n",
    "\n",
    "```python\n",
    "def analyze1(ys, fs, ts):\n",
    "    args = np.outer(ts, fs)\n",
    "    M = np.cos(PI2 * args)\n",
    "    amps = np.linalg.solve(M, ys)\n",
    "    return amps\n",
    "```\n",
    "\n",
    "The first two lines use ts and fs to build the matrix, $M$. Then np.linalg.solve computes amps.\n",
    "\n",
    "But there’s a hitch. In general we can only solve a system of linear equations if `the matrix is square`; that is, the number of equations (rows) is the same as the number of unknowns (columns).\n",
    "\n",
    "In this example, we have only 4 frequencies, but we evaluated the signal at 11,025 times. So we have many more equations than unknowns.\n",
    "\n",
    "In general if ys contains more than 4 elements, it is unlikely that we can analyze it using only 4 frequencies.\n",
    "\n",
    "But in this case, we know that the ys were actually generated by adding only 4 frequency components, so we can use any 4 values from the wave array to recover amps.\n",
    "\n",
    "For simplicity, I’ll use the first 4 samples from the signal. Using the values of ys, fs and ts from the previous section, we can run analyze1 like this:\n",
    "\n",
    "```python\n",
    "n = len(fs) # len(fs) << len(ts) in this case\n",
    "amps2 = analyze1(ys[:n], fs, ts[:n])\n",
    "```\n",
    "\n",
    "And sure enough, amps2 is\n",
    "\n",
    "[ 0.6   0.25  0.1   0.05 ]\n",
    "\n",
    "This algorithm works, but it is slow. \n",
    "Solving a linear system of equations takes time proportional to $n^3$, \n",
    "where n is the number of columns in M. \n",
    "\n",
    "We can do better.... \n",
    "but let's play with np.linalg.solve() for a while.."
   ]
  },
  {
   "cell_type": "code",
   "execution_count": null,
   "metadata": {},
   "outputs": [],
   "source": [
    "import numpy as np\n",
    "π= np.pi\n",
    "\n",
    "t= np.array([.1,.2,.3,.4]).reshape(-1,1)\n",
    "f= np.array([ 1, 2, 3, 4]).reshape(1,-1)\n",
    "a= np.array([10, 20,30,40]).reshape(-1,1)"
   ]
  },
  {
   "cell_type": "code",
   "execution_count": 231,
   "metadata": {},
   "outputs": [
    {
     "data": {
      "text/plain": [
       "(array([[0.1],\n",
       "        [0.2],\n",
       "        [0.3],\n",
       "        [0.4]]), (4, 1))"
      ]
     },
     "execution_count": 231,
     "metadata": {},
     "output_type": "execute_result"
    }
   ],
   "source": [
    "t, t.shape"
   ]
  },
  {
   "cell_type": "code",
   "execution_count": 232,
   "metadata": {},
   "outputs": [
    {
     "data": {
      "text/plain": [
       "(array([[1, 2, 3, 4]]), (1, 4))"
      ]
     },
     "execution_count": 232,
     "metadata": {},
     "output_type": "execute_result"
    }
   ],
   "source": [
    "f, f.shape"
   ]
  },
  {
   "cell_type": "code",
   "execution_count": 233,
   "metadata": {},
   "outputs": [
    {
     "data": {
      "text/plain": [
       "(array([[10],\n",
       "        [20],\n",
       "        [30],\n",
       "        [40]]), (4, 1))"
      ]
     },
     "execution_count": 233,
     "metadata": {},
     "output_type": "execute_result"
    }
   ],
   "source": [
    "a, a.shape"
   ]
  },
  {
   "cell_type": "code",
   "execution_count": 234,
   "metadata": {},
   "outputs": [
    {
     "data": {
      "text/plain": [
       "(array([[ 0.80901699,  0.30901699, -0.30901699, -0.80901699],\n",
       "        [ 0.30901699, -0.80901699, -0.80901699,  0.30901699],\n",
       "        [-0.30901699, -0.80901699,  0.80901699,  0.30901699],\n",
       "        [-0.80901699,  0.30901699,  0.30901699, -0.80901699]]), (4, 4))"
      ]
     },
     "execution_count": 234,
     "metadata": {},
     "output_type": "execute_result"
    }
   ],
   "source": [
    "M= t@f\n",
    "M= np.cos(M*π*2)\n",
    "M, M.shape"
   ]
  },
  {
   "cell_type": "code",
   "execution_count": 235,
   "metadata": {},
   "outputs": [
    {
     "data": {
      "text/plain": [
       "(array([[-27.36067977],\n",
       "        [-25.        ],\n",
       "        [ 17.36067977],\n",
       "        [-25.        ]]), (4, 1))"
      ]
     },
     "execution_count": 235,
     "metadata": {},
     "output_type": "execute_result"
    }
   ],
   "source": [
    "y= M @ a\n",
    "y, y.shape"
   ]
  },
  {
   "cell_type": "code",
   "execution_count": 236,
   "metadata": {},
   "outputs": [
    {
     "data": {
      "text/plain": [
       "(array([[10.],\n",
       "        [20.],\n",
       "        [30.],\n",
       "        [40.]]), (4, 1))"
      ]
     },
     "execution_count": 236,
     "metadata": {},
     "output_type": "execute_result"
    }
   ],
   "source": [
    "a1= np.linalg.solve(M, y)\n",
    "a1, a1.shape"
   ]
  },
  {
   "cell_type": "code",
   "execution_count": 237,
   "metadata": {},
   "outputs": [
    {
     "data": {
      "text/plain": [
       "(array([[10.],\n",
       "        [20.],\n",
       "        [30.],\n",
       "        [40.]]), (4, 1))"
      ]
     },
     "execution_count": 237,
     "metadata": {},
     "output_type": "execute_result"
    }
   ],
   "source": [
    "a2= np.linalg.inv(M) @ y\n",
    "a2, a2.shape"
   ]
  },
  {
   "cell_type": "code",
   "execution_count": null,
   "metadata": {},
   "outputs": [],
   "source": []
  },
  {
   "cell_type": "markdown",
   "metadata": {},
   "source": [
    "# 6.4  Orthogonal matrices\n",
    "\n",
    "One way to solve linear systems is by `inverting matrices`. \n",
    "- The inverse of a matrix $M$ is written $M^{−1}$, \n",
    "- and it has the property that $M^{−1} \\cdot M = I$. \n",
    "- $I$ is the identity matrix, which has the value $1$ on all diagonal elements and $0$ everywhere else.\n",
    "\n",
    "So, to solve the equation $y = M \\cdot a$, \n",
    "we can multiply both sides by $M^{−1}$, which yields:\n",
    "\n",
    "$M^{−1}y = M^{−1} M a $\n",
    "\n",
    "On the right side, we can replace $M^{−1} \\cdot M$ with $I$:\n",
    "\n",
    "$M^{−1} y = I a $\n",
    "\n",
    "If we multiply I by any vector a, the result is a, so\n",
    "\n",
    "$M^{−1}y = a $ \n",
    "\n",
    "This implies that if we can compute $M^{−1}$ efficiently, \n",
    "we can find $a$ with a simple matrix multiplication \n",
    "- `np.dot()`\n",
    "- `np.matmul()`\n",
    "- `@` operator \n",
    "\n",
    "That takes time proportional to $n^2$, which is better than $n^3$."
   ]
  },
  {
   "cell_type": "code",
   "execution_count": 244,
   "metadata": {},
   "outputs": [
    {
     "data": {
      "text/plain": [
       "(10, 10, 10)"
      ]
     },
     "execution_count": 244,
     "metadata": {},
     "output_type": "execute_result"
    }
   ],
   "source": [
    "v1= np.array([1,1,1,1]) \n",
    "v2= np.array([1,2,3,4])\n",
    "\n",
    "v1.dot(v2), v1 @ v2, np.matmul(v1,v2)"
   ]
  },
  {
   "cell_type": "code",
   "execution_count": 247,
   "metadata": {},
   "outputs": [
    {
     "data": {
      "text/plain": [
       "(array([[1, 1, 1, 1]]), array([[1],\n",
       "        [2],\n",
       "        [3],\n",
       "        [4]]))"
      ]
     },
     "execution_count": 247,
     "metadata": {},
     "output_type": "execute_result"
    }
   ],
   "source": [
    "v1=v1.reshape(1,-1)\n",
    "v2=v2.reshape(-1,1)\n",
    "v1,v2"
   ]
  },
  {
   "cell_type": "code",
   "execution_count": 248,
   "metadata": {},
   "outputs": [
    {
     "data": {
      "text/plain": [
       "(array([[10]]), array([[10]]), array([[10]]))"
      ]
     },
     "execution_count": 248,
     "metadata": {},
     "output_type": "execute_result"
    }
   ],
   "source": [
    "v1.dot(v2), v1 @ v2, np.matmul(v1,v2)"
   ]
  },
  {
   "cell_type": "code",
   "execution_count": 250,
   "metadata": {},
   "outputs": [
    {
     "data": {
      "text/plain": [
       "(array([[1, 1, 1, 1],\n",
       "        [2, 2, 2, 2],\n",
       "        [3, 3, 3, 3],\n",
       "        [4, 4, 4, 4]]), array([[1, 1, 1, 1],\n",
       "        [2, 2, 2, 2],\n",
       "        [3, 3, 3, 3],\n",
       "        [4, 4, 4, 4]]), array([[1, 1, 1, 1],\n",
       "        [2, 2, 2, 2],\n",
       "        [3, 3, 3, 3],\n",
       "        [4, 4, 4, 4]]))"
      ]
     },
     "execution_count": 250,
     "metadata": {},
     "output_type": "execute_result"
    }
   ],
   "source": [
    "v2.dot(v1), v2 @ v1, np.matmul(v2,v1)\n"
   ]
  },
  {
   "cell_type": "markdown",
   "metadata": {},
   "source": [
    "Inverting a matrix is slow, in general, but some special cases are faster. \n",
    "\n",
    "In particular, if $M$ is orthogonal, the inverse of $M$ is just the `transpose` of $M$, written $M^T$. \n",
    "\n",
    "In NumPy, transposing an array is a constant-time operation. \n",
    "It doesn’t actually move the elements of the array; \n",
    "instead, it creates a “view” that changes the way the elements are accessed.\n",
    "\n",
    "Again, a matrix is orthogonal if its transpose is also its inverse; that is, $M^T = M^{−1}$. That implies that $M^{T} M = I$, which means we can check whether a matrix is orthogonal by computing $M^{T} M$.\n",
    "\n",
    "So let’s see what the matrix looks like in `def synthesize2()`. In the previous example, $M$ has 11,025 rows, so it might be a good idea to work with a smaller example:\n",
    "\n",
    "```python\n",
    "def test1():\n",
    "    amps = np.array([0.6, 0.25, 0.1, 0.05])\n",
    "    N = 4.0\n",
    "    time_unit = 0.001\n",
    "    ts = np.arange(N) / N * time_unit\n",
    "    max_freq = N / time_unit / 2\n",
    "    fs = np.arange(N) / N * max_freq\n",
    "    ys = synthesize2(amps, fs, ts)\n",
    "```\n",
    "\n",
    "amps is the same vector of amplitudes we saw before. \n",
    "\n",
    "Since we have 4 frequency components, we’ll sample the signal at 4 points in time. That way, M is square.\n",
    "\n",
    "ts is a vector of equally spaced sample times in the range from 0 to 1 time unit. \n",
    "\n",
    "I chose the time unit to be 1 millisecond, but it is an arbitrary choice, and we will see in a minute that it drops out of the computation anyway.\n",
    "\n",
    "Since the frame rate is N samples per time unit, the Nyquist frequency is N / time_unit / 2, which is 2000 Hz in this example. \n",
    "\n",
    "So fs is a vector of equally spaced frequencies between 0 and 2000 Hz.\n",
    "\n",
    "With these values of ts and fs, the matrix, M, is:\n",
    "\n",
    "``` python\n",
    "[[ 1.     1.     1.     1.   ]\n",
    " [ 1.     0.707  0.    -0.707]\n",
    " [ 1.     0.    -1.    -0.   ]\n",
    " [ 1.    -0.707 -0.     0.707]]\n",
    "```\n",
    "\n",
    "You might recognize 0.707 as an approximation of $\\sqrt{2}/2$, which is $cos(π)/4$. \n",
    "\n",
    "You also might notice that this matrix is symmetric, which means that the element at (j, k) always equals the element at (k, j). This implies that M is its own transpose; that is, $M^T = M$.\n",
    "\n",
    "But sadly, M is not orthogonal. If we compute $M^{T}M$, we get:\n",
    "\n",
    "```python\n",
    "[[ 4.  1. -0.  1.]\n",
    " [ 1.  2.  1. -0.]\n",
    " [-0.  1.  2.  1.]\n",
    " [ 1. -0.  1.  2.]]\n",
    "```\n",
    "\n",
    "And that’s not the identity matrix."
   ]
  },
  {
   "cell_type": "markdown",
   "metadata": {},
   "source": [
    "# 6.5  DCT-IV\n",
    "\n",
    "But if we choose ts and fs carefully, we can make M orthogonal. There are several ways to do it, which is why there are several versions of the discrete cosine transform (DCT).\n",
    "\n",
    "One simple option is to shift ts and fs by a half unit. This version is called DCT-IV, where “IV” is a roman numeral indicating that this is the fourth of eight versions of the DCT.\n",
    "\n",
    "Here’s an updated version of test1:\n",
    "```python\n",
    "def test2():\n",
    "    amps = np.array([0.6, 0.25, 0.1, 0.05])\n",
    "    N = 4.0\n",
    "    ts = (0.5 + np.arange(N)) / N\n",
    "    fs = (0.5 + np.arange(N)) / 2\n",
    "    ys = synthesize2(amps, fs, ts)\n",
    "```    \n",
    "If you compare this to the previous version, you’ll notice two changes. First, I added 0.5 to ts and fs. Second, I canceled out time_units, which simplifies the expression for fs.\n",
    "\n",
    "With these values, M is\n",
    "```python\n",
    "[[ 0.981  0.831  0.556  0.195]\n",
    " [ 0.831 -0.195 -0.981 -0.556]\n",
    " [ 0.556 -0.981  0.195  0.831]\n",
    " [ 0.195 -0.556  0.831 -0.981]]\n",
    "``` \n",
    "\n",
    "And MTM is\n",
    "```python\n",
    "[[ 2.  0.  0.  0.]\n",
    " [ 0.  2. -0.  0.]\n",
    " [ 0. -0.  2. -0.]\n",
    " [ 0.  0. -0.  2.]]\n",
    "```\n",
    "\n",
    "Some of the off-diagonal elements are displayed as -0, which means that the floating-point representation is a small negative number. This matrix is very close to 2I, which means M is almost orthogonal; it’s just off by a factor of 2. And for our purposes, that’s good enough.\n",
    "\n",
    "Because M is symmetric and (almost) orthogonal, the inverse of M is just M/2. Now we can write a more efficient version of analyze:\n",
    "\n",
    "```python\n",
    "def analyze2(ys, fs, ts):\n",
    "    args = np.outer(ts, fs)\n",
    "    M = np.cos(PI2 * args)\n",
    "    amps = np.dot(M, ys) / 2\n",
    "    return amps\n",
    "```\n",
    "\n",
    "Instead of using np.linalg.solve, we just multiply by M/2.\n",
    "\n",
    "Combining test2 and analyze2, we can write an implementation of DCT-IV:\n",
    "\n",
    "```python\n",
    "def dct_iv(ys):\n",
    "    N = len(ys)\n",
    "    ts = (0.5 + np.arange(N)) / N\n",
    "    fs = (0.5 + np.arange(N)) / 2\n",
    "    args = np.outer(ts, fs)\n",
    "    M = np.cos(PI2 * args)\n",
    "    amps = np.dot(M, ys) / 2\n",
    "    return amps\n",
    "```\n",
    "Again, ys is the wave array. We don’t have to pass ts and fs as parameters; dct_iv can figure them out based on N, the length of ys.\n",
    "\n",
    "If we’ve got it right, this function should solve the analysis problem; that is, given ys it should be able to recover amps. We can test it like this.\n",
    "\n",
    "```python\n",
    "amps = np.array([0.6, 0.25, 0.1, 0.05])\n",
    "N = 4.0\n",
    "ts = (0.5 + np.arange(N)) / N\n",
    "fs = (0.5 + np.arange(N)) / 2\n",
    "ys = synthesize2(amps, fs, ts)\n",
    "amps2 = dct_iv(ys)\n",
    "max(abs(amps - amps2))\n",
    "```\n",
    "\n",
    "Starting with amps, we synthesize a wave array, then use dct_iv to compute amps2. The biggest difference between amps and amps2 is about 1e-16, which is what we expect due to floating-point errors."
   ]
  },
  {
   "cell_type": "markdown",
   "metadata": {},
   "source": [
    "# 6.6  Inverse DCT\n",
    "\n",
    "Finally, notice that analyze2 and synthesize2 are almost identical. The only difference is that analyze2 divides the result by 2. We can use this insight to compute the inverse DCT:\n",
    "\n",
    "```python\n",
    "def inverse_dct_iv(amps):\n",
    "    return dct_iv(amps) * 2\n",
    "```\n",
    "inverse_dct_iv solves the synthesis problem: it takes the vector of amplitudes and returns the wave array, ys. We can test it by starting with amps, applying inverse_dct_iv and dct_iv, and testing that we get back what we started with.\n",
    "\n",
    "```python\n",
    "amps = [0.6, 0.25, 0.1, 0.05]\n",
    "ys = inverse_dct_iv(amps)\n",
    "amps2 = dct_iv(ys)\n",
    "max(abs(amps - amps2))\n",
    "```\n",
    "\n",
    "Again, the biggest difference is about `1e-16`."
   ]
  },
  {
   "cell_type": "markdown",
   "metadata": {},
   "source": [
    "# 6.7  The Dct class\n",
    "\n",
    "![](http://greenteapress.com/thinkdsp/html/thinkdsp036.png)\n",
    "\n",
    "Figure 6.2: DCT of a triangle signal at 400 Hz, sampled at 10 kHz.\n",
    "\n",
    "`thinkdsp` provides a Dct class that encapsulates the DCT in the same way the Spectrum class encapsulates the FFT. To make a Dct object, you can invoke make_dct on a Wave.\n",
    "\n",
    "```python\n",
    "signal = thinkdsp.TriangleSignal(freq=400)\n",
    "wave = signal.make_wave(duration=1.0, framerate=10000)\n",
    "dct = wave.make_dct()\n",
    "dct.plot()\n",
    "```\n",
    "\n",
    "The result is the DCT of a triangle wave at 400 Hz, shown in Figure 6.2. The values of the DCT can be positive or negative; a negative value in the DCT corresponds to a negated cosine or, equivalently, to a cosine shifted by 180 degrees.\n",
    "\n",
    "make_dct uses DCT-II, which is the most common type of DCT, provided by scipy.fftpack.\n",
    "\n",
    "```python\n",
    "import scipy.fftpack\n",
    "\n",
    "class Wave:\n",
    "    def make_dct(self):\n",
    "        N = len(self.ys)\n",
    "        hs = scipy.fftpack.dct(self.ys, type=2)\n",
    "        fs = (0.5 + np.arange(N)) / 2\n",
    "        return Dct(hs, fs, self.framerate)\n",
    "```\n",
    "The results from dct are stored in hs. The corresponding frequencies, computed as in Section 6.5, are stored in fs. And then both are used to initialize the Dct object.\n",
    "\n",
    "Dct provides make_wave, which performs the inverse DCT. We can test it like this:\n",
    "\n",
    "```python\n",
    "wave2 = dct.make_wave()\n",
    "max(abs(wave.ys-wave2.ys))\n",
    "```\n",
    "\n",
    "The biggest difference between ys1 and ys2 is about 1e-16, which is what we expect due to floating-point errors.\n",
    "\n",
    "make_wave uses scipy.fftpack.idct:\n",
    "\n",
    "```python\n",
    "class Dct\n",
    "    def make_wave(self):\n",
    "        n = len(self.hs)\n",
    "        ys = scipy.fftpack.idct(self.hs, type=2) / 2 / n\n",
    "        return Wave(ys, framerate=self.framerate)\n",
    "```\n",
    "\n",
    "Be default, the inverse DCT doesn’t normalize the result, so we have to divide through by 2N."
   ]
  },
  {
   "cell_type": "markdown",
   "metadata": {},
   "source": [
    "# 6.8  Exercises\n",
    "\n",
    "For the following exercises, I provide some starter code in chap06starter.ipynb. Solutions are in chap06soln.ipynb.\n",
    "\n",
    "`Exercise 1`   \n",
    "\n",
    "In this chapter I claim that analyze1 takes time proportional to n3 and analyze2 takes time proportional to n2. To see if that’s true, run them on a range of input sizes and time them. In Jupyter, you can use the “magic command” %timeit.\n",
    "If you plot run time versus input size on a log-log scale, you should get a straight line with slope 3 for analyze1 and slope 2 for analyze2.\n",
    "\n",
    "You also might want to test dct_iv and scipy.fftpack.dct.\n",
    "\n",
    "`Exercise 2`   \n",
    "\n",
    "One of the major applications of the DCT is compression for both sound and images. In its simplest form, DCT-based compression works like this:\n",
    "Break a long signal into segments.\n",
    "Compute the DCT of each segment.\n",
    "Identify frequency components with amplitudes so low they are inaudible, and remove them. Store only the frequencies and amplitudes that remain.\n",
    "To play back the signal, load the frequencies and amplitudes for each segment and apply the inverse DCT.\n",
    "Implement a version of this algorithm and apply it to a recording of music or speech. How many components can you eliminate before the difference is perceptible?\n",
    "\n",
    "In order to make this method practical, you need some way to store a sparse array; that is, an array where most of the elements are zero. NumPy provides several implementations of sparse arrays, which you can read about at http://docs.scipy.org/doc/scipy/reference/sparse.html.\n",
    "\n",
    "`Exercise 3`   \n",
    "\n",
    "In the repository for this book you will find a Jupyter notebook called phase.ipynb that explores the effect of phase on sound perception. Read through this notebook and run the examples. Choose another segment of sound and run the same experiments. Can you find any general relationships between the phase structure of a sound and how we perceive it?"
   ]
  },
  {
   "cell_type": "markdown",
   "metadata": {},
   "source": []
  },
  {
   "cell_type": "markdown",
   "metadata": {},
   "source": []
  }
 ],
 "metadata": {
  "kernelspec": {
   "display_name": "Python 3",
   "language": "python",
   "name": "python3"
  },
  "language_info": {
   "codemirror_mode": {
    "name": "ipython",
    "version": 3
   },
   "file_extension": ".py",
   "mimetype": "text/x-python",
   "name": "python",
   "nbconvert_exporter": "python",
   "pygments_lexer": "ipython3",
   "version": "3.7.4"
  },
  "latex_envs": {
   "LaTeX_envs_menu_present": true,
   "autoclose": false,
   "autocomplete": true,
   "bibliofile": "biblio.bib",
   "cite_by": "apalike",
   "current_citInitial": 1,
   "eqLabelWithNumbers": true,
   "eqNumInitial": 1,
   "hotkeys": {
    "equation": "Ctrl-E",
    "itemize": "Ctrl-I"
   },
   "labels_anchors": false,
   "latex_user_defs": false,
   "report_style_numbering": false,
   "user_envs_cfg": false
  },
  "nbTranslate": {
   "displayLangs": [
    "zh-TW",
    "en"
   ],
   "hotkey": "alt-t",
   "langInMainMenu": true,
   "sourceLang": "en",
   "targetLang": "zh-TW",
   "useGoogleTranslate": true
  },
  "toc": {
   "base_numbering": 1,
   "nav_menu": {},
   "number_sections": true,
   "sideBar": true,
   "skip_h1_title": false,
   "title_cell": "Table of Contents",
   "title_sidebar": "Contents",
   "toc_cell": false,
   "toc_position": {},
   "toc_section_display": true,
   "toc_window_display": true
  },
  "varInspector": {
   "cols": {
    "lenName": 16,
    "lenType": 16,
    "lenVar": 40
   },
   "kernels_config": {
    "python": {
     "delete_cmd_postfix": "",
     "delete_cmd_prefix": "del ",
     "library": "var_list.py",
     "varRefreshCmd": "print(var_dic_list())"
    },
    "r": {
     "delete_cmd_postfix": ") ",
     "delete_cmd_prefix": "rm(",
     "library": "var_list.r",
     "varRefreshCmd": "cat(var_dic_list()) "
    }
   },
   "types_to_exclude": [
    "module",
    "function",
    "builtin_function_or_method",
    "instance",
    "_Feature"
   ],
   "window_display": false
  }
 },
 "nbformat": 4,
 "nbformat_minor": 2
}
