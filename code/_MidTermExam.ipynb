{
 "cells": [
  {
   "cell_type": "markdown",
   "metadata": {},
   "source": [
    "# 訊號與系統期中考 2020/05/05, 13:00~15:00\n",
    "\n",
    "1. 請使用電腦，作出結果後，把【程式碼】以及【執行結果】抄寫在答案紙上。\n",
    "\n",
    "2. 下課之後，於今晚 23:59前，以作業的型式重寫本試題，作業內容上傳於訊號與系統教學團隊(Microsoft Team)之【作業】之中。"
   ]
  },
  {
   "cell_type": "markdown",
   "metadata": {},
   "source": [
    "## [1]\n",
    "\n",
    "1. A trombone (長號，亦稱伸縮喇叭或伸縮號) player can play a glissando (滑音) by extending the trombone slide while blowing continuously. ![](https://upload.wikimedia.org/wikipedia/commons/6/6d/Posaune.jpg) As the slide extends, the total length of the tube gets longer, and the resulting `pitch is inversely proportional to length`. Assuming that the player moves the slide `at a constant speed`, how does frequency vary with time?\n",
    "1. Write a class called `class YournameTrombone(Chirp):` that extends `Chirp` and provides `def evaluate():`. 【Yourname】代表你的名字的英文縮寫，2個字母即可。 \n",
    "1. Make a wave that simulates a trombone glissando from A3 (=220Hz) up to A4 (= 440Hz)\n",
    "1. Plot a spectrogram of the resulting wave. "
   ]
  },
  {
   "cell_type": "markdown",
   "metadata": {},
   "source": [
    "## [2]\n",
    "\n",
    "1. 請生成1個 Uncorrelated Gaussian Noise (無相關高斯分布噪音), duration 設為 1 sec, sample frequency 設為 10K Hz, 把這個物件命名為 x, 請問 x.ys.shape = ?\n",
    "\n",
    "1. 作出 x 之 波形圖 (wave form)，它的振幅之最大值 (max)=? 它的平均值(mean)=? 它的標準差 (std) = ?\n",
    "\n",
    "1. 作出 x 之 spectrum (頻譜圖), 把這個物件命名為 sx, 請問 sx.hs.shape = ?\n",
    "\n",
    "1. 作出 x 之 integrated spectrum (累積型頻譜圖)\n",
    "\n",
    "1. 作出 log-scale (對數刻度) 之 integrated spectrum (累積型頻譜圖)\n",
    "\n",
    "1. 估測 log-scale (對數刻度) 之 integrated spectrum (累積型頻譜圖) 之 slope (斜率)\n",
    "\n",
    "1. class Wave 之中也有一個能作出 integrated wave (累積型訊號波形)之方法 (method)，名為 def cumsum()，請運用它來作出 x 之 integrated wave，把它命名為 y.\n",
    "\n",
    "1. 估測 y 之 log-scale (對數刻度) 之 integrated spectrum (累積型頻譜圖) 之 slope (斜率)\n",
    "\n",
    "1. 請生成1個 Brownian Noise (布朗噪音), duration 設為 1 sec, sample frequency 設為 10K Hz, 把這個物件命名為 z, 請作出 z 之 log-scale (對數刻度) 之 integrated spectrum (累積型頻譜圖)，並估測其斜率 slope=?\n",
    "\n",
    "1. 承上1小題，根據這個估測出來的 slope, z 比較近似 x 或者是 y ?"
   ]
  },
  {
   "cell_type": "markdown",
   "metadata": {},
   "source": [
    "## [3]\n",
    "\n",
    "我們可以從 Yahoo Finance 網站找到美國股市各種指數的歷史資料，其中一項最有名的是\n",
    "【標準普爾500】指數(Standard & Poor’s 500, 標普500 ), @ https://finance.yahoo.com/quote/%5EGSPC/history?p=%5EGSPC\n",
    "you can see the S&P 500 index \n",
    "\n",
    "請利用以下指令把該指數的歷史資料下載成 csv 檔案，然後在 Jupyter 的環境，使用 pandas 模組把它讀進來，開始作以下各種處理。\n",
    "\n",
    "1. Download it as a CSV file or use the following `aUrl` directly\n",
    "```python\n",
    "aUrl= 'https://query1.finance.yahoo.com/v7/finance/download/%5EGSPC?period1=-1325635200&period2=1588550400&interval=1d&events=history'\n",
    "import pandas as pd\n",
    "df= pd.read_csv(aUrl)\n",
    "```\n",
    "1. Read this file and show the information for the first 5 dates and the last 5 dates. 請回答，在這張資料表中，列數 (row number)=? 行數(column number)=?\n",
    "\n",
    "1. plot the the `Close` values v.s. `dates` as a wave-like figure. 你可運用以下 python 指令\n",
    "```python\n",
    "ys= df['Close'].values\n",
    "```\n",
    "取出所有 `Close` 欄位的資料，作為一個 numpy 之 array，請把這取出的數列，當成 訊號的波型，把它畫出來。另外再進一步只取最近的5000筆資料(約10年間的每日指數資料)，當它成訊號的波型畫出來。\n",
    "```python\n",
    "ys= ys[-5000:]\n",
    "```\n",
    "1. 運用 thinkdsp 中的物件 Wave, Spectrum, ...等等，分析 ys 數列，辨別其近似何種 噪音訊號類型。並說明辨別之依據。"
   ]
  },
  {
   "cell_type": "markdown",
   "metadata": {},
   "source": [
    "![](fg/fg_yahooFinanse.png)"
   ]
  },
  {
   "cell_type": "markdown",
   "metadata": {},
   "source": []
  }
 ],
 "metadata": {
  "kernelspec": {
   "display_name": "Python 3",
   "language": "python",
   "name": "python3"
  },
  "language_info": {
   "codemirror_mode": {
    "name": "ipython",
    "version": 3
   },
   "file_extension": ".py",
   "mimetype": "text/x-python",
   "name": "python",
   "nbconvert_exporter": "python",
   "pygments_lexer": "ipython3",
   "version": "3.7.4"
  },
  "latex_envs": {
   "LaTeX_envs_menu_present": true,
   "autoclose": false,
   "autocomplete": true,
   "bibliofile": "biblio.bib",
   "cite_by": "apalike",
   "current_citInitial": 1,
   "eqLabelWithNumbers": true,
   "eqNumInitial": 1,
   "hotkeys": {
    "equation": "Ctrl-E",
    "itemize": "Ctrl-I"
   },
   "labels_anchors": false,
   "latex_user_defs": false,
   "report_style_numbering": false,
   "user_envs_cfg": false
  },
  "nbTranslate": {
   "displayLangs": [
    "zh-TW",
    "en"
   ],
   "hotkey": "alt-t",
   "langInMainMenu": true,
   "sourceLang": "en",
   "targetLang": "zh-TW",
   "useGoogleTranslate": true
  },
  "toc": {
   "base_numbering": 1,
   "nav_menu": {},
   "number_sections": false,
   "sideBar": true,
   "skip_h1_title": false,
   "title_cell": "Table of Contents",
   "title_sidebar": "Contents",
   "toc_cell": false,
   "toc_position": {
    "height": "calc(100% - 180px)",
    "left": "10px",
    "top": "150px",
    "width": "165px"
   },
   "toc_section_display": true,
   "toc_window_display": false
  },
  "varInspector": {
   "cols": {
    "lenName": 16,
    "lenType": 16,
    "lenVar": 40
   },
   "kernels_config": {
    "python": {
     "delete_cmd_postfix": "",
     "delete_cmd_prefix": "del ",
     "library": "var_list.py",
     "varRefreshCmd": "print(var_dic_list())"
    },
    "r": {
     "delete_cmd_postfix": ") ",
     "delete_cmd_prefix": "rm(",
     "library": "var_list.r",
     "varRefreshCmd": "cat(var_dic_list()) "
    }
   },
   "types_to_exclude": [
    "module",
    "function",
    "builtin_function_or_method",
    "instance",
    "_Feature"
   ],
   "window_display": false
  }
 },
 "nbformat": 4,
 "nbformat_minor": 2
}
